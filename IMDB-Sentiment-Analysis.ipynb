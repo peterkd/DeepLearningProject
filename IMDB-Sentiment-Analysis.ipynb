{
  "nbformat": 4,
  "nbformat_minor": 0,
  "metadata": {
    "colab": {
      "name": "Untitled0.ipynb",
      "provenance": [],
      "authorship_tag": "ABX9TyMtFzaiFC4Yci1ZhLouDePZ",
      "include_colab_link": true
    },
    "kernelspec": {
      "name": "python3",
      "display_name": "Python 3"
    }
  },
  "cells": [
    {
      "cell_type": "markdown",
      "metadata": {
        "id": "view-in-github",
        "colab_type": "text"
      },
      "source": [
        "<a href=\"https://colab.research.google.com/github/peterkd/DeepLearningProject/blob/main/IMDB-Sentiment-Analysis.ipynb\" target=\"_parent\"><img src=\"https://colab.research.google.com/assets/colab-badge.svg\" alt=\"Open In Colab\"/></a>"
      ]
    },
    {
      "cell_type": "code",
      "metadata": {
        "id": "d08TLyRZgmgw"
      },
      "source": [
        ""
      ],
      "execution_count": null,
      "outputs": []
    },
    {
      "cell_type": "markdown",
      "metadata": {
        "id": "7eGyoZ1XgnK-"
      },
      "source": [
        "### Sentiment analysis\n",
        "## IMDB Dataset Sentiment Analysis using Recurrent Autoencoder, BERT and GloVe"
      ]
    },
    {
      "cell_type": "markdown",
      "metadata": {
        "id": "nHO5rxeehzlQ"
      },
      "source": [
        "## Recurrent LSTM with Auto-Encoder"
      ]
    },
    {
      "cell_type": "markdown",
      "metadata": {
        "id": "FWGX1w_Wh0KK"
      },
      "source": [
        "## Summary\n",
        "\n",
        "Recurrent LSTM Autoencoder\n",
        "\n",
        "<table align=\"left\">\n",
        "<td>\n",
        "<a target=\"_blank\" \n",
        "href=\"https://colab.research.google.com/github/peterkd/DeepLearningProject/blob/main/Recurrent_Autoencoder.ipynb\"><img src=\"https://www.tensorflow.org/images/colab_logo_32px.png\" />Run in Google Colab</a>\n",
        "</td>\n",
        "</table>"
      ]
    },
    {
      "cell_type": "markdown",
      "metadata": {
        "id": "AuI-HMxch04i"
      },
      "source": [
        "## BERT"
      ]
    },
    {
      "cell_type": "markdown",
      "metadata": {
        "id": "t_fxBX5jh1oD"
      },
      "source": [
        ""
      ]
    },
    {
      "cell_type": "markdown",
      "metadata": {
        "id": "nVsSado2h2Dh"
      },
      "source": [
        "## GloVe"
      ]
    },
    {
      "cell_type": "markdown",
      "metadata": {
        "id": "NQdA4oIbh2ad"
      },
      "source": [
        ""
      ]
    },
    {
      "cell_type": "markdown",
      "metadata": {
        "id": "MOJZrJrFh2x6"
      },
      "source": [
        ""
      ]
    },
    {
      "cell_type": "markdown",
      "metadata": {
        "id": "b_GlG3_ph3Jt"
      },
      "source": [
        ""
      ]
    },
    {
      "cell_type": "code",
      "metadata": {
        "id": "it_au49lgxl9"
      },
      "source": [
        ""
      ],
      "execution_count": null,
      "outputs": []
    }
  ]
}