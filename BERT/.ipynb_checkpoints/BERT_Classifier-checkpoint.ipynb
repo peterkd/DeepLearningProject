{
 "cells": [
  {
   "cell_type": "markdown",
   "metadata": {
    "id": "Cb4espuLKJiA"
   },
   "source": [
    "##### basedon sample by The TensorFlow Hub Authors.\n"
   ]
  },
  {
   "cell_type": "markdown",
   "metadata": {
    "id": "IZ6SNYq_tVVC"
   },
   "source": [
    "# Classify text with BERT\n",
    "\n",
    "- Load the IMDB dataset\n",
    "- Load a BERT model from TensorFlow Hub\n",
    "- Preprocessing\n",
    "- Build model by combining BERT with a classifier\n",
    "- Train model, fine-tuning BERT as part of that\n",
    "- Save model and use it to classify sentences"
   ]
  },
  {
   "cell_type": "markdown",
   "metadata": {
    "id": "2PHBpLPuQdmK"
   },
   "source": [
    "## About BERT\n",
    "\n",
    "BERT: Bidirectional Encoder Representation from Transformers.\n",
    "\n",
    "Machine learning technique for NLP pre-training, developed by Google. Google has been using BERT to better understand user searches.\n",
    "\n",
    "BERT has two pre-trained types: BERT-base and BERT-large.\n",
    "\n",
    "It is a bidirectional model. It learns from left and right side of token's context during training.\n",
    "\n",
    "![sentence.png](data:image/png;base64,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)\n",
    "\n",
    "\n"
   ]
  },
  {
   "cell_type": "markdown",
   "metadata": {
    "id": "kRergZw2JVhY"
   },
   "source": [
    "BERT uses several types of embeddings:\n",
    "- Position embeddings: position of word in sentence\n",
    "- Segment Embeddings: sentence pairs as inputs to optimize context calculation\n",
    "- Token Embeddings: embeddings learned from WordPiece token vocabulary\n",
    "\n",
    "Input representation is built by summing the associated position, segment, token embeddings."
   ]
  },
  {
   "cell_type": "code",
   "execution_count": null,
   "metadata": {
    "id": "lGgXbUGYJTYG"
   },
   "outputs": [],
   "source": []
  },
  {
   "cell_type": "markdown",
   "metadata": {
    "id": "SCjmX4zTCkRK"
   },
   "source": [
    "## Setup\n",
    "\n",
    "\n"
   ]
  },
  {
   "cell_type": "code",
   "execution_count": 2,
   "metadata": {
    "id": "q-YbjCkzw0yU"
   },
   "outputs": [
    {
     "name": "stdout",
     "output_type": "stream",
     "text": [
      "zsh:1: command not found: pip\r\n"
     ]
    }
   ],
   "source": [
    "# A dependency of the preprocessing for BERT inputs\n",
    "!pip install -q tensorflow-text"
   ]
  },
  {
   "cell_type": "code",
   "execution_count": 3,
   "metadata": {
    "id": "b-P1ZOA0FkVJ"
   },
   "outputs": [
    {
     "name": "stdout",
     "output_type": "stream",
     "text": [
      "zsh:1: command not found: pip\r\n"
     ]
    }
   ],
   "source": [
    "!pip install -q tf-models-official"
   ]
  },
  {
   "cell_type": "code",
   "execution_count": 4,
   "metadata": {
    "id": "_XgTpm9ZxoN9"
   },
   "outputs": [],
   "source": [
    "import tensorflow as tf\n",
    "import tensorflow_hub as hub\n",
    "import tensorflow_text as text\n",
    "from official.nlp import optimization\n",
    "from keras.datasets import imdb\n",
    "import matplotlib.pyplot as plt\n",
    "import tensorflow_datasets as tfds\n",
    "from tensorflow.keras.callbacks import EarlyStopping, ModelCheckpoint, CSVLogger\n",
    "from tensorflow.keras import Sequential\n",
    "from tensorflow.keras.layers import Embedding, Bidirectional, LSTM, Dense, Dropout\n",
    "tf.get_logger().setLevel('ERROR')"
   ]
  },
  {
   "cell_type": "markdown",
   "metadata": {
    "id": "q6MugfEgDRpY"
   },
   "source": [
    "## Sentiment Analysis\n",
    "\n",
    "This notebook trains a sentiment analysis model to classify movie reviews as *positive* or *negative*, based on the text of the review."
   ]
  },
  {
   "cell_type": "markdown",
   "metadata": {
    "id": "Vnvd4mrtPHHV"
   },
   "source": [
    "### Download the IMDB dataset\n",
    "\n",
    "Let's download and extract the dataset, then explore the directory structure.\n",
    "\n"
   ]
  },
  {
   "cell_type": "code",
   "execution_count": 5,
   "metadata": {
    "id": "pOdqCMoQDRJL"
   },
   "outputs": [],
   "source": [
    "#Download the IMDB dataset using TFDS.\n",
    "\n",
    "#dataset, info = tfds.load('imdb_reviews', with_info=True,as_supervised=True)\n",
    "#class_names = info.features['label'].names\n",
    "#train_ds, test_ds = dataset['train'], dataset['test']"
   ]
  },
  {
   "cell_type": "code",
   "execution_count": 6,
   "metadata": {
    "colab": {
     "base_uri": "https://localhost:8080/",
     "height": 367,
     "referenced_widgets": [
      "b88df1f96374496786a2961929d134ee",
      "99be3c796c6749918a86b96983c3187f",
      "f77bf8815e2d450a84fe50fe2ad8d37c",
      "5e99f2a8ea5c4ac38412daddf324dc2e",
      "81c30164d76f482b85982f6de2595f8c",
      "0ee92f8f81aa409b8b2e65acda968402",
      "20847a3d82c24599beb0f3f334ceeaf9",
      "7e9d79fa58eb4344802da4e00b31abab",
      "9625c08e7a174902b0096f46caea45e4",
      "dd931a6388ac4f288055e3227ef732c2",
      "a8cf4891a43d42309c47a8259864a8ef",
      "70d2a268a9c14b2281e676b3cd1269e9",
      "72d7b415ab6e48bdb1f7c81705aca0df",
      "6b935dde232b4665b7f345fc4db7e3e6",
      "e3ffe1cf2c1a4e60a4e00167826e6434",
      "872f8268b6cb4a4593f089685e3581a2",
      "bb47df9c7e2d4ceaa46e5415abc7248f",
      "c10f7becae8849fc961a09e5c2461c74",
      "ef42d4be21ae48c5ae8cfd2347fcd42c",
      "1911012d99d048fbb31659548cee8b46",
      "dbe2df78a3c54e5e8e31b8a880514b5c",
      "0308a4f4c6874e668cf142eab76eedf5",
      "77017712cf8e4f5ea2b06a5f6af40684",
      "51e2e4a4f6a14a5e8c9dc251d38cdeed",
      "466ea988787a47aaa93896c41b2cfa8a",
      "2d4c76cef55545a3b937c4525f4de87c",
      "75306581cd8b4b2da0600d6d1477fa92",
      "47c7deac7de3472c95c6a49f85b55402",
      "ef96a233b6fe4672ac974c9aac955703",
      "d6e25366299845948d7e284d8fccd686",
      "96be7cd2c82b49a69f6c2a49a513d91a",
      "2f3a7802f0b24198b435608f8d2089c0",
      "3a4dc24d5edf419a98a325cdef96e094",
      "f3b5b1356525403e9eb1b8558ed6cb37",
      "70de2523dca0472faa7c94db35f37fab",
      "45071c33e9ca457b95b051a5be57e05e",
      "ad920b0087ca45919783b867bf3f786e",
      "c1d9b47f7cb8498db52e08977603fb97",
      "7f3f619c083044bb9b780968f5b6e142",
      "ab700272eec34e4ea5417a6f7f37e1c3",
      "cb5a0e5144c8412cb009b21627b30362",
      "f580476b9cb1475ab89dcb29cd70a162",
      "29b13fe6401c47198ffc0347fabb3774",
      "af7fb618b512415397f7f1ac96021705",
      "dead037d04bf41a8b2eb35783d6bf3d9",
      "57f3f6ca4ad94640907d5556e29769b2",
      "459a014927504c47a9999ac8a199f335",
      "78e819833cb34007b79199d819d10f86",
      "5d3a10a027b04434affe4b49e5dce5d1",
      "6b366d2b9139457585c83bf75b751ecd",
      "639d4d3006704aefb16f2ad79289dd22",
      "f9620a403c0546189a747eebb1abb5bb",
      "6403e0d303c34dceb9a6ab90a241c05a",
      "234aca7984e44aed9932d8b3bdafbf43",
      "c7b46ca4cfd74a5589cd02d17f3db559",
      "9e25640735eb4b07a910b833ea3497d1",
      "1f7993dfb3fa44ac830e12d73d90b912",
      "31d350e0f6d34f5380ed8e2f8c00530f",
      "1a2956df86204ac686a66818e7268b2a",
      "ad8cb324c7c14a59b5405c23cdbde933",
      "f2a137a6ba614b50ba994d631a53699b",
      "113d9203c3dd4e77bb5cb932944f1674",
      "8feb7a43b08b463eb687727d9cb3d332",
      "906eb19b83a44cacb63b77f3c3500041"
     ]
    },
    "id": "OQ_PfDAtW_G_",
    "outputId": "ce95c476-f24a-4a78-c9da-e355a3cffe94"
   },
   "outputs": [],
   "source": [
    "#Download the IMDB dataset using TFDS and split: train, test, validation datasets\n",
    "splits, info = tfds.load('imdb_reviews', with_info=True, as_supervised=True,\n",
    "split=['train+test[:80]','train+test[80:90]', 'train+test[90:]'])\n",
    "(train_ds, val_ds, test_ds) = splits\n",
    "\n",
    "class_names = info.features['label'].names"
   ]
  },
  {
   "cell_type": "code",
   "execution_count": 7,
   "metadata": {
    "id": "7YFUwvS-_IE0"
   },
   "outputs": [
    {
     "data": {
      "text/plain": [
       "['neg', 'pos']"
      ]
     },
     "execution_count": 7,
     "metadata": {},
     "output_type": "execute_result"
    }
   ],
   "source": [
    "class_names"
   ]
  },
  {
   "cell_type": "code",
   "execution_count": 8,
   "metadata": {
    "id": "6IwI_2bcIeX8"
   },
   "outputs": [],
   "source": [
    "BUFFER_SIZE = 100\n",
    "BATCH_SIZE = 64\n",
    "train_ds = train_ds.shuffle(BUFFER_SIZE).batch(BATCH_SIZE).prefetch(tf.data.experimental.AUTOTUNE)\n",
    "test_ds = test_ds.batch(BATCH_SIZE).prefetch(tf.data.experimental.AUTOTUNE)\n",
    "val_ds = val_ds.batch(BATCH_SIZE).prefetch(tf.data.experimental.AUTOTUNE)"
   ]
  },
  {
   "cell_type": "code",
   "execution_count": 9,
   "metadata": {
    "id": "JuxDkcvVIoev"
   },
   "outputs": [
    {
     "name": "stdout",
     "output_type": "stream",
     "text": [
      "Review: b'I actually had quite high hopes going into this movie, so I took what was given with a grain of salt and hoped for the best. About 1/3 of the way through the film I simply had to give up, quite simply the movie is a mish-mash of stuff happening for no apparent reason and it\\'s all disconnected. I love movies that make you think, but this movie was just a bunch of ideas thrown together and never really connected.<br /><br />Don\\'t think it\\'s David Lynch-esquire as some would have you believe, it is nowhere near that realm other than some trippy visuals. Saying it\\'s artsy to disguise the fact there\\'s no apparent plot or story is just a manner or justifying why you wasted the 1.5 hours in the film. The acting was good, but that cannot save lack of story. I do agree with the one comment posted previously... \"it\\'s like being in some other person\\'s head... while they\\'re on drugs,\" in other words nothing makes sense.'\n",
      "Label : 0 (neg)\n",
      "Review: b'This game is not exactly the best N64 game ever. Sure, it\\'s good, but only when there\\'s 4 players. Without 4 players, the only fun thing to do is take remote mines and see how many people you can kill. But half of this game are levels where you have to save Natalya, so you\\'ll have to limit your use of remote mines in those levels, and that gets quite boring. The graphics don\\'t exactly reach the level of Super Mario 64 or even Mario Kart 64. And if you\\'re talking a great multiplayer in a 1st-person shooter, you\\'ll have to go with Perfect Dark. At least you can play \"multiplayer\" by yourself.'\n",
      "Label : 1 (pos)\n",
      "Review: b'Finally, Timon and Pumbaa in their own film...<br /><br />\\'The Lion King 1 1/2: Hakuna Matata\\' is an irreverent new take on a classic tale. Which classic tale, you ask? Why, \\'The Lion King\\' of course!<br /><br />Yep, if there\\'s one thing that Disney is never short of, it\\'s narcissism.<br /><br />But that doesn\\'t mean that this isn\\'t a good film. It\\'s basically the events of \\'The Lion King\\' as told from Timon and Pumbaa\\'s perspective. And it\\'s because of this that you\\'ll have to know the story of \\'The Lion King\\' by heart to see where they\\'re coming from.<br /><br />Anyway, at one level I was watching this and thinking \"Oh my god this is so lame...\" and on another level I was having a ball. Much of the humour is predictable - I mean, when Pumbaa makes up two beds, a big one for himself and a small one for Timon, within the first nanosecond we all know that Timon is going to take the big one. But that doesn\\'t stop it from being hilarious, which, IMO, is \\'Hakuna Matata\\' in a nutshell. It\\'s not what happens, it\\'s how.<br /><br />And a note of warning: there are also some fart jokes. Seriously, did you expect anything else in a film where Pumbaa takes centre stage? But as fart jokes go, these are especially good, and should satisfy even the most particular connoisseur.<br /><br />The returning voice talent is great. I\\'m kinda surprised that some of the actors were willing to return, what with most of them only having two or three lines (if they\\'re lucky). Whoopi Goldberg is particularly welcome.<br /><br />The music is also great. From \\'Digga Tunnah\\' at the start to \\'That\\'s all I need\\', an adaption of \\'Warthog Rhapsody\\' (a song that was cut from \\'The Lion King\\' and is frankly much improved in this incarnation), the music leaves me with nothing to complain about whatsoever.<br /><br />In the end, Timon and Pumbaa are awesome characters, and while it may be argued that \\'Hakuna Matata\\' is simply an excuse to see them in various fun and assorted compromising situations then so be it. It\\'s rare to find characters that you just want to spend time with.<br /><br />Am I starting to sound creepy?<br /><br />Either way, \\'The Lion King 1 1/2\\' is great if you\\'ve seen \\'The Lion King\\' far too many times. Especially if you are right now thinking \"Don\\'t be silly, there\\'s no such thing as seeing \\'The Lion King\\' too many times!\"'\n",
      "Label : 1 (pos)\n"
     ]
    }
   ],
   "source": [
    "for text_batch, label_batch in train_ds.take(1):\n",
    "  for i in range(3):\n",
    "    print(f'Review: {text_batch.numpy()[i]}')\n",
    "    label = label_batch.numpy()[i]\n",
    "    print(f'Label : {label} ({class_names[label]})')"
   ]
  },
  {
   "cell_type": "code",
   "execution_count": 10,
   "metadata": {
    "id": "y8_ctG55-uTX"
   },
   "outputs": [],
   "source": [
    "#@title Choose a BERT model to fine-tune\n",
    "\n",
    "bert_model_name = 'small_bert/bert_en_uncased_L-4_H-512_A-8'  #@param [\"bert_en_uncased_L-12_H-768_A-12\", \"bert_en_cased_L-12_H-768_A-12\", \"bert_multi_cased_L-12_H-768_A-12\", \"small_bert/bert_en_uncased_L-2_H-128_A-2\", \"small_bert/bert_en_uncased_L-2_H-256_A-4\", \"small_bert/bert_en_uncased_L-2_H-512_A-8\", \"small_bert/bert_en_uncased_L-2_H-768_A-12\", \"small_bert/bert_en_uncased_L-4_H-128_A-2\", \"small_bert/bert_en_uncased_L-4_H-256_A-4\", \"small_bert/bert_en_uncased_L-4_H-512_A-8\", \"small_bert/bert_en_uncased_L-4_H-768_A-12\", \"small_bert/bert_en_uncased_L-6_H-128_A-2\", \"small_bert/bert_en_uncased_L-6_H-256_A-4\", \"small_bert/bert_en_uncased_L-6_H-512_A-8\", \"small_bert/bert_en_uncased_L-6_H-768_A-12\", \"small_bert/bert_en_uncased_L-8_H-128_A-2\", \"small_bert/bert_en_uncased_L-8_H-256_A-4\", \"small_bert/bert_en_uncased_L-8_H-512_A-8\", \"small_bert/bert_en_uncased_L-8_H-768_A-12\", \"small_bert/bert_en_uncased_L-10_H-128_A-2\", \"small_bert/bert_en_uncased_L-10_H-256_A-4\", \"small_bert/bert_en_uncased_L-10_H-512_A-8\", \"small_bert/bert_en_uncased_L-10_H-768_A-12\", \"small_bert/bert_en_uncased_L-12_H-128_A-2\", \"small_bert/bert_en_uncased_L-12_H-256_A-4\", \"small_bert/bert_en_uncased_L-12_H-512_A-8\", \"small_bert/bert_en_uncased_L-12_H-768_A-12\", \"albert_en_base\", \"electra_small\", \"electra_base\", \"experts_pubmed\", \"experts_wiki_books\", \"talking-heads_base\"]\n",
    "\n",
    "map_name_to_handle = {\n",
    "'small_bert/bert_en_uncased_L-4_H-512_A-8':\n",
    "        'https://tfhub.dev/tensorflow/small_bert/bert_en_uncased_L-4_H-512_A-8/1',\n",
    "}\n",
    "\n",
    "map_model_to_preprocess = {\n",
    "    'small_bert/bert_en_uncased_L-4_H-512_A-8':\n",
    "        'https://tfhub.dev/tensorflow/bert_en_uncased_preprocess/1'\n",
    "}\n",
    "\n",
    "tfhub_handle_encoder = map_name_to_handle[bert_model_name]\n",
    "tfhub_handle_preprocess = map_model_to_preprocess[bert_model_name]\n"
   ]
  },
  {
   "cell_type": "markdown",
   "metadata": {
    "id": "7WrcxxTRDdHi"
   },
   "source": [
    "## The preprocessing model\n",
    "\n",
    "Preprocess: text-to-tensor.\n",
    "\n",
    "** It is not necessary to run pure Python code outside TensorFlow model to preprocess text. \n",
    "\n",
    "Tasks such as stemming, low-frequency words, de-capitalisation are not necessary as they are performed by the preprocessing model.\n",
    "\n",
    "BERT uses the Transformer model. It is an attention mechanism that learns contextual relations between words. BERT uses the Transformer encoder to generate a language model\n"
   ]
  },
  {
   "cell_type": "code",
   "execution_count": 11,
   "metadata": {
    "id": "0SQi-jWd_jzq"
   },
   "outputs": [],
   "source": [
    "bert_preprocess_model = hub.KerasLayer(tfhub_handle_preprocess)"
   ]
  },
  {
   "cell_type": "code",
   "execution_count": 12,
   "metadata": {
    "id": "r9-zCzJpnuwS"
   },
   "outputs": [
    {
     "name": "stdout",
     "output_type": "stream",
     "text": [
      "Keys       : ['input_type_ids', 'input_word_ids', 'input_mask']\n",
      "Shape      : (1, 128)\n",
      "Word Ids   : [ 101 2023 2003 2107 2019 6429 3185  999  102    0    0    0]\n",
      "Input Mask : [1 1 1 1 1 1 1 1 1 0 0 0]\n",
      "Type Ids   : [0 0 0 0 0 0 0 0 0 0 0 0]\n"
     ]
    }
   ],
   "source": [
    "text_test = ['this is such an amazing movie!']\n",
    "text_preprocessed = bert_preprocess_model(text_test)\n",
    "\n",
    "print(f'Keys       : {list(text_preprocessed.keys())}')\n",
    "print(f'Shape      : {text_preprocessed[\"input_word_ids\"].shape}')\n",
    "print(f'Word Ids   : {text_preprocessed[\"input_word_ids\"][0, :12]}')\n",
    "print(f'Input Mask : {text_preprocessed[\"input_mask\"][0, :12]}')\n",
    "print(f'Type Ids   : {text_preprocessed[\"input_type_ids\"][0, :12]}')"
   ]
  },
  {
   "cell_type": "markdown",
   "metadata": {
    "id": "DKnLPSEmtp9i"
   },
   "source": [
    "## Using the BERT model\n",
    "\n",
    "BERT outputs"
   ]
  },
  {
   "cell_type": "code",
   "execution_count": 13,
   "metadata": {
    "id": "tXxYpK8ixL34"
   },
   "outputs": [],
   "source": [
    "bert_model = hub.KerasLayer(tfhub_handle_encoder)"
   ]
  },
  {
   "cell_type": "code",
   "execution_count": 14,
   "metadata": {
    "id": "_OoF9mebuSZc"
   },
   "outputs": [
    {
     "name": "stdout",
     "output_type": "stream",
     "text": [
      "Loaded BERT: https://tfhub.dev/tensorflow/small_bert/bert_en_uncased_L-4_H-512_A-8/1\n",
      "Pooled Outputs Shape:(1, 512)\n",
      "Pooled Outputs Values:[ 0.76262933  0.99280983 -0.18611841  0.36673838  0.1523371   0.65504414\n",
      "  0.9681154  -0.94862705  0.00216196 -0.9877732   0.06842704 -0.9763059 ]\n",
      "Sequence Outputs Shape:(1, 128, 512)\n",
      "Sequence Outputs Values:[[-0.28946352  0.3432127   0.33231536 ...  0.2130082   0.71020764\n",
      "  -0.05771179]\n",
      " [-0.28742087  0.31981015 -0.2301858  ...  0.5845512  -0.2132979\n",
      "   0.72692066]\n",
      " [-0.66156995  0.688768   -0.8743304  ...  0.10877246 -0.2617323\n",
      "   0.47855377]\n",
      " ...\n",
      " [-0.22561169 -0.2892561  -0.07064427 ...  0.47566015  0.8327705\n",
      "   0.4002538 ]\n",
      " [-0.29824227 -0.2747312  -0.05450515 ...  0.48849764  1.0955355\n",
      "   0.18163416]\n",
      " [-0.44378257  0.00930772  0.07223713 ...  0.17290124  1.1833248\n",
      "   0.07897964]]\n"
     ]
    }
   ],
   "source": [
    "bert_results = bert_model(text_preprocessed)\n",
    "\n",
    "print(f'Loaded BERT: {tfhub_handle_encoder}')\n",
    "print(f'Pooled Outputs Shape:{bert_results[\"pooled_output\"].shape}')\n",
    "print(f'Pooled Outputs Values:{bert_results[\"pooled_output\"][0, :12]}')\n",
    "print(f'Sequence Outputs Shape:{bert_results[\"sequence_output\"].shape}')\n",
    "print(f'Sequence Outputs Values:{bert_results[\"sequence_output\"][0, :12]}')"
   ]
  },
  {
   "cell_type": "markdown",
   "metadata": {
    "id": "sm61jDrezAll"
   },
   "source": [
    "The BERT models return a map with 3 important keys: \n",
    "\n",
    "- `pooled_output` to represent each input sequence as a whole. The shape is `[batch_size, H]`. You can think of this as an embedding for the entire movie review.\n",
    "\n",
    "- `sequence_output` represents each input token in the context. The shape is `[batch_size, seq_length, H]`. You can think of this as a contextual embedding for every token in the movie review.\n",
    "\n",
    "- `encoder_outputs` are the intermediate activations of the `L` Transformer blocks. `outputs[\"encoder_outputs\"][i]` is a Tensor of shape `[batch_size, seq_length, 1024]` with the outputs of the i-th Transformer block, for `0 <= i < L`. The last value of the list is equal to `sequence_output`.\n",
    "\n",
    "For the fine-tuning you are going to use the `pooled_output` array."
   ]
  },
  {
   "cell_type": "markdown",
   "metadata": {
    "id": "pDNKfAXbDnJH"
   },
   "source": [
    "## Fine-tuned Model definition\n"
   ]
  },
  {
   "cell_type": "code",
   "execution_count": 15,
   "metadata": {
    "id": "aksj743St9ga"
   },
   "outputs": [],
   "source": [
    "def build_classifier_model():\n",
    "  text_input = tf.keras.layers.Input(shape=(), dtype=tf.string, name='text')\n",
    "  preprocessing_layer = hub.KerasLayer(tfhub_handle_preprocess, name='preprocessing')\n",
    "  encoder_inputs = preprocessing_layer(text_input)\n",
    "  encoder = hub.KerasLayer(tfhub_handle_encoder, trainable=True, name='BERT_encoder')\n",
    "  outputs = encoder(encoder_inputs)\n",
    "  net = outputs['pooled_output']\n",
    "  net = tf.keras.layers.Dropout(0.1)(net)\n",
    "  net = tf.keras.layers.Dense(1, activation=None, name='classifier')(net)\n",
    "  return tf.keras.Model(text_input, net)"
   ]
  },
  {
   "cell_type": "markdown",
   "metadata": {
    "id": "Zs4yhFraBuGQ"
   },
   "source": [
    "Test the model\n",
    "\n"
   ]
  },
  {
   "cell_type": "code",
   "execution_count": 16,
   "metadata": {
    "id": "mGMF8AZcB2Zy"
   },
   "outputs": [
    {
     "name": "stdout",
     "output_type": "stream",
     "text": [
      "tf.Tensor([[0.47364986]], shape=(1, 1), dtype=float32)\n"
     ]
    }
   ],
   "source": [
    "classifier_model = build_classifier_model()\n",
    "bert_raw_result = classifier_model(tf.constant(text_test))\n",
    "print(tf.sigmoid(bert_raw_result))"
   ]
  },
  {
   "cell_type": "markdown",
   "metadata": {
    "id": "ZTUzNV2JE2G3"
   },
   "source": [
    "Model structure"
   ]
  },
  {
   "cell_type": "code",
   "execution_count": 17,
   "metadata": {
    "id": "0EmzyHZXKIpm"
   },
   "outputs": [
    {
     "name": "stdout",
     "output_type": "stream",
     "text": [
      "('Failed to import pydot. You must `pip install pydot` and install graphviz (https://graphviz.gitlab.io/download/), ', 'for `pydotprint` to work.')\n"
     ]
    }
   ],
   "source": [
    "tf.keras.utils.plot_model(classifier_model)"
   ]
  },
  {
   "cell_type": "markdown",
   "metadata": {
    "id": "WbUWoZMwc302"
   },
   "source": [
    "## Model training"
   ]
  },
  {
   "cell_type": "code",
   "execution_count": 18,
   "metadata": {
    "id": "OWPOZE-L3AgE"
   },
   "outputs": [],
   "source": [
    "# Binary classification\n",
    "loss = tf.keras.losses.BinaryCrossentropy(from_logits=True)\n",
    "metrics = tf.metrics.BinaryAccuracy()"
   ]
  },
  {
   "cell_type": "markdown",
   "metadata": {
    "id": "77psrpfzbxtp"
   },
   "source": [
    "### Optimizer\n",
    "\n",
    "BERT was originally trained with: the \"Adaptive Moments\" (Adam). This optimizer minimizes the prediction loss and does regularization by weight decay (not using moments), which is also known as [AdamW](https://arxiv.org/abs/1711.05101).\n",
    "\n",
    "(`init_lr`) - use the same schedule as BERT pre-training: linear decay of a notional initial learning rate, prefixed with a linear warm-up phase over the first 10% of training steps (`num_warmup_steps`). In line with the BERT paper, the initial learning rate is smaller for fine-tuning (best of 5e-5, 3e-5, 2e-5)."
   ]
  },
  {
   "cell_type": "code",
   "execution_count": 19,
   "metadata": {
    "id": "P9eP2y9dbw32"
   },
   "outputs": [],
   "source": [
    "epochs = 3\n",
    "steps_per_epoch = tf.data.experimental.cardinality(train_ds).numpy()\n",
    "num_train_steps = steps_per_epoch * epochs\n",
    "num_warmup_steps = int(0.1*num_train_steps)\n",
    "\n",
    "init_lr = 3e-5\n",
    "optimizer = optimization.create_optimizer(init_lr=init_lr,\n",
    "                                          num_train_steps=num_train_steps,\n",
    "                                          num_warmup_steps=num_warmup_steps,\n",
    "                                          optimizer_type='adamw')"
   ]
  },
  {
   "cell_type": "markdown",
   "metadata": {
    "id": "SqlarlpC_v0g"
   },
   "source": [
    "### Loading the BERT model and training\n",
    "\n",
    "Using the `classifier_model` you created earlier, you can compile the model with the loss, metric and optimizer."
   ]
  },
  {
   "cell_type": "code",
   "execution_count": 20,
   "metadata": {
    "id": "-7GPDhR98jsD"
   },
   "outputs": [],
   "source": [
    "classifier_model.compile(optimizer=optimizer,\n",
    "                         loss=loss,\n",
    "                         metrics=metrics)"
   ]
  },
  {
   "cell_type": "markdown",
   "metadata": {
    "id": "CpBuV5j2cS_b"
   },
   "source": [
    "Note: training time will vary depending on the complexity of the BERT model you have selected."
   ]
  },
  {
   "cell_type": "code",
   "execution_count": null,
   "metadata": {
    "id": "HtfDFAnN_Neu"
   },
   "outputs": [
    {
     "name": "stdout",
     "output_type": "stream",
     "text": [
      "Training model with https://tfhub.dev/tensorflow/small_bert/bert_en_uncased_L-4_H-512_A-8/1\n",
      "Epoch 1/3\n",
      "  2/392 [..............................] - ETA: 15:14 - loss: 0.6957 - binary_accuracy: 0.5234"
     ]
    }
   ],
   "source": [
    "print(f'Training model with {tfhub_handle_encoder}')\n",
    "history = classifier_model.fit(x=train_ds,\n",
    "                               validation_data=val_ds,\n",
    "                               epochs=3)"
   ]
  },
  {
   "cell_type": "code",
   "execution_count": null,
   "metadata": {
    "id": "zlncBklpfwDo"
   },
   "outputs": [],
   "source": [
    "pred = classifier_model.predict(test_ds)"
   ]
  },
  {
   "cell_type": "code",
   "execution_count": null,
   "metadata": {
    "id": "ucpWJ80K5sE9"
   },
   "outputs": [],
   "source": []
  },
  {
   "cell_type": "markdown",
   "metadata": {
    "id": "uBthMlTSV8kn"
   },
   "source": [
    "### Evaluate the model\n",
    "\n",
    "Let's see how the model performs. Two values will be returned. Loss (a number which represents the error, lower values are better), and accuracy."
   ]
  },
  {
   "cell_type": "code",
   "execution_count": null,
   "metadata": {
    "id": "slqB-urBV9sP"
   },
   "outputs": [],
   "source": [
    "loss, accuracy = classifier_model.evaluate(test_ds)\n",
    "\n",
    "print(f'Loss: {loss}')\n",
    "print(f'Accuracy: {accuracy}')"
   ]
  },
  {
   "cell_type": "markdown",
   "metadata": {
    "id": "uttWpgmSfzq9"
   },
   "source": [
    "### Plot the accuracy and loss over time\n",
    "\n",
    "Based on the `History` object returned by `model.fit()`. You can plot the training and validation loss for comparison, as well as the training and validation accuracy:"
   ]
  },
  {
   "cell_type": "code",
   "execution_count": null,
   "metadata": {
    "id": "fiythcODf0xo"
   },
   "outputs": [],
   "source": [
    "history_dict = history.history\n",
    "print(history_dict.keys())\n",
    "\n",
    "acc = history_dict['binary_accuracy']\n",
    "val_acc = history_dict['val_binary_accuracy']\n",
    "loss = history_dict['loss']\n",
    "val_loss = history_dict['val_loss']\n",
    "\n",
    "epochs = range(1, len(acc) + 1)\n",
    "fig = plt.figure(figsize=(10, 6))\n",
    "fig.tight_layout()\n",
    "\n",
    "plt.subplot(2, 1, 1)\n",
    "# \"bo\" is for \"blue dot\"\n",
    "plt.plot(epochs, loss, 'r', label='Training loss')\n",
    "# b is for \"solid blue line\"\n",
    "plt.plot(epochs, val_loss, 'b', label='Validation loss')\n",
    "plt.title('Training and validation loss')\n",
    "# plt.xlabel('Epochs')\n",
    "plt.ylabel('Loss')\n",
    "plt.legend()\n",
    "\n",
    "plt.subplot(2, 1, 2)\n",
    "plt.plot(epochs, acc, 'r', label='Training acc')\n",
    "plt.plot(epochs, val_acc, 'b', label='Validation acc')\n",
    "plt.title('Training and validation accuracy')\n",
    "plt.xlabel('Epochs')\n",
    "plt.ylabel('Accuracy')\n",
    "plt.legend(loc='lower right')"
   ]
  },
  {
   "cell_type": "markdown",
   "metadata": {
    "id": "Rtn7jewb6dg4"
   },
   "source": [
    "## Export for inference"
   ]
  },
  {
   "cell_type": "code",
   "execution_count": null,
   "metadata": {
    "id": "ShcvqJAgVera"
   },
   "outputs": [],
   "source": [
    "dataset_name = 'imdb'\n",
    "saved_model_path = './{}_bert'.format(dataset_name.replace('/', '_'))\n",
    "\n",
    "classifier_model.save(saved_model_path, include_optimizer=False)"
   ]
  },
  {
   "cell_type": "markdown",
   "metadata": {
    "id": "PbI25bS1vD7s"
   },
   "source": [
    "Let's reload the model so you can try it side by side with the model that is still in memory."
   ]
  },
  {
   "cell_type": "code",
   "execution_count": null,
   "metadata": {
    "id": "gUEWVskZjEF0"
   },
   "outputs": [],
   "source": [
    "reloaded_model = tf.saved_model.load(saved_model_path)"
   ]
  },
  {
   "cell_type": "markdown",
   "metadata": {
    "id": "oyTappHTvNCz"
   },
   "source": [
    "##TEST"
   ]
  },
  {
   "cell_type": "code",
   "execution_count": null,
   "metadata": {
    "id": "VBWzH6exlCPS"
   },
   "outputs": [],
   "source": [
    "def print_my_examples(inputs, results):\n",
    "    result_for_printing = \\\n",
    "    [f'input: {inputs[i]:<30} : score: {results[i][0]:.6f}'\n",
    "                         for i in range(len(inputs))]\n",
    "    print(*result_for_printing, sep='\\n')\n",
    "    print()\n",
    "\n",
    "\n",
    "examples = [\n",
    "    'this is such an amazing movie!',  # this is the same sentence tried earlier\n",
    "    'The movie was great!',\n",
    "    'The movie was meh.',\n",
    "    'The movie was okish.',\n",
    "    'The movie was terrible...'\n",
    "]\n",
    "\n",
    "reloaded_results = tf.sigmoid(reloaded_model(tf.constant(examples)))\n",
    "original_results = tf.sigmoid(classifier_model(tf.constant(examples)))\n",
    "\n",
    "print('Results from the saved model:')\n",
    "print_my_examples(examples, reloaded_results)\n",
    "print('Results from the model in memory:')\n",
    "print_my_examples(examples, original_results)"
   ]
  },
  {
   "cell_type": "code",
   "execution_count": null,
   "metadata": {
    "id": "0FdVD3973S-O"
   },
   "outputs": [],
   "source": [
    "serving_results = reloaded_model \\\n",
    "            .signatures['serving_default'](tf.constant(examples))\n",
    "\n",
    "serving_results = tf.sigmoid(serving_results['classifier'])\n",
    "\n",
    "print_my_examples(examples, serving_results)"
   ]
  }
 ],
 "metadata": {
  "accelerator": "GPU",
  "colab": {
   "collapsed_sections": [],
   "name": "BERT-Classifier",
   "provenance": [],
   "toc_visible": true
  },
  "kernelspec": {
   "display_name": "Python 3",
   "language": "python",
   "name": "python3"
  },
  "language_info": {
   "codemirror_mode": {
    "name": "ipython",
    "version": 3
   },
   "file_extension": ".py",
   "mimetype": "text/x-python",
   "name": "python",
   "nbconvert_exporter": "python",
   "pygments_lexer": "ipython3",
   "version": "3.8.3"
  },
  "widgets": {
   "application/vnd.jupyter.widget-state+json": {
    "0308a4f4c6874e668cf142eab76eedf5": {
     "model_module": "@jupyter-widgets/base",
     "model_name": "LayoutModel",
     "state": {
      "_model_module": "@jupyter-widgets/base",
      "_model_module_version": "1.2.0",
      "_model_name": "LayoutModel",
      "_view_count": null,
      "_view_module": "@jupyter-widgets/base",
      "_view_module_version": "1.2.0",
      "_view_name": "LayoutView",
      "align_content": null,
      "align_items": null,
      "align_self": null,
      "border": null,
      "bottom": null,
      "display": null,
      "flex": null,
      "flex_flow": null,
      "grid_area": null,
      "grid_auto_columns": null,
      "grid_auto_flow": null,
      "grid_auto_rows": null,
      "grid_column": null,
      "grid_gap": null,
      "grid_row": null,
      "grid_template_areas": null,
      "grid_template_columns": null,
      "grid_template_rows": null,
      "height": null,
      "justify_content": null,
      "justify_items": null,
      "left": null,
      "margin": null,
      "max_height": null,
      "max_width": null,
      "min_height": null,
      "min_width": null,
      "object_fit": null,
      "object_position": null,
      "order": null,
      "overflow": null,
      "overflow_x": null,
      "overflow_y": null,
      "padding": null,
      "right": null,
      "top": null,
      "visibility": null,
      "width": null
     }
    },
    "0ee92f8f81aa409b8b2e65acda968402": {
     "model_module": "@jupyter-widgets/base",
     "model_name": "LayoutModel",
     "state": {
      "_model_module": "@jupyter-widgets/base",
      "_model_module_version": "1.2.0",
      "_model_name": "LayoutModel",
      "_view_count": null,
      "_view_module": "@jupyter-widgets/base",
      "_view_module_version": "1.2.0",
      "_view_name": "LayoutView",
      "align_content": null,
      "align_items": null,
      "align_self": null,
      "border": null,
      "bottom": null,
      "display": null,
      "flex": null,
      "flex_flow": null,
      "grid_area": null,
      "grid_auto_columns": null,
      "grid_auto_flow": null,
      "grid_auto_rows": null,
      "grid_column": null,
      "grid_gap": null,
      "grid_row": null,
      "grid_template_areas": null,
      "grid_template_columns": null,
      "grid_template_rows": null,
      "height": null,
      "justify_content": null,
      "justify_items": null,
      "left": null,
      "margin": null,
      "max_height": null,
      "max_width": null,
      "min_height": null,
      "min_width": null,
      "object_fit": null,
      "object_position": null,
      "order": null,
      "overflow": null,
      "overflow_x": null,
      "overflow_y": null,
      "padding": null,
      "right": null,
      "top": null,
      "visibility": null,
      "width": null
     }
    },
    "113d9203c3dd4e77bb5cb932944f1674": {
     "model_module": "@jupyter-widgets/base",
     "model_name": "LayoutModel",
     "state": {
      "_model_module": "@jupyter-widgets/base",
      "_model_module_version": "1.2.0",
      "_model_name": "LayoutModel",
      "_view_count": null,
      "_view_module": "@jupyter-widgets/base",
      "_view_module_version": "1.2.0",
      "_view_name": "LayoutView",
      "align_content": null,
      "align_items": null,
      "align_self": null,
      "border": null,
      "bottom": null,
      "display": null,
      "flex": null,
      "flex_flow": null,
      "grid_area": null,
      "grid_auto_columns": null,
      "grid_auto_flow": null,
      "grid_auto_rows": null,
      "grid_column": null,
      "grid_gap": null,
      "grid_row": null,
      "grid_template_areas": null,
      "grid_template_columns": null,
      "grid_template_rows": null,
      "height": null,
      "justify_content": null,
      "justify_items": null,
      "left": null,
      "margin": null,
      "max_height": null,
      "max_width": null,
      "min_height": null,
      "min_width": null,
      "object_fit": null,
      "object_position": null,
      "order": null,
      "overflow": null,
      "overflow_x": null,
      "overflow_y": null,
      "padding": null,
      "right": null,
      "top": null,
      "visibility": null,
      "width": null
     }
    },
    "1911012d99d048fbb31659548cee8b46": {
     "model_module": "@jupyter-widgets/controls",
     "model_name": "HTMLModel",
     "state": {
      "_dom_classes": [],
      "_model_module": "@jupyter-widgets/controls",
      "_model_module_version": "1.5.0",
      "_model_name": "HTMLModel",
      "_view_count": null,
      "_view_module": "@jupyter-widgets/controls",
      "_view_module_version": "1.5.0",
      "_view_name": "HTMLView",
      "description": "",
      "description_tooltip": null,
      "layout": "IPY_MODEL_51e2e4a4f6a14a5e8c9dc251d38cdeed",
      "placeholder": "​",
      "style": "IPY_MODEL_77017712cf8e4f5ea2b06a5f6af40684",
      "value": " 25000/0 [00:12&lt;00:00, 3413.94 examples/s]"
     }
    },
    "1a2956df86204ac686a66818e7268b2a": {
     "model_module": "@jupyter-widgets/controls",
     "model_name": "FloatProgressModel",
     "state": {
      "_dom_classes": [],
      "_model_module": "@jupyter-widgets/controls",
      "_model_module_version": "1.5.0",
      "_model_name": "FloatProgressModel",
      "_view_count": null,
      "_view_module": "@jupyter-widgets/controls",
      "_view_module_version": "1.5.0",
      "_view_name": "ProgressView",
      "bar_style": "danger",
      "description": " 64%",
      "description_tooltip": null,
      "layout": "IPY_MODEL_113d9203c3dd4e77bb5cb932944f1674",
      "max": 50000,
      "min": 0,
      "orientation": "horizontal",
      "style": "IPY_MODEL_f2a137a6ba614b50ba994d631a53699b",
      "value": 31841
     }
    },
    "1f7993dfb3fa44ac830e12d73d90b912": {
     "model_module": "@jupyter-widgets/controls",
     "model_name": "HBoxModel",
     "state": {
      "_dom_classes": [],
      "_model_module": "@jupyter-widgets/controls",
      "_model_module_version": "1.5.0",
      "_model_name": "HBoxModel",
      "_view_count": null,
      "_view_module": "@jupyter-widgets/controls",
      "_view_module_version": "1.5.0",
      "_view_name": "HBoxView",
      "box_style": "",
      "children": [
       "IPY_MODEL_1a2956df86204ac686a66818e7268b2a",
       "IPY_MODEL_ad8cb324c7c14a59b5405c23cdbde933"
      ],
      "layout": "IPY_MODEL_31d350e0f6d34f5380ed8e2f8c00530f"
     }
    },
    "20847a3d82c24599beb0f3f334ceeaf9": {
     "model_module": "@jupyter-widgets/controls",
     "model_name": "DescriptionStyleModel",
     "state": {
      "_model_module": "@jupyter-widgets/controls",
      "_model_module_version": "1.5.0",
      "_model_name": "DescriptionStyleModel",
      "_view_count": null,
      "_view_module": "@jupyter-widgets/base",
      "_view_module_version": "1.2.0",
      "_view_name": "StyleView",
      "description_width": ""
     }
    },
    "234aca7984e44aed9932d8b3bdafbf43": {
     "model_module": "@jupyter-widgets/base",
     "model_name": "LayoutModel",
     "state": {
      "_model_module": "@jupyter-widgets/base",
      "_model_module_version": "1.2.0",
      "_model_name": "LayoutModel",
      "_view_count": null,
      "_view_module": "@jupyter-widgets/base",
      "_view_module_version": "1.2.0",
      "_view_name": "LayoutView",
      "align_content": null,
      "align_items": null,
      "align_self": null,
      "border": null,
      "bottom": null,
      "display": null,
      "flex": null,
      "flex_flow": null,
      "grid_area": null,
      "grid_auto_columns": null,
      "grid_auto_flow": null,
      "grid_auto_rows": null,
      "grid_column": null,
      "grid_gap": null,
      "grid_row": null,
      "grid_template_areas": null,
      "grid_template_columns": null,
      "grid_template_rows": null,
      "height": null,
      "justify_content": null,
      "justify_items": null,
      "left": null,
      "margin": null,
      "max_height": null,
      "max_width": null,
      "min_height": null,
      "min_width": null,
      "object_fit": null,
      "object_position": null,
      "order": null,
      "overflow": null,
      "overflow_x": null,
      "overflow_y": null,
      "padding": null,
      "right": null,
      "top": null,
      "visibility": null,
      "width": null
     }
    },
    "29b13fe6401c47198ffc0347fabb3774": {
     "model_module": "@jupyter-widgets/controls",
     "model_name": "FloatProgressModel",
     "state": {
      "_dom_classes": [],
      "_model_module": "@jupyter-widgets/controls",
      "_model_module_version": "1.5.0",
      "_model_name": "FloatProgressModel",
      "_view_count": null,
      "_view_module": "@jupyter-widgets/controls",
      "_view_module_version": "1.5.0",
      "_view_name": "ProgressView",
      "bar_style": "danger",
      "description": " 59%",
      "description_tooltip": null,
      "layout": "IPY_MODEL_57f3f6ca4ad94640907d5556e29769b2",
      "max": 25000,
      "min": 0,
      "orientation": "horizontal",
      "style": "IPY_MODEL_dead037d04bf41a8b2eb35783d6bf3d9",
      "value": 14745
     }
    },
    "2d4c76cef55545a3b937c4525f4de87c": {
     "model_module": "@jupyter-widgets/base",
     "model_name": "LayoutModel",
     "state": {
      "_model_module": "@jupyter-widgets/base",
      "_model_module_version": "1.2.0",
      "_model_name": "LayoutModel",
      "_view_count": null,
      "_view_module": "@jupyter-widgets/base",
      "_view_module_version": "1.2.0",
      "_view_name": "LayoutView",
      "align_content": null,
      "align_items": null,
      "align_self": null,
      "border": null,
      "bottom": null,
      "display": null,
      "flex": null,
      "flex_flow": null,
      "grid_area": null,
      "grid_auto_columns": null,
      "grid_auto_flow": null,
      "grid_auto_rows": null,
      "grid_column": null,
      "grid_gap": null,
      "grid_row": null,
      "grid_template_areas": null,
      "grid_template_columns": null,
      "grid_template_rows": null,
      "height": null,
      "justify_content": null,
      "justify_items": null,
      "left": null,
      "margin": null,
      "max_height": null,
      "max_width": null,
      "min_height": null,
      "min_width": null,
      "object_fit": null,
      "object_position": null,
      "order": null,
      "overflow": null,
      "overflow_x": null,
      "overflow_y": null,
      "padding": null,
      "right": null,
      "top": null,
      "visibility": null,
      "width": null
     }
    },
    "2f3a7802f0b24198b435608f8d2089c0": {
     "model_module": "@jupyter-widgets/base",
     "model_name": "LayoutModel",
     "state": {
      "_model_module": "@jupyter-widgets/base",
      "_model_module_version": "1.2.0",
      "_model_name": "LayoutModel",
      "_view_count": null,
      "_view_module": "@jupyter-widgets/base",
      "_view_module_version": "1.2.0",
      "_view_name": "LayoutView",
      "align_content": null,
      "align_items": null,
      "align_self": null,
      "border": null,
      "bottom": null,
      "display": null,
      "flex": null,
      "flex_flow": null,
      "grid_area": null,
      "grid_auto_columns": null,
      "grid_auto_flow": null,
      "grid_auto_rows": null,
      "grid_column": null,
      "grid_gap": null,
      "grid_row": null,
      "grid_template_areas": null,
      "grid_template_columns": null,
      "grid_template_rows": null,
      "height": null,
      "justify_content": null,
      "justify_items": null,
      "left": null,
      "margin": null,
      "max_height": null,
      "max_width": null,
      "min_height": null,
      "min_width": null,
      "object_fit": null,
      "object_position": null,
      "order": null,
      "overflow": null,
      "overflow_x": null,
      "overflow_y": null,
      "padding": null,
      "right": null,
      "top": null,
      "visibility": null,
      "width": null
     }
    },
    "31d350e0f6d34f5380ed8e2f8c00530f": {
     "model_module": "@jupyter-widgets/base",
     "model_name": "LayoutModel",
     "state": {
      "_model_module": "@jupyter-widgets/base",
      "_model_module_version": "1.2.0",
      "_model_name": "LayoutModel",
      "_view_count": null,
      "_view_module": "@jupyter-widgets/base",
      "_view_module_version": "1.2.0",
      "_view_name": "LayoutView",
      "align_content": null,
      "align_items": null,
      "align_self": null,
      "border": null,
      "bottom": null,
      "display": null,
      "flex": null,
      "flex_flow": null,
      "grid_area": null,
      "grid_auto_columns": null,
      "grid_auto_flow": null,
      "grid_auto_rows": null,
      "grid_column": null,
      "grid_gap": null,
      "grid_row": null,
      "grid_template_areas": null,
      "grid_template_columns": null,
      "grid_template_rows": null,
      "height": null,
      "justify_content": null,
      "justify_items": null,
      "left": null,
      "margin": null,
      "max_height": null,
      "max_width": null,
      "min_height": null,
      "min_width": null,
      "object_fit": null,
      "object_position": null,
      "order": null,
      "overflow": null,
      "overflow_x": null,
      "overflow_y": null,
      "padding": null,
      "right": null,
      "top": null,
      "visibility": null,
      "width": null
     }
    },
    "3a4dc24d5edf419a98a325cdef96e094": {
     "model_module": "@jupyter-widgets/controls",
     "model_name": "HBoxModel",
     "state": {
      "_dom_classes": [],
      "_model_module": "@jupyter-widgets/controls",
      "_model_module_version": "1.5.0",
      "_model_name": "HBoxModel",
      "_view_count": null,
      "_view_module": "@jupyter-widgets/controls",
      "_view_module_version": "1.5.0",
      "_view_name": "HBoxView",
      "box_style": "",
      "children": [
       "IPY_MODEL_70de2523dca0472faa7c94db35f37fab",
       "IPY_MODEL_45071c33e9ca457b95b051a5be57e05e"
      ],
      "layout": "IPY_MODEL_f3b5b1356525403e9eb1b8558ed6cb37"
     }
    },
    "45071c33e9ca457b95b051a5be57e05e": {
     "model_module": "@jupyter-widgets/controls",
     "model_name": "HTMLModel",
     "state": {
      "_dom_classes": [],
      "_model_module": "@jupyter-widgets/controls",
      "_model_module_version": "1.5.0",
      "_model_name": "HTMLModel",
      "_view_count": null,
      "_view_module": "@jupyter-widgets/controls",
      "_view_module_version": "1.5.0",
      "_view_name": "HTMLView",
      "description": "",
      "description_tooltip": null,
      "layout": "IPY_MODEL_ab700272eec34e4ea5417a6f7f37e1c3",
      "placeholder": "​",
      "style": "IPY_MODEL_7f3f619c083044bb9b780968f5b6e142",
      "value": " 25000/0 [00:12&lt;00:00, 3675.51 examples/s]"
     }
    },
    "459a014927504c47a9999ac8a199f335": {
     "model_module": "@jupyter-widgets/controls",
     "model_name": "DescriptionStyleModel",
     "state": {
      "_model_module": "@jupyter-widgets/controls",
      "_model_module_version": "1.5.0",
      "_model_name": "DescriptionStyleModel",
      "_view_count": null,
      "_view_module": "@jupyter-widgets/base",
      "_view_module_version": "1.2.0",
      "_view_name": "StyleView",
      "description_width": ""
     }
    },
    "466ea988787a47aaa93896c41b2cfa8a": {
     "model_module": "@jupyter-widgets/controls",
     "model_name": "HBoxModel",
     "state": {
      "_dom_classes": [],
      "_model_module": "@jupyter-widgets/controls",
      "_model_module_version": "1.5.0",
      "_model_name": "HBoxModel",
      "_view_count": null,
      "_view_module": "@jupyter-widgets/controls",
      "_view_module_version": "1.5.0",
      "_view_name": "HBoxView",
      "box_style": "",
      "children": [
       "IPY_MODEL_75306581cd8b4b2da0600d6d1477fa92",
       "IPY_MODEL_47c7deac7de3472c95c6a49f85b55402"
      ],
      "layout": "IPY_MODEL_2d4c76cef55545a3b937c4525f4de87c"
     }
    },
    "47c7deac7de3472c95c6a49f85b55402": {
     "model_module": "@jupyter-widgets/controls",
     "model_name": "HTMLModel",
     "state": {
      "_dom_classes": [],
      "_model_module": "@jupyter-widgets/controls",
      "_model_module_version": "1.5.0",
      "_model_name": "HTMLModel",
      "_view_count": null,
      "_view_module": "@jupyter-widgets/controls",
      "_view_module_version": "1.5.0",
      "_view_name": "HTMLView",
      "description": "",
      "description_tooltip": null,
      "layout": "IPY_MODEL_2f3a7802f0b24198b435608f8d2089c0",
      "placeholder": "​",
      "style": "IPY_MODEL_96be7cd2c82b49a69f6c2a49a513d91a",
      "value": " 14036/25000 [00:00&lt;00:00, 140357.12 examples/s]"
     }
    },
    "51e2e4a4f6a14a5e8c9dc251d38cdeed": {
     "model_module": "@jupyter-widgets/base",
     "model_name": "LayoutModel",
     "state": {
      "_model_module": "@jupyter-widgets/base",
      "_model_module_version": "1.2.0",
      "_model_name": "LayoutModel",
      "_view_count": null,
      "_view_module": "@jupyter-widgets/base",
      "_view_module_version": "1.2.0",
      "_view_name": "LayoutView",
      "align_content": null,
      "align_items": null,
      "align_self": null,
      "border": null,
      "bottom": null,
      "display": null,
      "flex": null,
      "flex_flow": null,
      "grid_area": null,
      "grid_auto_columns": null,
      "grid_auto_flow": null,
      "grid_auto_rows": null,
      "grid_column": null,
      "grid_gap": null,
      "grid_row": null,
      "grid_template_areas": null,
      "grid_template_columns": null,
      "grid_template_rows": null,
      "height": null,
      "justify_content": null,
      "justify_items": null,
      "left": null,
      "margin": null,
      "max_height": null,
      "max_width": null,
      "min_height": null,
      "min_width": null,
      "object_fit": null,
      "object_position": null,
      "order": null,
      "overflow": null,
      "overflow_x": null,
      "overflow_y": null,
      "padding": null,
      "right": null,
      "top": null,
      "visibility": null,
      "width": null
     }
    },
    "57f3f6ca4ad94640907d5556e29769b2": {
     "model_module": "@jupyter-widgets/base",
     "model_name": "LayoutModel",
     "state": {
      "_model_module": "@jupyter-widgets/base",
      "_model_module_version": "1.2.0",
      "_model_name": "LayoutModel",
      "_view_count": null,
      "_view_module": "@jupyter-widgets/base",
      "_view_module_version": "1.2.0",
      "_view_name": "LayoutView",
      "align_content": null,
      "align_items": null,
      "align_self": null,
      "border": null,
      "bottom": null,
      "display": null,
      "flex": null,
      "flex_flow": null,
      "grid_area": null,
      "grid_auto_columns": null,
      "grid_auto_flow": null,
      "grid_auto_rows": null,
      "grid_column": null,
      "grid_gap": null,
      "grid_row": null,
      "grid_template_areas": null,
      "grid_template_columns": null,
      "grid_template_rows": null,
      "height": null,
      "justify_content": null,
      "justify_items": null,
      "left": null,
      "margin": null,
      "max_height": null,
      "max_width": null,
      "min_height": null,
      "min_width": null,
      "object_fit": null,
      "object_position": null,
      "order": null,
      "overflow": null,
      "overflow_x": null,
      "overflow_y": null,
      "padding": null,
      "right": null,
      "top": null,
      "visibility": null,
      "width": null
     }
    },
    "5d3a10a027b04434affe4b49e5dce5d1": {
     "model_module": "@jupyter-widgets/controls",
     "model_name": "HBoxModel",
     "state": {
      "_dom_classes": [],
      "_model_module": "@jupyter-widgets/controls",
      "_model_module_version": "1.5.0",
      "_model_name": "HBoxModel",
      "_view_count": null,
      "_view_module": "@jupyter-widgets/controls",
      "_view_module_version": "1.5.0",
      "_view_name": "HBoxView",
      "box_style": "",
      "children": [
       "IPY_MODEL_639d4d3006704aefb16f2ad79289dd22",
       "IPY_MODEL_f9620a403c0546189a747eebb1abb5bb"
      ],
      "layout": "IPY_MODEL_6b366d2b9139457585c83bf75b751ecd"
     }
    },
    "5e99f2a8ea5c4ac38412daddf324dc2e": {
     "model_module": "@jupyter-widgets/controls",
     "model_name": "HTMLModel",
     "state": {
      "_dom_classes": [],
      "_model_module": "@jupyter-widgets/controls",
      "_model_module_version": "1.5.0",
      "_model_name": "HTMLModel",
      "_view_count": null,
      "_view_module": "@jupyter-widgets/controls",
      "_view_module_version": "1.5.0",
      "_view_name": "HTMLView",
      "description": "",
      "description_tooltip": null,
      "layout": "IPY_MODEL_7e9d79fa58eb4344802da4e00b31abab",
      "placeholder": "​",
      "style": "IPY_MODEL_20847a3d82c24599beb0f3f334ceeaf9",
      "value": " 1/1 [00:04&lt;00:00,  4.80s/ url]"
     }
    },
    "639d4d3006704aefb16f2ad79289dd22": {
     "model_module": "@jupyter-widgets/controls",
     "model_name": "FloatProgressModel",
     "state": {
      "_dom_classes": [],
      "_model_module": "@jupyter-widgets/controls",
      "_model_module_version": "1.5.0",
      "_model_name": "FloatProgressModel",
      "_view_count": null,
      "_view_module": "@jupyter-widgets/controls",
      "_view_module_version": "1.5.0",
      "_view_name": "ProgressView",
      "bar_style": "info",
      "description": "",
      "description_tooltip": null,
      "layout": "IPY_MODEL_234aca7984e44aed9932d8b3bdafbf43",
      "max": 1,
      "min": 0,
      "orientation": "horizontal",
      "style": "IPY_MODEL_6403e0d303c34dceb9a6ab90a241c05a",
      "value": 1
     }
    },
    "6403e0d303c34dceb9a6ab90a241c05a": {
     "model_module": "@jupyter-widgets/controls",
     "model_name": "ProgressStyleModel",
     "state": {
      "_model_module": "@jupyter-widgets/controls",
      "_model_module_version": "1.5.0",
      "_model_name": "ProgressStyleModel",
      "_view_count": null,
      "_view_module": "@jupyter-widgets/base",
      "_view_module_version": "1.2.0",
      "_view_name": "StyleView",
      "bar_color": null,
      "description_width": "initial"
     }
    },
    "6b366d2b9139457585c83bf75b751ecd": {
     "model_module": "@jupyter-widgets/base",
     "model_name": "LayoutModel",
     "state": {
      "_model_module": "@jupyter-widgets/base",
      "_model_module_version": "1.2.0",
      "_model_name": "LayoutModel",
      "_view_count": null,
      "_view_module": "@jupyter-widgets/base",
      "_view_module_version": "1.2.0",
      "_view_name": "LayoutView",
      "align_content": null,
      "align_items": null,
      "align_self": null,
      "border": null,
      "bottom": null,
      "display": null,
      "flex": null,
      "flex_flow": null,
      "grid_area": null,
      "grid_auto_columns": null,
      "grid_auto_flow": null,
      "grid_auto_rows": null,
      "grid_column": null,
      "grid_gap": null,
      "grid_row": null,
      "grid_template_areas": null,
      "grid_template_columns": null,
      "grid_template_rows": null,
      "height": null,
      "justify_content": null,
      "justify_items": null,
      "left": null,
      "margin": null,
      "max_height": null,
      "max_width": null,
      "min_height": null,
      "min_width": null,
      "object_fit": null,
      "object_position": null,
      "order": null,
      "overflow": null,
      "overflow_x": null,
      "overflow_y": null,
      "padding": null,
      "right": null,
      "top": null,
      "visibility": null,
      "width": null
     }
    },
    "6b935dde232b4665b7f345fc4db7e3e6": {
     "model_module": "@jupyter-widgets/base",
     "model_name": "LayoutModel",
     "state": {
      "_model_module": "@jupyter-widgets/base",
      "_model_module_version": "1.2.0",
      "_model_name": "LayoutModel",
      "_view_count": null,
      "_view_module": "@jupyter-widgets/base",
      "_view_module_version": "1.2.0",
      "_view_name": "LayoutView",
      "align_content": null,
      "align_items": null,
      "align_self": null,
      "border": null,
      "bottom": null,
      "display": null,
      "flex": null,
      "flex_flow": null,
      "grid_area": null,
      "grid_auto_columns": null,
      "grid_auto_flow": null,
      "grid_auto_rows": null,
      "grid_column": null,
      "grid_gap": null,
      "grid_row": null,
      "grid_template_areas": null,
      "grid_template_columns": null,
      "grid_template_rows": null,
      "height": null,
      "justify_content": null,
      "justify_items": null,
      "left": null,
      "margin": null,
      "max_height": null,
      "max_width": null,
      "min_height": null,
      "min_width": null,
      "object_fit": null,
      "object_position": null,
      "order": null,
      "overflow": null,
      "overflow_x": null,
      "overflow_y": null,
      "padding": null,
      "right": null,
      "top": null,
      "visibility": null,
      "width": null
     }
    },
    "70d2a268a9c14b2281e676b3cd1269e9": {
     "model_module": "@jupyter-widgets/controls",
     "model_name": "HTMLModel",
     "state": {
      "_dom_classes": [],
      "_model_module": "@jupyter-widgets/controls",
      "_model_module_version": "1.5.0",
      "_model_name": "HTMLModel",
      "_view_count": null,
      "_view_module": "@jupyter-widgets/controls",
      "_view_module_version": "1.5.0",
      "_view_name": "HTMLView",
      "description": "",
      "description_tooltip": null,
      "layout": "IPY_MODEL_872f8268b6cb4a4593f089685e3581a2",
      "placeholder": "​",
      "style": "IPY_MODEL_e3ffe1cf2c1a4e60a4e00167826e6434",
      "value": " 80/80 [00:04&lt;00:00, 16.77 MiB/s]"
     }
    },
    "70de2523dca0472faa7c94db35f37fab": {
     "model_module": "@jupyter-widgets/controls",
     "model_name": "FloatProgressModel",
     "state": {
      "_dom_classes": [],
      "_model_module": "@jupyter-widgets/controls",
      "_model_module_version": "1.5.0",
      "_model_name": "FloatProgressModel",
      "_view_count": null,
      "_view_module": "@jupyter-widgets/controls",
      "_view_module_version": "1.5.0",
      "_view_name": "ProgressView",
      "bar_style": "info",
      "description": "",
      "description_tooltip": null,
      "layout": "IPY_MODEL_c1d9b47f7cb8498db52e08977603fb97",
      "max": 1,
      "min": 0,
      "orientation": "horizontal",
      "style": "IPY_MODEL_ad920b0087ca45919783b867bf3f786e",
      "value": 1
     }
    },
    "72d7b415ab6e48bdb1f7c81705aca0df": {
     "model_module": "@jupyter-widgets/controls",
     "model_name": "ProgressStyleModel",
     "state": {
      "_model_module": "@jupyter-widgets/controls",
      "_model_module_version": "1.5.0",
      "_model_name": "ProgressStyleModel",
      "_view_count": null,
      "_view_module": "@jupyter-widgets/base",
      "_view_module_version": "1.2.0",
      "_view_name": "StyleView",
      "bar_color": null,
      "description_width": "initial"
     }
    },
    "75306581cd8b4b2da0600d6d1477fa92": {
     "model_module": "@jupyter-widgets/controls",
     "model_name": "FloatProgressModel",
     "state": {
      "_dom_classes": [],
      "_model_module": "@jupyter-widgets/controls",
      "_model_module_version": "1.5.0",
      "_model_name": "FloatProgressModel",
      "_view_count": null,
      "_view_module": "@jupyter-widgets/controls",
      "_view_module_version": "1.5.0",
      "_view_name": "ProgressView",
      "bar_style": "danger",
      "description": " 56%",
      "description_tooltip": null,
      "layout": "IPY_MODEL_d6e25366299845948d7e284d8fccd686",
      "max": 25000,
      "min": 0,
      "orientation": "horizontal",
      "style": "IPY_MODEL_ef96a233b6fe4672ac974c9aac955703",
      "value": 14036
     }
    },
    "77017712cf8e4f5ea2b06a5f6af40684": {
     "model_module": "@jupyter-widgets/controls",
     "model_name": "DescriptionStyleModel",
     "state": {
      "_model_module": "@jupyter-widgets/controls",
      "_model_module_version": "1.5.0",
      "_model_name": "DescriptionStyleModel",
      "_view_count": null,
      "_view_module": "@jupyter-widgets/base",
      "_view_module_version": "1.2.0",
      "_view_name": "StyleView",
      "description_width": ""
     }
    },
    "78e819833cb34007b79199d819d10f86": {
     "model_module": "@jupyter-widgets/base",
     "model_name": "LayoutModel",
     "state": {
      "_model_module": "@jupyter-widgets/base",
      "_model_module_version": "1.2.0",
      "_model_name": "LayoutModel",
      "_view_count": null,
      "_view_module": "@jupyter-widgets/base",
      "_view_module_version": "1.2.0",
      "_view_name": "LayoutView",
      "align_content": null,
      "align_items": null,
      "align_self": null,
      "border": null,
      "bottom": null,
      "display": null,
      "flex": null,
      "flex_flow": null,
      "grid_area": null,
      "grid_auto_columns": null,
      "grid_auto_flow": null,
      "grid_auto_rows": null,
      "grid_column": null,
      "grid_gap": null,
      "grid_row": null,
      "grid_template_areas": null,
      "grid_template_columns": null,
      "grid_template_rows": null,
      "height": null,
      "justify_content": null,
      "justify_items": null,
      "left": null,
      "margin": null,
      "max_height": null,
      "max_width": null,
      "min_height": null,
      "min_width": null,
      "object_fit": null,
      "object_position": null,
      "order": null,
      "overflow": null,
      "overflow_x": null,
      "overflow_y": null,
      "padding": null,
      "right": null,
      "top": null,
      "visibility": null,
      "width": null
     }
    },
    "7e9d79fa58eb4344802da4e00b31abab": {
     "model_module": "@jupyter-widgets/base",
     "model_name": "LayoutModel",
     "state": {
      "_model_module": "@jupyter-widgets/base",
      "_model_module_version": "1.2.0",
      "_model_name": "LayoutModel",
      "_view_count": null,
      "_view_module": "@jupyter-widgets/base",
      "_view_module_version": "1.2.0",
      "_view_name": "LayoutView",
      "align_content": null,
      "align_items": null,
      "align_self": null,
      "border": null,
      "bottom": null,
      "display": null,
      "flex": null,
      "flex_flow": null,
      "grid_area": null,
      "grid_auto_columns": null,
      "grid_auto_flow": null,
      "grid_auto_rows": null,
      "grid_column": null,
      "grid_gap": null,
      "grid_row": null,
      "grid_template_areas": null,
      "grid_template_columns": null,
      "grid_template_rows": null,
      "height": null,
      "justify_content": null,
      "justify_items": null,
      "left": null,
      "margin": null,
      "max_height": null,
      "max_width": null,
      "min_height": null,
      "min_width": null,
      "object_fit": null,
      "object_position": null,
      "order": null,
      "overflow": null,
      "overflow_x": null,
      "overflow_y": null,
      "padding": null,
      "right": null,
      "top": null,
      "visibility": null,
      "width": null
     }
    },
    "7f3f619c083044bb9b780968f5b6e142": {
     "model_module": "@jupyter-widgets/controls",
     "model_name": "DescriptionStyleModel",
     "state": {
      "_model_module": "@jupyter-widgets/controls",
      "_model_module_version": "1.5.0",
      "_model_name": "DescriptionStyleModel",
      "_view_count": null,
      "_view_module": "@jupyter-widgets/base",
      "_view_module_version": "1.2.0",
      "_view_name": "StyleView",
      "description_width": ""
     }
    },
    "81c30164d76f482b85982f6de2595f8c": {
     "model_module": "@jupyter-widgets/controls",
     "model_name": "ProgressStyleModel",
     "state": {
      "_model_module": "@jupyter-widgets/controls",
      "_model_module_version": "1.5.0",
      "_model_name": "ProgressStyleModel",
      "_view_count": null,
      "_view_module": "@jupyter-widgets/base",
      "_view_module_version": "1.2.0",
      "_view_name": "StyleView",
      "bar_color": null,
      "description_width": "initial"
     }
    },
    "872f8268b6cb4a4593f089685e3581a2": {
     "model_module": "@jupyter-widgets/base",
     "model_name": "LayoutModel",
     "state": {
      "_model_module": "@jupyter-widgets/base",
      "_model_module_version": "1.2.0",
      "_model_name": "LayoutModel",
      "_view_count": null,
      "_view_module": "@jupyter-widgets/base",
      "_view_module_version": "1.2.0",
      "_view_name": "LayoutView",
      "align_content": null,
      "align_items": null,
      "align_self": null,
      "border": null,
      "bottom": null,
      "display": null,
      "flex": null,
      "flex_flow": null,
      "grid_area": null,
      "grid_auto_columns": null,
      "grid_auto_flow": null,
      "grid_auto_rows": null,
      "grid_column": null,
      "grid_gap": null,
      "grid_row": null,
      "grid_template_areas": null,
      "grid_template_columns": null,
      "grid_template_rows": null,
      "height": null,
      "justify_content": null,
      "justify_items": null,
      "left": null,
      "margin": null,
      "max_height": null,
      "max_width": null,
      "min_height": null,
      "min_width": null,
      "object_fit": null,
      "object_position": null,
      "order": null,
      "overflow": null,
      "overflow_x": null,
      "overflow_y": null,
      "padding": null,
      "right": null,
      "top": null,
      "visibility": null,
      "width": null
     }
    },
    "8feb7a43b08b463eb687727d9cb3d332": {
     "model_module": "@jupyter-widgets/controls",
     "model_name": "DescriptionStyleModel",
     "state": {
      "_model_module": "@jupyter-widgets/controls",
      "_model_module_version": "1.5.0",
      "_model_name": "DescriptionStyleModel",
      "_view_count": null,
      "_view_module": "@jupyter-widgets/base",
      "_view_module_version": "1.2.0",
      "_view_name": "StyleView",
      "description_width": ""
     }
    },
    "906eb19b83a44cacb63b77f3c3500041": {
     "model_module": "@jupyter-widgets/base",
     "model_name": "LayoutModel",
     "state": {
      "_model_module": "@jupyter-widgets/base",
      "_model_module_version": "1.2.0",
      "_model_name": "LayoutModel",
      "_view_count": null,
      "_view_module": "@jupyter-widgets/base",
      "_view_module_version": "1.2.0",
      "_view_name": "LayoutView",
      "align_content": null,
      "align_items": null,
      "align_self": null,
      "border": null,
      "bottom": null,
      "display": null,
      "flex": null,
      "flex_flow": null,
      "grid_area": null,
      "grid_auto_columns": null,
      "grid_auto_flow": null,
      "grid_auto_rows": null,
      "grid_column": null,
      "grid_gap": null,
      "grid_row": null,
      "grid_template_areas": null,
      "grid_template_columns": null,
      "grid_template_rows": null,
      "height": null,
      "justify_content": null,
      "justify_items": null,
      "left": null,
      "margin": null,
      "max_height": null,
      "max_width": null,
      "min_height": null,
      "min_width": null,
      "object_fit": null,
      "object_position": null,
      "order": null,
      "overflow": null,
      "overflow_x": null,
      "overflow_y": null,
      "padding": null,
      "right": null,
      "top": null,
      "visibility": null,
      "width": null
     }
    },
    "9625c08e7a174902b0096f46caea45e4": {
     "model_module": "@jupyter-widgets/controls",
     "model_name": "HBoxModel",
     "state": {
      "_dom_classes": [],
      "_model_module": "@jupyter-widgets/controls",
      "_model_module_version": "1.5.0",
      "_model_name": "HBoxModel",
      "_view_count": null,
      "_view_module": "@jupyter-widgets/controls",
      "_view_module_version": "1.5.0",
      "_view_name": "HBoxView",
      "box_style": "",
      "children": [
       "IPY_MODEL_a8cf4891a43d42309c47a8259864a8ef",
       "IPY_MODEL_70d2a268a9c14b2281e676b3cd1269e9"
      ],
      "layout": "IPY_MODEL_dd931a6388ac4f288055e3227ef732c2"
     }
    },
    "96be7cd2c82b49a69f6c2a49a513d91a": {
     "model_module": "@jupyter-widgets/controls",
     "model_name": "DescriptionStyleModel",
     "state": {
      "_model_module": "@jupyter-widgets/controls",
      "_model_module_version": "1.5.0",
      "_model_name": "DescriptionStyleModel",
      "_view_count": null,
      "_view_module": "@jupyter-widgets/base",
      "_view_module_version": "1.2.0",
      "_view_name": "StyleView",
      "description_width": ""
     }
    },
    "99be3c796c6749918a86b96983c3187f": {
     "model_module": "@jupyter-widgets/base",
     "model_name": "LayoutModel",
     "state": {
      "_model_module": "@jupyter-widgets/base",
      "_model_module_version": "1.2.0",
      "_model_name": "LayoutModel",
      "_view_count": null,
      "_view_module": "@jupyter-widgets/base",
      "_view_module_version": "1.2.0",
      "_view_name": "LayoutView",
      "align_content": null,
      "align_items": null,
      "align_self": null,
      "border": null,
      "bottom": null,
      "display": null,
      "flex": null,
      "flex_flow": null,
      "grid_area": null,
      "grid_auto_columns": null,
      "grid_auto_flow": null,
      "grid_auto_rows": null,
      "grid_column": null,
      "grid_gap": null,
      "grid_row": null,
      "grid_template_areas": null,
      "grid_template_columns": null,
      "grid_template_rows": null,
      "height": null,
      "justify_content": null,
      "justify_items": null,
      "left": null,
      "margin": null,
      "max_height": null,
      "max_width": null,
      "min_height": null,
      "min_width": null,
      "object_fit": null,
      "object_position": null,
      "order": null,
      "overflow": null,
      "overflow_x": null,
      "overflow_y": null,
      "padding": null,
      "right": null,
      "top": null,
      "visibility": null,
      "width": null
     }
    },
    "9e25640735eb4b07a910b833ea3497d1": {
     "model_module": "@jupyter-widgets/base",
     "model_name": "LayoutModel",
     "state": {
      "_model_module": "@jupyter-widgets/base",
      "_model_module_version": "1.2.0",
      "_model_name": "LayoutModel",
      "_view_count": null,
      "_view_module": "@jupyter-widgets/base",
      "_view_module_version": "1.2.0",
      "_view_name": "LayoutView",
      "align_content": null,
      "align_items": null,
      "align_self": null,
      "border": null,
      "bottom": null,
      "display": null,
      "flex": null,
      "flex_flow": null,
      "grid_area": null,
      "grid_auto_columns": null,
      "grid_auto_flow": null,
      "grid_auto_rows": null,
      "grid_column": null,
      "grid_gap": null,
      "grid_row": null,
      "grid_template_areas": null,
      "grid_template_columns": null,
      "grid_template_rows": null,
      "height": null,
      "justify_content": null,
      "justify_items": null,
      "left": null,
      "margin": null,
      "max_height": null,
      "max_width": null,
      "min_height": null,
      "min_width": null,
      "object_fit": null,
      "object_position": null,
      "order": null,
      "overflow": null,
      "overflow_x": null,
      "overflow_y": null,
      "padding": null,
      "right": null,
      "top": null,
      "visibility": null,
      "width": null
     }
    },
    "a8cf4891a43d42309c47a8259864a8ef": {
     "model_module": "@jupyter-widgets/controls",
     "model_name": "FloatProgressModel",
     "state": {
      "_dom_classes": [],
      "_model_module": "@jupyter-widgets/controls",
      "_model_module_version": "1.5.0",
      "_model_name": "FloatProgressModel",
      "_view_count": null,
      "_view_module": "@jupyter-widgets/controls",
      "_view_module_version": "1.5.0",
      "_view_name": "ProgressView",
      "bar_style": "success",
      "description": "Dl Size...: 100%",
      "description_tooltip": null,
      "layout": "IPY_MODEL_6b935dde232b4665b7f345fc4db7e3e6",
      "max": 1,
      "min": 0,
      "orientation": "horizontal",
      "style": "IPY_MODEL_72d7b415ab6e48bdb1f7c81705aca0df",
      "value": 1
     }
    },
    "ab700272eec34e4ea5417a6f7f37e1c3": {
     "model_module": "@jupyter-widgets/base",
     "model_name": "LayoutModel",
     "state": {
      "_model_module": "@jupyter-widgets/base",
      "_model_module_version": "1.2.0",
      "_model_name": "LayoutModel",
      "_view_count": null,
      "_view_module": "@jupyter-widgets/base",
      "_view_module_version": "1.2.0",
      "_view_name": "LayoutView",
      "align_content": null,
      "align_items": null,
      "align_self": null,
      "border": null,
      "bottom": null,
      "display": null,
      "flex": null,
      "flex_flow": null,
      "grid_area": null,
      "grid_auto_columns": null,
      "grid_auto_flow": null,
      "grid_auto_rows": null,
      "grid_column": null,
      "grid_gap": null,
      "grid_row": null,
      "grid_template_areas": null,
      "grid_template_columns": null,
      "grid_template_rows": null,
      "height": null,
      "justify_content": null,
      "justify_items": null,
      "left": null,
      "margin": null,
      "max_height": null,
      "max_width": null,
      "min_height": null,
      "min_width": null,
      "object_fit": null,
      "object_position": null,
      "order": null,
      "overflow": null,
      "overflow_x": null,
      "overflow_y": null,
      "padding": null,
      "right": null,
      "top": null,
      "visibility": null,
      "width": null
     }
    },
    "ad8cb324c7c14a59b5405c23cdbde933": {
     "model_module": "@jupyter-widgets/controls",
     "model_name": "HTMLModel",
     "state": {
      "_dom_classes": [],
      "_model_module": "@jupyter-widgets/controls",
      "_model_module_version": "1.5.0",
      "_model_name": "HTMLModel",
      "_view_count": null,
      "_view_module": "@jupyter-widgets/controls",
      "_view_module_version": "1.5.0",
      "_view_name": "HTMLView",
      "description": "",
      "description_tooltip": null,
      "layout": "IPY_MODEL_906eb19b83a44cacb63b77f3c3500041",
      "placeholder": "​",
      "style": "IPY_MODEL_8feb7a43b08b463eb687727d9cb3d332",
      "value": " 31841/50000 [00:05&lt;00:00, 56181.01 examples/s]"
     }
    },
    "ad920b0087ca45919783b867bf3f786e": {
     "model_module": "@jupyter-widgets/controls",
     "model_name": "ProgressStyleModel",
     "state": {
      "_model_module": "@jupyter-widgets/controls",
      "_model_module_version": "1.5.0",
      "_model_name": "ProgressStyleModel",
      "_view_count": null,
      "_view_module": "@jupyter-widgets/base",
      "_view_module_version": "1.2.0",
      "_view_name": "StyleView",
      "bar_color": null,
      "description_width": "initial"
     }
    },
    "af7fb618b512415397f7f1ac96021705": {
     "model_module": "@jupyter-widgets/controls",
     "model_name": "HTMLModel",
     "state": {
      "_dom_classes": [],
      "_model_module": "@jupyter-widgets/controls",
      "_model_module_version": "1.5.0",
      "_model_name": "HTMLModel",
      "_view_count": null,
      "_view_module": "@jupyter-widgets/controls",
      "_view_module_version": "1.5.0",
      "_view_name": "HTMLView",
      "description": "",
      "description_tooltip": null,
      "layout": "IPY_MODEL_78e819833cb34007b79199d819d10f86",
      "placeholder": "​",
      "style": "IPY_MODEL_459a014927504c47a9999ac8a199f335",
      "value": " 14745/25000 [00:00&lt;00:00, 147441.35 examples/s]"
     }
    },
    "b88df1f96374496786a2961929d134ee": {
     "model_module": "@jupyter-widgets/controls",
     "model_name": "HBoxModel",
     "state": {
      "_dom_classes": [],
      "_model_module": "@jupyter-widgets/controls",
      "_model_module_version": "1.5.0",
      "_model_name": "HBoxModel",
      "_view_count": null,
      "_view_module": "@jupyter-widgets/controls",
      "_view_module_version": "1.5.0",
      "_view_name": "HBoxView",
      "box_style": "",
      "children": [
       "IPY_MODEL_f77bf8815e2d450a84fe50fe2ad8d37c",
       "IPY_MODEL_5e99f2a8ea5c4ac38412daddf324dc2e"
      ],
      "layout": "IPY_MODEL_99be3c796c6749918a86b96983c3187f"
     }
    },
    "bb47df9c7e2d4ceaa46e5415abc7248f": {
     "model_module": "@jupyter-widgets/controls",
     "model_name": "HBoxModel",
     "state": {
      "_dom_classes": [],
      "_model_module": "@jupyter-widgets/controls",
      "_model_module_version": "1.5.0",
      "_model_name": "HBoxModel",
      "_view_count": null,
      "_view_module": "@jupyter-widgets/controls",
      "_view_module_version": "1.5.0",
      "_view_name": "HBoxView",
      "box_style": "",
      "children": [
       "IPY_MODEL_ef42d4be21ae48c5ae8cfd2347fcd42c",
       "IPY_MODEL_1911012d99d048fbb31659548cee8b46"
      ],
      "layout": "IPY_MODEL_c10f7becae8849fc961a09e5c2461c74"
     }
    },
    "c10f7becae8849fc961a09e5c2461c74": {
     "model_module": "@jupyter-widgets/base",
     "model_name": "LayoutModel",
     "state": {
      "_model_module": "@jupyter-widgets/base",
      "_model_module_version": "1.2.0",
      "_model_name": "LayoutModel",
      "_view_count": null,
      "_view_module": "@jupyter-widgets/base",
      "_view_module_version": "1.2.0",
      "_view_name": "LayoutView",
      "align_content": null,
      "align_items": null,
      "align_self": null,
      "border": null,
      "bottom": null,
      "display": null,
      "flex": null,
      "flex_flow": null,
      "grid_area": null,
      "grid_auto_columns": null,
      "grid_auto_flow": null,
      "grid_auto_rows": null,
      "grid_column": null,
      "grid_gap": null,
      "grid_row": null,
      "grid_template_areas": null,
      "grid_template_columns": null,
      "grid_template_rows": null,
      "height": null,
      "justify_content": null,
      "justify_items": null,
      "left": null,
      "margin": null,
      "max_height": null,
      "max_width": null,
      "min_height": null,
      "min_width": null,
      "object_fit": null,
      "object_position": null,
      "order": null,
      "overflow": null,
      "overflow_x": null,
      "overflow_y": null,
      "padding": null,
      "right": null,
      "top": null,
      "visibility": null,
      "width": null
     }
    },
    "c1d9b47f7cb8498db52e08977603fb97": {
     "model_module": "@jupyter-widgets/base",
     "model_name": "LayoutModel",
     "state": {
      "_model_module": "@jupyter-widgets/base",
      "_model_module_version": "1.2.0",
      "_model_name": "LayoutModel",
      "_view_count": null,
      "_view_module": "@jupyter-widgets/base",
      "_view_module_version": "1.2.0",
      "_view_name": "LayoutView",
      "align_content": null,
      "align_items": null,
      "align_self": null,
      "border": null,
      "bottom": null,
      "display": null,
      "flex": null,
      "flex_flow": null,
      "grid_area": null,
      "grid_auto_columns": null,
      "grid_auto_flow": null,
      "grid_auto_rows": null,
      "grid_column": null,
      "grid_gap": null,
      "grid_row": null,
      "grid_template_areas": null,
      "grid_template_columns": null,
      "grid_template_rows": null,
      "height": null,
      "justify_content": null,
      "justify_items": null,
      "left": null,
      "margin": null,
      "max_height": null,
      "max_width": null,
      "min_height": null,
      "min_width": null,
      "object_fit": null,
      "object_position": null,
      "order": null,
      "overflow": null,
      "overflow_x": null,
      "overflow_y": null,
      "padding": null,
      "right": null,
      "top": null,
      "visibility": null,
      "width": null
     }
    },
    "c7b46ca4cfd74a5589cd02d17f3db559": {
     "model_module": "@jupyter-widgets/controls",
     "model_name": "DescriptionStyleModel",
     "state": {
      "_model_module": "@jupyter-widgets/controls",
      "_model_module_version": "1.5.0",
      "_model_name": "DescriptionStyleModel",
      "_view_count": null,
      "_view_module": "@jupyter-widgets/base",
      "_view_module_version": "1.2.0",
      "_view_name": "StyleView",
      "description_width": ""
     }
    },
    "cb5a0e5144c8412cb009b21627b30362": {
     "model_module": "@jupyter-widgets/controls",
     "model_name": "HBoxModel",
     "state": {
      "_dom_classes": [],
      "_model_module": "@jupyter-widgets/controls",
      "_model_module_version": "1.5.0",
      "_model_name": "HBoxModel",
      "_view_count": null,
      "_view_module": "@jupyter-widgets/controls",
      "_view_module_version": "1.5.0",
      "_view_name": "HBoxView",
      "box_style": "",
      "children": [
       "IPY_MODEL_29b13fe6401c47198ffc0347fabb3774",
       "IPY_MODEL_af7fb618b512415397f7f1ac96021705"
      ],
      "layout": "IPY_MODEL_f580476b9cb1475ab89dcb29cd70a162"
     }
    },
    "d6e25366299845948d7e284d8fccd686": {
     "model_module": "@jupyter-widgets/base",
     "model_name": "LayoutModel",
     "state": {
      "_model_module": "@jupyter-widgets/base",
      "_model_module_version": "1.2.0",
      "_model_name": "LayoutModel",
      "_view_count": null,
      "_view_module": "@jupyter-widgets/base",
      "_view_module_version": "1.2.0",
      "_view_name": "LayoutView",
      "align_content": null,
      "align_items": null,
      "align_self": null,
      "border": null,
      "bottom": null,
      "display": null,
      "flex": null,
      "flex_flow": null,
      "grid_area": null,
      "grid_auto_columns": null,
      "grid_auto_flow": null,
      "grid_auto_rows": null,
      "grid_column": null,
      "grid_gap": null,
      "grid_row": null,
      "grid_template_areas": null,
      "grid_template_columns": null,
      "grid_template_rows": null,
      "height": null,
      "justify_content": null,
      "justify_items": null,
      "left": null,
      "margin": null,
      "max_height": null,
      "max_width": null,
      "min_height": null,
      "min_width": null,
      "object_fit": null,
      "object_position": null,
      "order": null,
      "overflow": null,
      "overflow_x": null,
      "overflow_y": null,
      "padding": null,
      "right": null,
      "top": null,
      "visibility": null,
      "width": null
     }
    },
    "dbe2df78a3c54e5e8e31b8a880514b5c": {
     "model_module": "@jupyter-widgets/controls",
     "model_name": "ProgressStyleModel",
     "state": {
      "_model_module": "@jupyter-widgets/controls",
      "_model_module_version": "1.5.0",
      "_model_name": "ProgressStyleModel",
      "_view_count": null,
      "_view_module": "@jupyter-widgets/base",
      "_view_module_version": "1.2.0",
      "_view_name": "StyleView",
      "bar_color": null,
      "description_width": "initial"
     }
    },
    "dd931a6388ac4f288055e3227ef732c2": {
     "model_module": "@jupyter-widgets/base",
     "model_name": "LayoutModel",
     "state": {
      "_model_module": "@jupyter-widgets/base",
      "_model_module_version": "1.2.0",
      "_model_name": "LayoutModel",
      "_view_count": null,
      "_view_module": "@jupyter-widgets/base",
      "_view_module_version": "1.2.0",
      "_view_name": "LayoutView",
      "align_content": null,
      "align_items": null,
      "align_self": null,
      "border": null,
      "bottom": null,
      "display": null,
      "flex": null,
      "flex_flow": null,
      "grid_area": null,
      "grid_auto_columns": null,
      "grid_auto_flow": null,
      "grid_auto_rows": null,
      "grid_column": null,
      "grid_gap": null,
      "grid_row": null,
      "grid_template_areas": null,
      "grid_template_columns": null,
      "grid_template_rows": null,
      "height": null,
      "justify_content": null,
      "justify_items": null,
      "left": null,
      "margin": null,
      "max_height": null,
      "max_width": null,
      "min_height": null,
      "min_width": null,
      "object_fit": null,
      "object_position": null,
      "order": null,
      "overflow": null,
      "overflow_x": null,
      "overflow_y": null,
      "padding": null,
      "right": null,
      "top": null,
      "visibility": null,
      "width": null
     }
    },
    "dead037d04bf41a8b2eb35783d6bf3d9": {
     "model_module": "@jupyter-widgets/controls",
     "model_name": "ProgressStyleModel",
     "state": {
      "_model_module": "@jupyter-widgets/controls",
      "_model_module_version": "1.5.0",
      "_model_name": "ProgressStyleModel",
      "_view_count": null,
      "_view_module": "@jupyter-widgets/base",
      "_view_module_version": "1.2.0",
      "_view_name": "StyleView",
      "bar_color": null,
      "description_width": "initial"
     }
    },
    "e3ffe1cf2c1a4e60a4e00167826e6434": {
     "model_module": "@jupyter-widgets/controls",
     "model_name": "DescriptionStyleModel",
     "state": {
      "_model_module": "@jupyter-widgets/controls",
      "_model_module_version": "1.5.0",
      "_model_name": "DescriptionStyleModel",
      "_view_count": null,
      "_view_module": "@jupyter-widgets/base",
      "_view_module_version": "1.2.0",
      "_view_name": "StyleView",
      "description_width": ""
     }
    },
    "ef42d4be21ae48c5ae8cfd2347fcd42c": {
     "model_module": "@jupyter-widgets/controls",
     "model_name": "FloatProgressModel",
     "state": {
      "_dom_classes": [],
      "_model_module": "@jupyter-widgets/controls",
      "_model_module_version": "1.5.0",
      "_model_name": "FloatProgressModel",
      "_view_count": null,
      "_view_module": "@jupyter-widgets/controls",
      "_view_module_version": "1.5.0",
      "_view_name": "ProgressView",
      "bar_style": "info",
      "description": "",
      "description_tooltip": null,
      "layout": "IPY_MODEL_0308a4f4c6874e668cf142eab76eedf5",
      "max": 1,
      "min": 0,
      "orientation": "horizontal",
      "style": "IPY_MODEL_dbe2df78a3c54e5e8e31b8a880514b5c",
      "value": 1
     }
    },
    "ef96a233b6fe4672ac974c9aac955703": {
     "model_module": "@jupyter-widgets/controls",
     "model_name": "ProgressStyleModel",
     "state": {
      "_model_module": "@jupyter-widgets/controls",
      "_model_module_version": "1.5.0",
      "_model_name": "ProgressStyleModel",
      "_view_count": null,
      "_view_module": "@jupyter-widgets/base",
      "_view_module_version": "1.2.0",
      "_view_name": "StyleView",
      "bar_color": null,
      "description_width": "initial"
     }
    },
    "f2a137a6ba614b50ba994d631a53699b": {
     "model_module": "@jupyter-widgets/controls",
     "model_name": "ProgressStyleModel",
     "state": {
      "_model_module": "@jupyter-widgets/controls",
      "_model_module_version": "1.5.0",
      "_model_name": "ProgressStyleModel",
      "_view_count": null,
      "_view_module": "@jupyter-widgets/base",
      "_view_module_version": "1.2.0",
      "_view_name": "StyleView",
      "bar_color": null,
      "description_width": "initial"
     }
    },
    "f3b5b1356525403e9eb1b8558ed6cb37": {
     "model_module": "@jupyter-widgets/base",
     "model_name": "LayoutModel",
     "state": {
      "_model_module": "@jupyter-widgets/base",
      "_model_module_version": "1.2.0",
      "_model_name": "LayoutModel",
      "_view_count": null,
      "_view_module": "@jupyter-widgets/base",
      "_view_module_version": "1.2.0",
      "_view_name": "LayoutView",
      "align_content": null,
      "align_items": null,
      "align_self": null,
      "border": null,
      "bottom": null,
      "display": null,
      "flex": null,
      "flex_flow": null,
      "grid_area": null,
      "grid_auto_columns": null,
      "grid_auto_flow": null,
      "grid_auto_rows": null,
      "grid_column": null,
      "grid_gap": null,
      "grid_row": null,
      "grid_template_areas": null,
      "grid_template_columns": null,
      "grid_template_rows": null,
      "height": null,
      "justify_content": null,
      "justify_items": null,
      "left": null,
      "margin": null,
      "max_height": null,
      "max_width": null,
      "min_height": null,
      "min_width": null,
      "object_fit": null,
      "object_position": null,
      "order": null,
      "overflow": null,
      "overflow_x": null,
      "overflow_y": null,
      "padding": null,
      "right": null,
      "top": null,
      "visibility": null,
      "width": null
     }
    },
    "f580476b9cb1475ab89dcb29cd70a162": {
     "model_module": "@jupyter-widgets/base",
     "model_name": "LayoutModel",
     "state": {
      "_model_module": "@jupyter-widgets/base",
      "_model_module_version": "1.2.0",
      "_model_name": "LayoutModel",
      "_view_count": null,
      "_view_module": "@jupyter-widgets/base",
      "_view_module_version": "1.2.0",
      "_view_name": "LayoutView",
      "align_content": null,
      "align_items": null,
      "align_self": null,
      "border": null,
      "bottom": null,
      "display": null,
      "flex": null,
      "flex_flow": null,
      "grid_area": null,
      "grid_auto_columns": null,
      "grid_auto_flow": null,
      "grid_auto_rows": null,
      "grid_column": null,
      "grid_gap": null,
      "grid_row": null,
      "grid_template_areas": null,
      "grid_template_columns": null,
      "grid_template_rows": null,
      "height": null,
      "justify_content": null,
      "justify_items": null,
      "left": null,
      "margin": null,
      "max_height": null,
      "max_width": null,
      "min_height": null,
      "min_width": null,
      "object_fit": null,
      "object_position": null,
      "order": null,
      "overflow": null,
      "overflow_x": null,
      "overflow_y": null,
      "padding": null,
      "right": null,
      "top": null,
      "visibility": null,
      "width": null
     }
    },
    "f77bf8815e2d450a84fe50fe2ad8d37c": {
     "model_module": "@jupyter-widgets/controls",
     "model_name": "FloatProgressModel",
     "state": {
      "_dom_classes": [],
      "_model_module": "@jupyter-widgets/controls",
      "_model_module_version": "1.5.0",
      "_model_name": "FloatProgressModel",
      "_view_count": null,
      "_view_module": "@jupyter-widgets/controls",
      "_view_module_version": "1.5.0",
      "_view_name": "ProgressView",
      "bar_style": "success",
      "description": "Dl Completed...: 100%",
      "description_tooltip": null,
      "layout": "IPY_MODEL_0ee92f8f81aa409b8b2e65acda968402",
      "max": 1,
      "min": 0,
      "orientation": "horizontal",
      "style": "IPY_MODEL_81c30164d76f482b85982f6de2595f8c",
      "value": 1
     }
    },
    "f9620a403c0546189a747eebb1abb5bb": {
     "model_module": "@jupyter-widgets/controls",
     "model_name": "HTMLModel",
     "state": {
      "_dom_classes": [],
      "_model_module": "@jupyter-widgets/controls",
      "_model_module_version": "1.5.0",
      "_model_name": "HTMLModel",
      "_view_count": null,
      "_view_module": "@jupyter-widgets/controls",
      "_view_module_version": "1.5.0",
      "_view_name": "HTMLView",
      "description": "",
      "description_tooltip": null,
      "layout": "IPY_MODEL_9e25640735eb4b07a910b833ea3497d1",
      "placeholder": "​",
      "style": "IPY_MODEL_c7b46ca4cfd74a5589cd02d17f3db559",
      "value": " 50000/0 [00:17&lt;00:00, 3505.48 examples/s]"
     }
    }
   }
  }
 },
 "nbformat": 4,
 "nbformat_minor": 1
}
