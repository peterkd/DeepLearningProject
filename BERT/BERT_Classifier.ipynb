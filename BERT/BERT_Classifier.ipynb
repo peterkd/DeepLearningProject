{
  "nbformat": 4,
  "nbformat_minor": 0,
  "metadata": {
    "accelerator": "GPU",
    "colab": {
      "name": "BERT-Classifier",
      "provenance": [],
      "collapsed_sections": [],
      "toc_visible": true
    },
    "kernelspec": {
      "display_name": "Python 3",
      "language": "python",
      "name": "python3"
    },
    "language_info": {
      "codemirror_mode": {
        "name": "ipython",
        "version": 3
      },
      "file_extension": ".py",
      "mimetype": "text/x-python",
      "name": "python",
      "nbconvert_exporter": "python",
      "pygments_lexer": "ipython3",
      "version": "3.8.3"
    },
    "widgets": {
      "application/vnd.jupyter.widget-state+json": {
        "0e10e228ac044cc2aa48d5871eaf90fa": {
          "model_module": "@jupyter-widgets/controls",
          "model_name": "HBoxModel",
          "state": {
            "_view_name": "HBoxView",
            "_dom_classes": [],
            "_model_name": "HBoxModel",
            "_view_module": "@jupyter-widgets/controls",
            "_model_module_version": "1.5.0",
            "_view_count": null,
            "_view_module_version": "1.5.0",
            "box_style": "",
            "layout": "IPY_MODEL_859e26d60f4a4a1da3821b32da30bf67",
            "_model_module": "@jupyter-widgets/controls",
            "children": [
              "IPY_MODEL_cffe24d8c56d4894bec1245f77d20c8d",
              "IPY_MODEL_18df51e1d50e4e7f8786d8974331e1cd"
            ]
          }
        },
        "859e26d60f4a4a1da3821b32da30bf67": {
          "model_module": "@jupyter-widgets/base",
          "model_name": "LayoutModel",
          "state": {
            "_view_name": "LayoutView",
            "grid_template_rows": null,
            "right": null,
            "justify_content": null,
            "_view_module": "@jupyter-widgets/base",
            "overflow": null,
            "_model_module_version": "1.2.0",
            "_view_count": null,
            "flex_flow": null,
            "width": null,
            "min_width": null,
            "border": null,
            "align_items": null,
            "bottom": null,
            "_model_module": "@jupyter-widgets/base",
            "top": null,
            "grid_column": null,
            "overflow_y": null,
            "overflow_x": null,
            "grid_auto_flow": null,
            "grid_area": null,
            "grid_template_columns": null,
            "flex": null,
            "_model_name": "LayoutModel",
            "justify_items": null,
            "grid_row": null,
            "max_height": null,
            "align_content": null,
            "visibility": null,
            "align_self": null,
            "height": null,
            "min_height": null,
            "padding": null,
            "grid_auto_rows": null,
            "grid_gap": null,
            "max_width": null,
            "order": null,
            "_view_module_version": "1.2.0",
            "grid_template_areas": null,
            "object_position": null,
            "object_fit": null,
            "grid_auto_columns": null,
            "margin": null,
            "display": null,
            "left": null
          }
        },
        "cffe24d8c56d4894bec1245f77d20c8d": {
          "model_module": "@jupyter-widgets/controls",
          "model_name": "FloatProgressModel",
          "state": {
            "_view_name": "ProgressView",
            "style": "IPY_MODEL_56cb51cce8f24ef5b372cc64eee8187f",
            "_dom_classes": [],
            "description": "Dl Completed...: 100%",
            "_model_name": "FloatProgressModel",
            "bar_style": "success",
            "max": 1,
            "_view_module": "@jupyter-widgets/controls",
            "_model_module_version": "1.5.0",
            "value": 1,
            "_view_count": null,
            "_view_module_version": "1.5.0",
            "orientation": "horizontal",
            "min": 0,
            "description_tooltip": null,
            "_model_module": "@jupyter-widgets/controls",
            "layout": "IPY_MODEL_fe8b360693eb48428e52186bc4186f24"
          }
        },
        "18df51e1d50e4e7f8786d8974331e1cd": {
          "model_module": "@jupyter-widgets/controls",
          "model_name": "HTMLModel",
          "state": {
            "_view_name": "HTMLView",
            "style": "IPY_MODEL_eef69ea41d3444bda8b58d8c16d58ef2",
            "_dom_classes": [],
            "description": "",
            "_model_name": "HTMLModel",
            "placeholder": "​",
            "_view_module": "@jupyter-widgets/controls",
            "_model_module_version": "1.5.0",
            "value": " 1/1 [00:03&lt;00:00,  3.58s/ url]",
            "_view_count": null,
            "_view_module_version": "1.5.0",
            "description_tooltip": null,
            "_model_module": "@jupyter-widgets/controls",
            "layout": "IPY_MODEL_55cd80e93a884a708f5518321491fc69"
          }
        },
        "56cb51cce8f24ef5b372cc64eee8187f": {
          "model_module": "@jupyter-widgets/controls",
          "model_name": "ProgressStyleModel",
          "state": {
            "_view_name": "StyleView",
            "_model_name": "ProgressStyleModel",
            "description_width": "initial",
            "_view_module": "@jupyter-widgets/base",
            "_model_module_version": "1.5.0",
            "_view_count": null,
            "_view_module_version": "1.2.0",
            "bar_color": null,
            "_model_module": "@jupyter-widgets/controls"
          }
        },
        "fe8b360693eb48428e52186bc4186f24": {
          "model_module": "@jupyter-widgets/base",
          "model_name": "LayoutModel",
          "state": {
            "_view_name": "LayoutView",
            "grid_template_rows": null,
            "right": null,
            "justify_content": null,
            "_view_module": "@jupyter-widgets/base",
            "overflow": null,
            "_model_module_version": "1.2.0",
            "_view_count": null,
            "flex_flow": null,
            "width": null,
            "min_width": null,
            "border": null,
            "align_items": null,
            "bottom": null,
            "_model_module": "@jupyter-widgets/base",
            "top": null,
            "grid_column": null,
            "overflow_y": null,
            "overflow_x": null,
            "grid_auto_flow": null,
            "grid_area": null,
            "grid_template_columns": null,
            "flex": null,
            "_model_name": "LayoutModel",
            "justify_items": null,
            "grid_row": null,
            "max_height": null,
            "align_content": null,
            "visibility": null,
            "align_self": null,
            "height": null,
            "min_height": null,
            "padding": null,
            "grid_auto_rows": null,
            "grid_gap": null,
            "max_width": null,
            "order": null,
            "_view_module_version": "1.2.0",
            "grid_template_areas": null,
            "object_position": null,
            "object_fit": null,
            "grid_auto_columns": null,
            "margin": null,
            "display": null,
            "left": null
          }
        },
        "eef69ea41d3444bda8b58d8c16d58ef2": {
          "model_module": "@jupyter-widgets/controls",
          "model_name": "DescriptionStyleModel",
          "state": {
            "_view_name": "StyleView",
            "_model_name": "DescriptionStyleModel",
            "description_width": "",
            "_view_module": "@jupyter-widgets/base",
            "_model_module_version": "1.5.0",
            "_view_count": null,
            "_view_module_version": "1.2.0",
            "_model_module": "@jupyter-widgets/controls"
          }
        },
        "55cd80e93a884a708f5518321491fc69": {
          "model_module": "@jupyter-widgets/base",
          "model_name": "LayoutModel",
          "state": {
            "_view_name": "LayoutView",
            "grid_template_rows": null,
            "right": null,
            "justify_content": null,
            "_view_module": "@jupyter-widgets/base",
            "overflow": null,
            "_model_module_version": "1.2.0",
            "_view_count": null,
            "flex_flow": null,
            "width": null,
            "min_width": null,
            "border": null,
            "align_items": null,
            "bottom": null,
            "_model_module": "@jupyter-widgets/base",
            "top": null,
            "grid_column": null,
            "overflow_y": null,
            "overflow_x": null,
            "grid_auto_flow": null,
            "grid_area": null,
            "grid_template_columns": null,
            "flex": null,
            "_model_name": "LayoutModel",
            "justify_items": null,
            "grid_row": null,
            "max_height": null,
            "align_content": null,
            "visibility": null,
            "align_self": null,
            "height": null,
            "min_height": null,
            "padding": null,
            "grid_auto_rows": null,
            "grid_gap": null,
            "max_width": null,
            "order": null,
            "_view_module_version": "1.2.0",
            "grid_template_areas": null,
            "object_position": null,
            "object_fit": null,
            "grid_auto_columns": null,
            "margin": null,
            "display": null,
            "left": null
          }
        },
        "c7735c0a3ef04e999b180b0db7d5374c": {
          "model_module": "@jupyter-widgets/controls",
          "model_name": "HBoxModel",
          "state": {
            "_view_name": "HBoxView",
            "_dom_classes": [],
            "_model_name": "HBoxModel",
            "_view_module": "@jupyter-widgets/controls",
            "_model_module_version": "1.5.0",
            "_view_count": null,
            "_view_module_version": "1.5.0",
            "box_style": "",
            "layout": "IPY_MODEL_a3d64a0ab1e14d9094310632d427288b",
            "_model_module": "@jupyter-widgets/controls",
            "children": [
              "IPY_MODEL_9f518a4d25054a838725a8851d5d7d8b",
              "IPY_MODEL_6a77b93ea8e74dc79088d33819e0f885"
            ]
          }
        },
        "a3d64a0ab1e14d9094310632d427288b": {
          "model_module": "@jupyter-widgets/base",
          "model_name": "LayoutModel",
          "state": {
            "_view_name": "LayoutView",
            "grid_template_rows": null,
            "right": null,
            "justify_content": null,
            "_view_module": "@jupyter-widgets/base",
            "overflow": null,
            "_model_module_version": "1.2.0",
            "_view_count": null,
            "flex_flow": null,
            "width": null,
            "min_width": null,
            "border": null,
            "align_items": null,
            "bottom": null,
            "_model_module": "@jupyter-widgets/base",
            "top": null,
            "grid_column": null,
            "overflow_y": null,
            "overflow_x": null,
            "grid_auto_flow": null,
            "grid_area": null,
            "grid_template_columns": null,
            "flex": null,
            "_model_name": "LayoutModel",
            "justify_items": null,
            "grid_row": null,
            "max_height": null,
            "align_content": null,
            "visibility": null,
            "align_self": null,
            "height": null,
            "min_height": null,
            "padding": null,
            "grid_auto_rows": null,
            "grid_gap": null,
            "max_width": null,
            "order": null,
            "_view_module_version": "1.2.0",
            "grid_template_areas": null,
            "object_position": null,
            "object_fit": null,
            "grid_auto_columns": null,
            "margin": null,
            "display": null,
            "left": null
          }
        },
        "9f518a4d25054a838725a8851d5d7d8b": {
          "model_module": "@jupyter-widgets/controls",
          "model_name": "FloatProgressModel",
          "state": {
            "_view_name": "ProgressView",
            "style": "IPY_MODEL_90376cbca3e84a7ebc5acd2e5ca883ad",
            "_dom_classes": [],
            "description": "Dl Size...: 100%",
            "_model_name": "FloatProgressModel",
            "bar_style": "success",
            "max": 1,
            "_view_module": "@jupyter-widgets/controls",
            "_model_module_version": "1.5.0",
            "value": 1,
            "_view_count": null,
            "_view_module_version": "1.5.0",
            "orientation": "horizontal",
            "min": 0,
            "description_tooltip": null,
            "_model_module": "@jupyter-widgets/controls",
            "layout": "IPY_MODEL_5023af4eb4a94af1986b95a8a70d0954"
          }
        },
        "6a77b93ea8e74dc79088d33819e0f885": {
          "model_module": "@jupyter-widgets/controls",
          "model_name": "HTMLModel",
          "state": {
            "_view_name": "HTMLView",
            "style": "IPY_MODEL_64a8432776784b0bbbe997404e38d6fb",
            "_dom_classes": [],
            "description": "",
            "_model_name": "HTMLModel",
            "placeholder": "​",
            "_view_module": "@jupyter-widgets/controls",
            "_model_module_version": "1.5.0",
            "value": " 80/80 [00:03&lt;00:00, 22.49 MiB/s]",
            "_view_count": null,
            "_view_module_version": "1.5.0",
            "description_tooltip": null,
            "_model_module": "@jupyter-widgets/controls",
            "layout": "IPY_MODEL_c68bd304701f4657913b77f39e612a30"
          }
        },
        "90376cbca3e84a7ebc5acd2e5ca883ad": {
          "model_module": "@jupyter-widgets/controls",
          "model_name": "ProgressStyleModel",
          "state": {
            "_view_name": "StyleView",
            "_model_name": "ProgressStyleModel",
            "description_width": "initial",
            "_view_module": "@jupyter-widgets/base",
            "_model_module_version": "1.5.0",
            "_view_count": null,
            "_view_module_version": "1.2.0",
            "bar_color": null,
            "_model_module": "@jupyter-widgets/controls"
          }
        },
        "5023af4eb4a94af1986b95a8a70d0954": {
          "model_module": "@jupyter-widgets/base",
          "model_name": "LayoutModel",
          "state": {
            "_view_name": "LayoutView",
            "grid_template_rows": null,
            "right": null,
            "justify_content": null,
            "_view_module": "@jupyter-widgets/base",
            "overflow": null,
            "_model_module_version": "1.2.0",
            "_view_count": null,
            "flex_flow": null,
            "width": null,
            "min_width": null,
            "border": null,
            "align_items": null,
            "bottom": null,
            "_model_module": "@jupyter-widgets/base",
            "top": null,
            "grid_column": null,
            "overflow_y": null,
            "overflow_x": null,
            "grid_auto_flow": null,
            "grid_area": null,
            "grid_template_columns": null,
            "flex": null,
            "_model_name": "LayoutModel",
            "justify_items": null,
            "grid_row": null,
            "max_height": null,
            "align_content": null,
            "visibility": null,
            "align_self": null,
            "height": null,
            "min_height": null,
            "padding": null,
            "grid_auto_rows": null,
            "grid_gap": null,
            "max_width": null,
            "order": null,
            "_view_module_version": "1.2.0",
            "grid_template_areas": null,
            "object_position": null,
            "object_fit": null,
            "grid_auto_columns": null,
            "margin": null,
            "display": null,
            "left": null
          }
        },
        "64a8432776784b0bbbe997404e38d6fb": {
          "model_module": "@jupyter-widgets/controls",
          "model_name": "DescriptionStyleModel",
          "state": {
            "_view_name": "StyleView",
            "_model_name": "DescriptionStyleModel",
            "description_width": "",
            "_view_module": "@jupyter-widgets/base",
            "_model_module_version": "1.5.0",
            "_view_count": null,
            "_view_module_version": "1.2.0",
            "_model_module": "@jupyter-widgets/controls"
          }
        },
        "c68bd304701f4657913b77f39e612a30": {
          "model_module": "@jupyter-widgets/base",
          "model_name": "LayoutModel",
          "state": {
            "_view_name": "LayoutView",
            "grid_template_rows": null,
            "right": null,
            "justify_content": null,
            "_view_module": "@jupyter-widgets/base",
            "overflow": null,
            "_model_module_version": "1.2.0",
            "_view_count": null,
            "flex_flow": null,
            "width": null,
            "min_width": null,
            "border": null,
            "align_items": null,
            "bottom": null,
            "_model_module": "@jupyter-widgets/base",
            "top": null,
            "grid_column": null,
            "overflow_y": null,
            "overflow_x": null,
            "grid_auto_flow": null,
            "grid_area": null,
            "grid_template_columns": null,
            "flex": null,
            "_model_name": "LayoutModel",
            "justify_items": null,
            "grid_row": null,
            "max_height": null,
            "align_content": null,
            "visibility": null,
            "align_self": null,
            "height": null,
            "min_height": null,
            "padding": null,
            "grid_auto_rows": null,
            "grid_gap": null,
            "max_width": null,
            "order": null,
            "_view_module_version": "1.2.0",
            "grid_template_areas": null,
            "object_position": null,
            "object_fit": null,
            "grid_auto_columns": null,
            "margin": null,
            "display": null,
            "left": null
          }
        },
        "2dfd8f0aebe54b0ea1852b62fd688a1e": {
          "model_module": "@jupyter-widgets/controls",
          "model_name": "HBoxModel",
          "state": {
            "_view_name": "HBoxView",
            "_dom_classes": [],
            "_model_name": "HBoxModel",
            "_view_module": "@jupyter-widgets/controls",
            "_model_module_version": "1.5.0",
            "_view_count": null,
            "_view_module_version": "1.5.0",
            "box_style": "",
            "layout": "IPY_MODEL_27aa18dbdb374c37a329b3637398846d",
            "_model_module": "@jupyter-widgets/controls",
            "children": [
              "IPY_MODEL_f1cab7d82e9043069d38582491bdec72",
              "IPY_MODEL_bf85611f174147768ece3d6b7ad3ae49"
            ]
          }
        },
        "27aa18dbdb374c37a329b3637398846d": {
          "model_module": "@jupyter-widgets/base",
          "model_name": "LayoutModel",
          "state": {
            "_view_name": "LayoutView",
            "grid_template_rows": null,
            "right": null,
            "justify_content": null,
            "_view_module": "@jupyter-widgets/base",
            "overflow": null,
            "_model_module_version": "1.2.0",
            "_view_count": null,
            "flex_flow": null,
            "width": null,
            "min_width": null,
            "border": null,
            "align_items": null,
            "bottom": null,
            "_model_module": "@jupyter-widgets/base",
            "top": null,
            "grid_column": null,
            "overflow_y": null,
            "overflow_x": null,
            "grid_auto_flow": null,
            "grid_area": null,
            "grid_template_columns": null,
            "flex": null,
            "_model_name": "LayoutModel",
            "justify_items": null,
            "grid_row": null,
            "max_height": null,
            "align_content": null,
            "visibility": null,
            "align_self": null,
            "height": null,
            "min_height": null,
            "padding": null,
            "grid_auto_rows": null,
            "grid_gap": null,
            "max_width": null,
            "order": null,
            "_view_module_version": "1.2.0",
            "grid_template_areas": null,
            "object_position": null,
            "object_fit": null,
            "grid_auto_columns": null,
            "margin": null,
            "display": null,
            "left": null
          }
        },
        "f1cab7d82e9043069d38582491bdec72": {
          "model_module": "@jupyter-widgets/controls",
          "model_name": "FloatProgressModel",
          "state": {
            "_view_name": "ProgressView",
            "style": "IPY_MODEL_af95a364a1f247f6a5a24cce09f07033",
            "_dom_classes": [],
            "description": "",
            "_model_name": "FloatProgressModel",
            "bar_style": "info",
            "max": 1,
            "_view_module": "@jupyter-widgets/controls",
            "_model_module_version": "1.5.0",
            "value": 1,
            "_view_count": null,
            "_view_module_version": "1.5.0",
            "orientation": "horizontal",
            "min": 0,
            "description_tooltip": null,
            "_model_module": "@jupyter-widgets/controls",
            "layout": "IPY_MODEL_584c6609c5b34ee5bab77d1eb8776d3c"
          }
        },
        "bf85611f174147768ece3d6b7ad3ae49": {
          "model_module": "@jupyter-widgets/controls",
          "model_name": "HTMLModel",
          "state": {
            "_view_name": "HTMLView",
            "style": "IPY_MODEL_ca663abf5ed84bbc9640083e8297e529",
            "_dom_classes": [],
            "description": "",
            "_model_name": "HTMLModel",
            "placeholder": "​",
            "_view_module": "@jupyter-widgets/controls",
            "_model_module_version": "1.5.0",
            "value": " 25000/0 [00:13&lt;00:00, 3365.82 examples/s]",
            "_view_count": null,
            "_view_module_version": "1.5.0",
            "description_tooltip": null,
            "_model_module": "@jupyter-widgets/controls",
            "layout": "IPY_MODEL_5cc26fc2477148548c699d69ad552e75"
          }
        },
        "af95a364a1f247f6a5a24cce09f07033": {
          "model_module": "@jupyter-widgets/controls",
          "model_name": "ProgressStyleModel",
          "state": {
            "_view_name": "StyleView",
            "_model_name": "ProgressStyleModel",
            "description_width": "initial",
            "_view_module": "@jupyter-widgets/base",
            "_model_module_version": "1.5.0",
            "_view_count": null,
            "_view_module_version": "1.2.0",
            "bar_color": null,
            "_model_module": "@jupyter-widgets/controls"
          }
        },
        "584c6609c5b34ee5bab77d1eb8776d3c": {
          "model_module": "@jupyter-widgets/base",
          "model_name": "LayoutModel",
          "state": {
            "_view_name": "LayoutView",
            "grid_template_rows": null,
            "right": null,
            "justify_content": null,
            "_view_module": "@jupyter-widgets/base",
            "overflow": null,
            "_model_module_version": "1.2.0",
            "_view_count": null,
            "flex_flow": null,
            "width": null,
            "min_width": null,
            "border": null,
            "align_items": null,
            "bottom": null,
            "_model_module": "@jupyter-widgets/base",
            "top": null,
            "grid_column": null,
            "overflow_y": null,
            "overflow_x": null,
            "grid_auto_flow": null,
            "grid_area": null,
            "grid_template_columns": null,
            "flex": null,
            "_model_name": "LayoutModel",
            "justify_items": null,
            "grid_row": null,
            "max_height": null,
            "align_content": null,
            "visibility": null,
            "align_self": null,
            "height": null,
            "min_height": null,
            "padding": null,
            "grid_auto_rows": null,
            "grid_gap": null,
            "max_width": null,
            "order": null,
            "_view_module_version": "1.2.0",
            "grid_template_areas": null,
            "object_position": null,
            "object_fit": null,
            "grid_auto_columns": null,
            "margin": null,
            "display": null,
            "left": null
          }
        },
        "ca663abf5ed84bbc9640083e8297e529": {
          "model_module": "@jupyter-widgets/controls",
          "model_name": "DescriptionStyleModel",
          "state": {
            "_view_name": "StyleView",
            "_model_name": "DescriptionStyleModel",
            "description_width": "",
            "_view_module": "@jupyter-widgets/base",
            "_model_module_version": "1.5.0",
            "_view_count": null,
            "_view_module_version": "1.2.0",
            "_model_module": "@jupyter-widgets/controls"
          }
        },
        "5cc26fc2477148548c699d69ad552e75": {
          "model_module": "@jupyter-widgets/base",
          "model_name": "LayoutModel",
          "state": {
            "_view_name": "LayoutView",
            "grid_template_rows": null,
            "right": null,
            "justify_content": null,
            "_view_module": "@jupyter-widgets/base",
            "overflow": null,
            "_model_module_version": "1.2.0",
            "_view_count": null,
            "flex_flow": null,
            "width": null,
            "min_width": null,
            "border": null,
            "align_items": null,
            "bottom": null,
            "_model_module": "@jupyter-widgets/base",
            "top": null,
            "grid_column": null,
            "overflow_y": null,
            "overflow_x": null,
            "grid_auto_flow": null,
            "grid_area": null,
            "grid_template_columns": null,
            "flex": null,
            "_model_name": "LayoutModel",
            "justify_items": null,
            "grid_row": null,
            "max_height": null,
            "align_content": null,
            "visibility": null,
            "align_self": null,
            "height": null,
            "min_height": null,
            "padding": null,
            "grid_auto_rows": null,
            "grid_gap": null,
            "max_width": null,
            "order": null,
            "_view_module_version": "1.2.0",
            "grid_template_areas": null,
            "object_position": null,
            "object_fit": null,
            "grid_auto_columns": null,
            "margin": null,
            "display": null,
            "left": null
          }
        },
        "5909b9aaab0b48b7b35d81621934c62f": {
          "model_module": "@jupyter-widgets/controls",
          "model_name": "HBoxModel",
          "state": {
            "_view_name": "HBoxView",
            "_dom_classes": [],
            "_model_name": "HBoxModel",
            "_view_module": "@jupyter-widgets/controls",
            "_model_module_version": "1.5.0",
            "_view_count": null,
            "_view_module_version": "1.5.0",
            "box_style": "",
            "layout": "IPY_MODEL_f756a3a7162c4fc8b609bd635d9724bc",
            "_model_module": "@jupyter-widgets/controls",
            "children": [
              "IPY_MODEL_f78bf5dd6b194554adefec664a2bcddc",
              "IPY_MODEL_1431dc6faa674b0b891ee3d1033f505b"
            ]
          }
        },
        "f756a3a7162c4fc8b609bd635d9724bc": {
          "model_module": "@jupyter-widgets/base",
          "model_name": "LayoutModel",
          "state": {
            "_view_name": "LayoutView",
            "grid_template_rows": null,
            "right": null,
            "justify_content": null,
            "_view_module": "@jupyter-widgets/base",
            "overflow": null,
            "_model_module_version": "1.2.0",
            "_view_count": null,
            "flex_flow": null,
            "width": null,
            "min_width": null,
            "border": null,
            "align_items": null,
            "bottom": null,
            "_model_module": "@jupyter-widgets/base",
            "top": null,
            "grid_column": null,
            "overflow_y": null,
            "overflow_x": null,
            "grid_auto_flow": null,
            "grid_area": null,
            "grid_template_columns": null,
            "flex": null,
            "_model_name": "LayoutModel",
            "justify_items": null,
            "grid_row": null,
            "max_height": null,
            "align_content": null,
            "visibility": null,
            "align_self": null,
            "height": null,
            "min_height": null,
            "padding": null,
            "grid_auto_rows": null,
            "grid_gap": null,
            "max_width": null,
            "order": null,
            "_view_module_version": "1.2.0",
            "grid_template_areas": null,
            "object_position": null,
            "object_fit": null,
            "grid_auto_columns": null,
            "margin": null,
            "display": null,
            "left": null
          }
        },
        "f78bf5dd6b194554adefec664a2bcddc": {
          "model_module": "@jupyter-widgets/controls",
          "model_name": "FloatProgressModel",
          "state": {
            "_view_name": "ProgressView",
            "style": "IPY_MODEL_da224ad6d37942acb0cb2ff501d3ae98",
            "_dom_classes": [],
            "description": " 44%",
            "_model_name": "FloatProgressModel",
            "bar_style": "danger",
            "max": 25000,
            "_view_module": "@jupyter-widgets/controls",
            "_model_module_version": "1.5.0",
            "value": 11020,
            "_view_count": null,
            "_view_module_version": "1.5.0",
            "orientation": "horizontal",
            "min": 0,
            "description_tooltip": null,
            "_model_module": "@jupyter-widgets/controls",
            "layout": "IPY_MODEL_89ba2a430a784ff7af10651af8d34a65"
          }
        },
        "1431dc6faa674b0b891ee3d1033f505b": {
          "model_module": "@jupyter-widgets/controls",
          "model_name": "HTMLModel",
          "state": {
            "_view_name": "HTMLView",
            "style": "IPY_MODEL_3af8cebd917f41088999616c79ea0971",
            "_dom_classes": [],
            "description": "",
            "_model_name": "HTMLModel",
            "placeholder": "​",
            "_view_module": "@jupyter-widgets/controls",
            "_model_module_version": "1.5.0",
            "value": " 11020/25000 [00:00&lt;00:00, 110195.38 examples/s]",
            "_view_count": null,
            "_view_module_version": "1.5.0",
            "description_tooltip": null,
            "_model_module": "@jupyter-widgets/controls",
            "layout": "IPY_MODEL_0cd1c43d457f497c9a5c4893db3180bd"
          }
        },
        "da224ad6d37942acb0cb2ff501d3ae98": {
          "model_module": "@jupyter-widgets/controls",
          "model_name": "ProgressStyleModel",
          "state": {
            "_view_name": "StyleView",
            "_model_name": "ProgressStyleModel",
            "description_width": "initial",
            "_view_module": "@jupyter-widgets/base",
            "_model_module_version": "1.5.0",
            "_view_count": null,
            "_view_module_version": "1.2.0",
            "bar_color": null,
            "_model_module": "@jupyter-widgets/controls"
          }
        },
        "89ba2a430a784ff7af10651af8d34a65": {
          "model_module": "@jupyter-widgets/base",
          "model_name": "LayoutModel",
          "state": {
            "_view_name": "LayoutView",
            "grid_template_rows": null,
            "right": null,
            "justify_content": null,
            "_view_module": "@jupyter-widgets/base",
            "overflow": null,
            "_model_module_version": "1.2.0",
            "_view_count": null,
            "flex_flow": null,
            "width": null,
            "min_width": null,
            "border": null,
            "align_items": null,
            "bottom": null,
            "_model_module": "@jupyter-widgets/base",
            "top": null,
            "grid_column": null,
            "overflow_y": null,
            "overflow_x": null,
            "grid_auto_flow": null,
            "grid_area": null,
            "grid_template_columns": null,
            "flex": null,
            "_model_name": "LayoutModel",
            "justify_items": null,
            "grid_row": null,
            "max_height": null,
            "align_content": null,
            "visibility": null,
            "align_self": null,
            "height": null,
            "min_height": null,
            "padding": null,
            "grid_auto_rows": null,
            "grid_gap": null,
            "max_width": null,
            "order": null,
            "_view_module_version": "1.2.0",
            "grid_template_areas": null,
            "object_position": null,
            "object_fit": null,
            "grid_auto_columns": null,
            "margin": null,
            "display": null,
            "left": null
          }
        },
        "3af8cebd917f41088999616c79ea0971": {
          "model_module": "@jupyter-widgets/controls",
          "model_name": "DescriptionStyleModel",
          "state": {
            "_view_name": "StyleView",
            "_model_name": "DescriptionStyleModel",
            "description_width": "",
            "_view_module": "@jupyter-widgets/base",
            "_model_module_version": "1.5.0",
            "_view_count": null,
            "_view_module_version": "1.2.0",
            "_model_module": "@jupyter-widgets/controls"
          }
        },
        "0cd1c43d457f497c9a5c4893db3180bd": {
          "model_module": "@jupyter-widgets/base",
          "model_name": "LayoutModel",
          "state": {
            "_view_name": "LayoutView",
            "grid_template_rows": null,
            "right": null,
            "justify_content": null,
            "_view_module": "@jupyter-widgets/base",
            "overflow": null,
            "_model_module_version": "1.2.0",
            "_view_count": null,
            "flex_flow": null,
            "width": null,
            "min_width": null,
            "border": null,
            "align_items": null,
            "bottom": null,
            "_model_module": "@jupyter-widgets/base",
            "top": null,
            "grid_column": null,
            "overflow_y": null,
            "overflow_x": null,
            "grid_auto_flow": null,
            "grid_area": null,
            "grid_template_columns": null,
            "flex": null,
            "_model_name": "LayoutModel",
            "justify_items": null,
            "grid_row": null,
            "max_height": null,
            "align_content": null,
            "visibility": null,
            "align_self": null,
            "height": null,
            "min_height": null,
            "padding": null,
            "grid_auto_rows": null,
            "grid_gap": null,
            "max_width": null,
            "order": null,
            "_view_module_version": "1.2.0",
            "grid_template_areas": null,
            "object_position": null,
            "object_fit": null,
            "grid_auto_columns": null,
            "margin": null,
            "display": null,
            "left": null
          }
        },
        "23ed20931d5c41da855752b9139c9609": {
          "model_module": "@jupyter-widgets/controls",
          "model_name": "HBoxModel",
          "state": {
            "_view_name": "HBoxView",
            "_dom_classes": [],
            "_model_name": "HBoxModel",
            "_view_module": "@jupyter-widgets/controls",
            "_model_module_version": "1.5.0",
            "_view_count": null,
            "_view_module_version": "1.5.0",
            "box_style": "",
            "layout": "IPY_MODEL_0976186fc7054b419bee77698aae2fee",
            "_model_module": "@jupyter-widgets/controls",
            "children": [
              "IPY_MODEL_297264b615b54ef3aa310dc5ff044e6d",
              "IPY_MODEL_5b984cc8220048cc8e6303526a48400c"
            ]
          }
        },
        "0976186fc7054b419bee77698aae2fee": {
          "model_module": "@jupyter-widgets/base",
          "model_name": "LayoutModel",
          "state": {
            "_view_name": "LayoutView",
            "grid_template_rows": null,
            "right": null,
            "justify_content": null,
            "_view_module": "@jupyter-widgets/base",
            "overflow": null,
            "_model_module_version": "1.2.0",
            "_view_count": null,
            "flex_flow": null,
            "width": null,
            "min_width": null,
            "border": null,
            "align_items": null,
            "bottom": null,
            "_model_module": "@jupyter-widgets/base",
            "top": null,
            "grid_column": null,
            "overflow_y": null,
            "overflow_x": null,
            "grid_auto_flow": null,
            "grid_area": null,
            "grid_template_columns": null,
            "flex": null,
            "_model_name": "LayoutModel",
            "justify_items": null,
            "grid_row": null,
            "max_height": null,
            "align_content": null,
            "visibility": null,
            "align_self": null,
            "height": null,
            "min_height": null,
            "padding": null,
            "grid_auto_rows": null,
            "grid_gap": null,
            "max_width": null,
            "order": null,
            "_view_module_version": "1.2.0",
            "grid_template_areas": null,
            "object_position": null,
            "object_fit": null,
            "grid_auto_columns": null,
            "margin": null,
            "display": null,
            "left": null
          }
        },
        "297264b615b54ef3aa310dc5ff044e6d": {
          "model_module": "@jupyter-widgets/controls",
          "model_name": "FloatProgressModel",
          "state": {
            "_view_name": "ProgressView",
            "style": "IPY_MODEL_324dfad07cdf486486a2cb83b687ba36",
            "_dom_classes": [],
            "description": "",
            "_model_name": "FloatProgressModel",
            "bar_style": "info",
            "max": 1,
            "_view_module": "@jupyter-widgets/controls",
            "_model_module_version": "1.5.0",
            "value": 1,
            "_view_count": null,
            "_view_module_version": "1.5.0",
            "orientation": "horizontal",
            "min": 0,
            "description_tooltip": null,
            "_model_module": "@jupyter-widgets/controls",
            "layout": "IPY_MODEL_2ad1ff62058743f190e1802d8edfb388"
          }
        },
        "5b984cc8220048cc8e6303526a48400c": {
          "model_module": "@jupyter-widgets/controls",
          "model_name": "HTMLModel",
          "state": {
            "_view_name": "HTMLView",
            "style": "IPY_MODEL_9f77a9b330e144e49610a97c4aa5b2a5",
            "_dom_classes": [],
            "description": "",
            "_model_name": "HTMLModel",
            "placeholder": "​",
            "_view_module": "@jupyter-widgets/controls",
            "_model_module_version": "1.5.0",
            "value": " 25000/0 [00:12&lt;00:00, 3540.10 examples/s]",
            "_view_count": null,
            "_view_module_version": "1.5.0",
            "description_tooltip": null,
            "_model_module": "@jupyter-widgets/controls",
            "layout": "IPY_MODEL_f3fbafd613f848c2bac04f35a5e283b9"
          }
        },
        "324dfad07cdf486486a2cb83b687ba36": {
          "model_module": "@jupyter-widgets/controls",
          "model_name": "ProgressStyleModel",
          "state": {
            "_view_name": "StyleView",
            "_model_name": "ProgressStyleModel",
            "description_width": "initial",
            "_view_module": "@jupyter-widgets/base",
            "_model_module_version": "1.5.0",
            "_view_count": null,
            "_view_module_version": "1.2.0",
            "bar_color": null,
            "_model_module": "@jupyter-widgets/controls"
          }
        },
        "2ad1ff62058743f190e1802d8edfb388": {
          "model_module": "@jupyter-widgets/base",
          "model_name": "LayoutModel",
          "state": {
            "_view_name": "LayoutView",
            "grid_template_rows": null,
            "right": null,
            "justify_content": null,
            "_view_module": "@jupyter-widgets/base",
            "overflow": null,
            "_model_module_version": "1.2.0",
            "_view_count": null,
            "flex_flow": null,
            "width": null,
            "min_width": null,
            "border": null,
            "align_items": null,
            "bottom": null,
            "_model_module": "@jupyter-widgets/base",
            "top": null,
            "grid_column": null,
            "overflow_y": null,
            "overflow_x": null,
            "grid_auto_flow": null,
            "grid_area": null,
            "grid_template_columns": null,
            "flex": null,
            "_model_name": "LayoutModel",
            "justify_items": null,
            "grid_row": null,
            "max_height": null,
            "align_content": null,
            "visibility": null,
            "align_self": null,
            "height": null,
            "min_height": null,
            "padding": null,
            "grid_auto_rows": null,
            "grid_gap": null,
            "max_width": null,
            "order": null,
            "_view_module_version": "1.2.0",
            "grid_template_areas": null,
            "object_position": null,
            "object_fit": null,
            "grid_auto_columns": null,
            "margin": null,
            "display": null,
            "left": null
          }
        },
        "9f77a9b330e144e49610a97c4aa5b2a5": {
          "model_module": "@jupyter-widgets/controls",
          "model_name": "DescriptionStyleModel",
          "state": {
            "_view_name": "StyleView",
            "_model_name": "DescriptionStyleModel",
            "description_width": "",
            "_view_module": "@jupyter-widgets/base",
            "_model_module_version": "1.5.0",
            "_view_count": null,
            "_view_module_version": "1.2.0",
            "_model_module": "@jupyter-widgets/controls"
          }
        },
        "f3fbafd613f848c2bac04f35a5e283b9": {
          "model_module": "@jupyter-widgets/base",
          "model_name": "LayoutModel",
          "state": {
            "_view_name": "LayoutView",
            "grid_template_rows": null,
            "right": null,
            "justify_content": null,
            "_view_module": "@jupyter-widgets/base",
            "overflow": null,
            "_model_module_version": "1.2.0",
            "_view_count": null,
            "flex_flow": null,
            "width": null,
            "min_width": null,
            "border": null,
            "align_items": null,
            "bottom": null,
            "_model_module": "@jupyter-widgets/base",
            "top": null,
            "grid_column": null,
            "overflow_y": null,
            "overflow_x": null,
            "grid_auto_flow": null,
            "grid_area": null,
            "grid_template_columns": null,
            "flex": null,
            "_model_name": "LayoutModel",
            "justify_items": null,
            "grid_row": null,
            "max_height": null,
            "align_content": null,
            "visibility": null,
            "align_self": null,
            "height": null,
            "min_height": null,
            "padding": null,
            "grid_auto_rows": null,
            "grid_gap": null,
            "max_width": null,
            "order": null,
            "_view_module_version": "1.2.0",
            "grid_template_areas": null,
            "object_position": null,
            "object_fit": null,
            "grid_auto_columns": null,
            "margin": null,
            "display": null,
            "left": null
          }
        },
        "9672617b57344eba88a88a6e76695ed0": {
          "model_module": "@jupyter-widgets/controls",
          "model_name": "HBoxModel",
          "state": {
            "_view_name": "HBoxView",
            "_dom_classes": [],
            "_model_name": "HBoxModel",
            "_view_module": "@jupyter-widgets/controls",
            "_model_module_version": "1.5.0",
            "_view_count": null,
            "_view_module_version": "1.5.0",
            "box_style": "",
            "layout": "IPY_MODEL_32ec181205044270989b0335b02089e7",
            "_model_module": "@jupyter-widgets/controls",
            "children": [
              "IPY_MODEL_2e35e74c71994516b873cd15a6dcccd6",
              "IPY_MODEL_0eb280b36ae746be9ce8012774d2f359"
            ]
          }
        },
        "32ec181205044270989b0335b02089e7": {
          "model_module": "@jupyter-widgets/base",
          "model_name": "LayoutModel",
          "state": {
            "_view_name": "LayoutView",
            "grid_template_rows": null,
            "right": null,
            "justify_content": null,
            "_view_module": "@jupyter-widgets/base",
            "overflow": null,
            "_model_module_version": "1.2.0",
            "_view_count": null,
            "flex_flow": null,
            "width": null,
            "min_width": null,
            "border": null,
            "align_items": null,
            "bottom": null,
            "_model_module": "@jupyter-widgets/base",
            "top": null,
            "grid_column": null,
            "overflow_y": null,
            "overflow_x": null,
            "grid_auto_flow": null,
            "grid_area": null,
            "grid_template_columns": null,
            "flex": null,
            "_model_name": "LayoutModel",
            "justify_items": null,
            "grid_row": null,
            "max_height": null,
            "align_content": null,
            "visibility": null,
            "align_self": null,
            "height": null,
            "min_height": null,
            "padding": null,
            "grid_auto_rows": null,
            "grid_gap": null,
            "max_width": null,
            "order": null,
            "_view_module_version": "1.2.0",
            "grid_template_areas": null,
            "object_position": null,
            "object_fit": null,
            "grid_auto_columns": null,
            "margin": null,
            "display": null,
            "left": null
          }
        },
        "2e35e74c71994516b873cd15a6dcccd6": {
          "model_module": "@jupyter-widgets/controls",
          "model_name": "FloatProgressModel",
          "state": {
            "_view_name": "ProgressView",
            "style": "IPY_MODEL_458dcdd5adf04a268740f770b8c272c4",
            "_dom_classes": [],
            "description": " 52%",
            "_model_name": "FloatProgressModel",
            "bar_style": "danger",
            "max": 25000,
            "_view_module": "@jupyter-widgets/controls",
            "_model_module_version": "1.5.0",
            "value": 12899,
            "_view_count": null,
            "_view_module_version": "1.5.0",
            "orientation": "horizontal",
            "min": 0,
            "description_tooltip": null,
            "_model_module": "@jupyter-widgets/controls",
            "layout": "IPY_MODEL_23b9905f380b4ce9adcf7ba54056fe12"
          }
        },
        "0eb280b36ae746be9ce8012774d2f359": {
          "model_module": "@jupyter-widgets/controls",
          "model_name": "HTMLModel",
          "state": {
            "_view_name": "HTMLView",
            "style": "IPY_MODEL_15266a3864e9455a832b0165c61fa010",
            "_dom_classes": [],
            "description": "",
            "_model_name": "HTMLModel",
            "placeholder": "​",
            "_view_module": "@jupyter-widgets/controls",
            "_model_module_version": "1.5.0",
            "value": " 12899/25000 [00:00&lt;00:00, 128989.82 examples/s]",
            "_view_count": null,
            "_view_module_version": "1.5.0",
            "description_tooltip": null,
            "_model_module": "@jupyter-widgets/controls",
            "layout": "IPY_MODEL_bf2ea874de6a42cea8a6dcf4bdc6b1d7"
          }
        },
        "458dcdd5adf04a268740f770b8c272c4": {
          "model_module": "@jupyter-widgets/controls",
          "model_name": "ProgressStyleModel",
          "state": {
            "_view_name": "StyleView",
            "_model_name": "ProgressStyleModel",
            "description_width": "initial",
            "_view_module": "@jupyter-widgets/base",
            "_model_module_version": "1.5.0",
            "_view_count": null,
            "_view_module_version": "1.2.0",
            "bar_color": null,
            "_model_module": "@jupyter-widgets/controls"
          }
        },
        "23b9905f380b4ce9adcf7ba54056fe12": {
          "model_module": "@jupyter-widgets/base",
          "model_name": "LayoutModel",
          "state": {
            "_view_name": "LayoutView",
            "grid_template_rows": null,
            "right": null,
            "justify_content": null,
            "_view_module": "@jupyter-widgets/base",
            "overflow": null,
            "_model_module_version": "1.2.0",
            "_view_count": null,
            "flex_flow": null,
            "width": null,
            "min_width": null,
            "border": null,
            "align_items": null,
            "bottom": null,
            "_model_module": "@jupyter-widgets/base",
            "top": null,
            "grid_column": null,
            "overflow_y": null,
            "overflow_x": null,
            "grid_auto_flow": null,
            "grid_area": null,
            "grid_template_columns": null,
            "flex": null,
            "_model_name": "LayoutModel",
            "justify_items": null,
            "grid_row": null,
            "max_height": null,
            "align_content": null,
            "visibility": null,
            "align_self": null,
            "height": null,
            "min_height": null,
            "padding": null,
            "grid_auto_rows": null,
            "grid_gap": null,
            "max_width": null,
            "order": null,
            "_view_module_version": "1.2.0",
            "grid_template_areas": null,
            "object_position": null,
            "object_fit": null,
            "grid_auto_columns": null,
            "margin": null,
            "display": null,
            "left": null
          }
        },
        "15266a3864e9455a832b0165c61fa010": {
          "model_module": "@jupyter-widgets/controls",
          "model_name": "DescriptionStyleModel",
          "state": {
            "_view_name": "StyleView",
            "_model_name": "DescriptionStyleModel",
            "description_width": "",
            "_view_module": "@jupyter-widgets/base",
            "_model_module_version": "1.5.0",
            "_view_count": null,
            "_view_module_version": "1.2.0",
            "_model_module": "@jupyter-widgets/controls"
          }
        },
        "bf2ea874de6a42cea8a6dcf4bdc6b1d7": {
          "model_module": "@jupyter-widgets/base",
          "model_name": "LayoutModel",
          "state": {
            "_view_name": "LayoutView",
            "grid_template_rows": null,
            "right": null,
            "justify_content": null,
            "_view_module": "@jupyter-widgets/base",
            "overflow": null,
            "_model_module_version": "1.2.0",
            "_view_count": null,
            "flex_flow": null,
            "width": null,
            "min_width": null,
            "border": null,
            "align_items": null,
            "bottom": null,
            "_model_module": "@jupyter-widgets/base",
            "top": null,
            "grid_column": null,
            "overflow_y": null,
            "overflow_x": null,
            "grid_auto_flow": null,
            "grid_area": null,
            "grid_template_columns": null,
            "flex": null,
            "_model_name": "LayoutModel",
            "justify_items": null,
            "grid_row": null,
            "max_height": null,
            "align_content": null,
            "visibility": null,
            "align_self": null,
            "height": null,
            "min_height": null,
            "padding": null,
            "grid_auto_rows": null,
            "grid_gap": null,
            "max_width": null,
            "order": null,
            "_view_module_version": "1.2.0",
            "grid_template_areas": null,
            "object_position": null,
            "object_fit": null,
            "grid_auto_columns": null,
            "margin": null,
            "display": null,
            "left": null
          }
        },
        "e1f54c31b6b64292b3c47c9999144d71": {
          "model_module": "@jupyter-widgets/controls",
          "model_name": "HBoxModel",
          "state": {
            "_view_name": "HBoxView",
            "_dom_classes": [],
            "_model_name": "HBoxModel",
            "_view_module": "@jupyter-widgets/controls",
            "_model_module_version": "1.5.0",
            "_view_count": null,
            "_view_module_version": "1.5.0",
            "box_style": "",
            "layout": "IPY_MODEL_bfe0b4379a30414bb1409c8a6e8fca04",
            "_model_module": "@jupyter-widgets/controls",
            "children": [
              "IPY_MODEL_9284c0749d2a47d4a3ac864cb8ae4229",
              "IPY_MODEL_55391e5ae1aa4a0b847cc672d253047f"
            ]
          }
        },
        "bfe0b4379a30414bb1409c8a6e8fca04": {
          "model_module": "@jupyter-widgets/base",
          "model_name": "LayoutModel",
          "state": {
            "_view_name": "LayoutView",
            "grid_template_rows": null,
            "right": null,
            "justify_content": null,
            "_view_module": "@jupyter-widgets/base",
            "overflow": null,
            "_model_module_version": "1.2.0",
            "_view_count": null,
            "flex_flow": null,
            "width": null,
            "min_width": null,
            "border": null,
            "align_items": null,
            "bottom": null,
            "_model_module": "@jupyter-widgets/base",
            "top": null,
            "grid_column": null,
            "overflow_y": null,
            "overflow_x": null,
            "grid_auto_flow": null,
            "grid_area": null,
            "grid_template_columns": null,
            "flex": null,
            "_model_name": "LayoutModel",
            "justify_items": null,
            "grid_row": null,
            "max_height": null,
            "align_content": null,
            "visibility": null,
            "align_self": null,
            "height": null,
            "min_height": null,
            "padding": null,
            "grid_auto_rows": null,
            "grid_gap": null,
            "max_width": null,
            "order": null,
            "_view_module_version": "1.2.0",
            "grid_template_areas": null,
            "object_position": null,
            "object_fit": null,
            "grid_auto_columns": null,
            "margin": null,
            "display": null,
            "left": null
          }
        },
        "9284c0749d2a47d4a3ac864cb8ae4229": {
          "model_module": "@jupyter-widgets/controls",
          "model_name": "FloatProgressModel",
          "state": {
            "_view_name": "ProgressView",
            "style": "IPY_MODEL_4535d78723d64c03a4887e45daf8b757",
            "_dom_classes": [],
            "description": "",
            "_model_name": "FloatProgressModel",
            "bar_style": "info",
            "max": 1,
            "_view_module": "@jupyter-widgets/controls",
            "_model_module_version": "1.5.0",
            "value": 1,
            "_view_count": null,
            "_view_module_version": "1.5.0",
            "orientation": "horizontal",
            "min": 0,
            "description_tooltip": null,
            "_model_module": "@jupyter-widgets/controls",
            "layout": "IPY_MODEL_dfcdac3c0e2d40fe9d12b963250ce1d7"
          }
        },
        "55391e5ae1aa4a0b847cc672d253047f": {
          "model_module": "@jupyter-widgets/controls",
          "model_name": "HTMLModel",
          "state": {
            "_view_name": "HTMLView",
            "style": "IPY_MODEL_a1ed3570b70243f2b5bbfc1d2e8d375e",
            "_dom_classes": [],
            "description": "",
            "_model_name": "HTMLModel",
            "placeholder": "​",
            "_view_module": "@jupyter-widgets/controls",
            "_model_module_version": "1.5.0",
            "value": " 50000/0 [00:18&lt;00:00, 3429.70 examples/s]",
            "_view_count": null,
            "_view_module_version": "1.5.0",
            "description_tooltip": null,
            "_model_module": "@jupyter-widgets/controls",
            "layout": "IPY_MODEL_5f3f7c9907ab40a38d8a451d4622eef8"
          }
        },
        "4535d78723d64c03a4887e45daf8b757": {
          "model_module": "@jupyter-widgets/controls",
          "model_name": "ProgressStyleModel",
          "state": {
            "_view_name": "StyleView",
            "_model_name": "ProgressStyleModel",
            "description_width": "initial",
            "_view_module": "@jupyter-widgets/base",
            "_model_module_version": "1.5.0",
            "_view_count": null,
            "_view_module_version": "1.2.0",
            "bar_color": null,
            "_model_module": "@jupyter-widgets/controls"
          }
        },
        "dfcdac3c0e2d40fe9d12b963250ce1d7": {
          "model_module": "@jupyter-widgets/base",
          "model_name": "LayoutModel",
          "state": {
            "_view_name": "LayoutView",
            "grid_template_rows": null,
            "right": null,
            "justify_content": null,
            "_view_module": "@jupyter-widgets/base",
            "overflow": null,
            "_model_module_version": "1.2.0",
            "_view_count": null,
            "flex_flow": null,
            "width": null,
            "min_width": null,
            "border": null,
            "align_items": null,
            "bottom": null,
            "_model_module": "@jupyter-widgets/base",
            "top": null,
            "grid_column": null,
            "overflow_y": null,
            "overflow_x": null,
            "grid_auto_flow": null,
            "grid_area": null,
            "grid_template_columns": null,
            "flex": null,
            "_model_name": "LayoutModel",
            "justify_items": null,
            "grid_row": null,
            "max_height": null,
            "align_content": null,
            "visibility": null,
            "align_self": null,
            "height": null,
            "min_height": null,
            "padding": null,
            "grid_auto_rows": null,
            "grid_gap": null,
            "max_width": null,
            "order": null,
            "_view_module_version": "1.2.0",
            "grid_template_areas": null,
            "object_position": null,
            "object_fit": null,
            "grid_auto_columns": null,
            "margin": null,
            "display": null,
            "left": null
          }
        },
        "a1ed3570b70243f2b5bbfc1d2e8d375e": {
          "model_module": "@jupyter-widgets/controls",
          "model_name": "DescriptionStyleModel",
          "state": {
            "_view_name": "StyleView",
            "_model_name": "DescriptionStyleModel",
            "description_width": "",
            "_view_module": "@jupyter-widgets/base",
            "_model_module_version": "1.5.0",
            "_view_count": null,
            "_view_module_version": "1.2.0",
            "_model_module": "@jupyter-widgets/controls"
          }
        },
        "5f3f7c9907ab40a38d8a451d4622eef8": {
          "model_module": "@jupyter-widgets/base",
          "model_name": "LayoutModel",
          "state": {
            "_view_name": "LayoutView",
            "grid_template_rows": null,
            "right": null,
            "justify_content": null,
            "_view_module": "@jupyter-widgets/base",
            "overflow": null,
            "_model_module_version": "1.2.0",
            "_view_count": null,
            "flex_flow": null,
            "width": null,
            "min_width": null,
            "border": null,
            "align_items": null,
            "bottom": null,
            "_model_module": "@jupyter-widgets/base",
            "top": null,
            "grid_column": null,
            "overflow_y": null,
            "overflow_x": null,
            "grid_auto_flow": null,
            "grid_area": null,
            "grid_template_columns": null,
            "flex": null,
            "_model_name": "LayoutModel",
            "justify_items": null,
            "grid_row": null,
            "max_height": null,
            "align_content": null,
            "visibility": null,
            "align_self": null,
            "height": null,
            "min_height": null,
            "padding": null,
            "grid_auto_rows": null,
            "grid_gap": null,
            "max_width": null,
            "order": null,
            "_view_module_version": "1.2.0",
            "grid_template_areas": null,
            "object_position": null,
            "object_fit": null,
            "grid_auto_columns": null,
            "margin": null,
            "display": null,
            "left": null
          }
        },
        "980d26f56f4a42c28508cc6d52546202": {
          "model_module": "@jupyter-widgets/controls",
          "model_name": "HBoxModel",
          "state": {
            "_view_name": "HBoxView",
            "_dom_classes": [],
            "_model_name": "HBoxModel",
            "_view_module": "@jupyter-widgets/controls",
            "_model_module_version": "1.5.0",
            "_view_count": null,
            "_view_module_version": "1.5.0",
            "box_style": "",
            "layout": "IPY_MODEL_3169b55510384cb9885485f108443dc5",
            "_model_module": "@jupyter-widgets/controls",
            "children": [
              "IPY_MODEL_8cf1d5fe8ef54273820bebf026c6ff4a",
              "IPY_MODEL_59e8bd892e8642d09ad03ef0c6e9228e"
            ]
          }
        },
        "3169b55510384cb9885485f108443dc5": {
          "model_module": "@jupyter-widgets/base",
          "model_name": "LayoutModel",
          "state": {
            "_view_name": "LayoutView",
            "grid_template_rows": null,
            "right": null,
            "justify_content": null,
            "_view_module": "@jupyter-widgets/base",
            "overflow": null,
            "_model_module_version": "1.2.0",
            "_view_count": null,
            "flex_flow": null,
            "width": null,
            "min_width": null,
            "border": null,
            "align_items": null,
            "bottom": null,
            "_model_module": "@jupyter-widgets/base",
            "top": null,
            "grid_column": null,
            "overflow_y": null,
            "overflow_x": null,
            "grid_auto_flow": null,
            "grid_area": null,
            "grid_template_columns": null,
            "flex": null,
            "_model_name": "LayoutModel",
            "justify_items": null,
            "grid_row": null,
            "max_height": null,
            "align_content": null,
            "visibility": null,
            "align_self": null,
            "height": null,
            "min_height": null,
            "padding": null,
            "grid_auto_rows": null,
            "grid_gap": null,
            "max_width": null,
            "order": null,
            "_view_module_version": "1.2.0",
            "grid_template_areas": null,
            "object_position": null,
            "object_fit": null,
            "grid_auto_columns": null,
            "margin": null,
            "display": null,
            "left": null
          }
        },
        "8cf1d5fe8ef54273820bebf026c6ff4a": {
          "model_module": "@jupyter-widgets/controls",
          "model_name": "FloatProgressModel",
          "state": {
            "_view_name": "ProgressView",
            "style": "IPY_MODEL_180a30e068324cb496802c15cfd123af",
            "_dom_classes": [],
            "description": " 57%",
            "_model_name": "FloatProgressModel",
            "bar_style": "danger",
            "max": 50000,
            "_view_module": "@jupyter-widgets/controls",
            "_model_module_version": "1.5.0",
            "value": 28566,
            "_view_count": null,
            "_view_module_version": "1.5.0",
            "orientation": "horizontal",
            "min": 0,
            "description_tooltip": null,
            "_model_module": "@jupyter-widgets/controls",
            "layout": "IPY_MODEL_4a9ce88e88514b2b80fde739f17947ab"
          }
        },
        "59e8bd892e8642d09ad03ef0c6e9228e": {
          "model_module": "@jupyter-widgets/controls",
          "model_name": "HTMLModel",
          "state": {
            "_view_name": "HTMLView",
            "style": "IPY_MODEL_837750eb69914af7b473cadfe6e513c3",
            "_dom_classes": [],
            "description": "",
            "_model_name": "HTMLModel",
            "placeholder": "​",
            "_view_module": "@jupyter-widgets/controls",
            "_model_module_version": "1.5.0",
            "value": " 28566/50000 [00:05&lt;00:00, 71582.76 examples/s]",
            "_view_count": null,
            "_view_module_version": "1.5.0",
            "description_tooltip": null,
            "_model_module": "@jupyter-widgets/controls",
            "layout": "IPY_MODEL_295341abd1cd4d4d8bb5885cdef11f06"
          }
        },
        "180a30e068324cb496802c15cfd123af": {
          "model_module": "@jupyter-widgets/controls",
          "model_name": "ProgressStyleModel",
          "state": {
            "_view_name": "StyleView",
            "_model_name": "ProgressStyleModel",
            "description_width": "initial",
            "_view_module": "@jupyter-widgets/base",
            "_model_module_version": "1.5.0",
            "_view_count": null,
            "_view_module_version": "1.2.0",
            "bar_color": null,
            "_model_module": "@jupyter-widgets/controls"
          }
        },
        "4a9ce88e88514b2b80fde739f17947ab": {
          "model_module": "@jupyter-widgets/base",
          "model_name": "LayoutModel",
          "state": {
            "_view_name": "LayoutView",
            "grid_template_rows": null,
            "right": null,
            "justify_content": null,
            "_view_module": "@jupyter-widgets/base",
            "overflow": null,
            "_model_module_version": "1.2.0",
            "_view_count": null,
            "flex_flow": null,
            "width": null,
            "min_width": null,
            "border": null,
            "align_items": null,
            "bottom": null,
            "_model_module": "@jupyter-widgets/base",
            "top": null,
            "grid_column": null,
            "overflow_y": null,
            "overflow_x": null,
            "grid_auto_flow": null,
            "grid_area": null,
            "grid_template_columns": null,
            "flex": null,
            "_model_name": "LayoutModel",
            "justify_items": null,
            "grid_row": null,
            "max_height": null,
            "align_content": null,
            "visibility": null,
            "align_self": null,
            "height": null,
            "min_height": null,
            "padding": null,
            "grid_auto_rows": null,
            "grid_gap": null,
            "max_width": null,
            "order": null,
            "_view_module_version": "1.2.0",
            "grid_template_areas": null,
            "object_position": null,
            "object_fit": null,
            "grid_auto_columns": null,
            "margin": null,
            "display": null,
            "left": null
          }
        },
        "837750eb69914af7b473cadfe6e513c3": {
          "model_module": "@jupyter-widgets/controls",
          "model_name": "DescriptionStyleModel",
          "state": {
            "_view_name": "StyleView",
            "_model_name": "DescriptionStyleModel",
            "description_width": "",
            "_view_module": "@jupyter-widgets/base",
            "_model_module_version": "1.5.0",
            "_view_count": null,
            "_view_module_version": "1.2.0",
            "_model_module": "@jupyter-widgets/controls"
          }
        },
        "295341abd1cd4d4d8bb5885cdef11f06": {
          "model_module": "@jupyter-widgets/base",
          "model_name": "LayoutModel",
          "state": {
            "_view_name": "LayoutView",
            "grid_template_rows": null,
            "right": null,
            "justify_content": null,
            "_view_module": "@jupyter-widgets/base",
            "overflow": null,
            "_model_module_version": "1.2.0",
            "_view_count": null,
            "flex_flow": null,
            "width": null,
            "min_width": null,
            "border": null,
            "align_items": null,
            "bottom": null,
            "_model_module": "@jupyter-widgets/base",
            "top": null,
            "grid_column": null,
            "overflow_y": null,
            "overflow_x": null,
            "grid_auto_flow": null,
            "grid_area": null,
            "grid_template_columns": null,
            "flex": null,
            "_model_name": "LayoutModel",
            "justify_items": null,
            "grid_row": null,
            "max_height": null,
            "align_content": null,
            "visibility": null,
            "align_self": null,
            "height": null,
            "min_height": null,
            "padding": null,
            "grid_auto_rows": null,
            "grid_gap": null,
            "max_width": null,
            "order": null,
            "_view_module_version": "1.2.0",
            "grid_template_areas": null,
            "object_position": null,
            "object_fit": null,
            "grid_auto_columns": null,
            "margin": null,
            "display": null,
            "left": null
          }
        }
      }
    }
  },
  "cells": [
    {
      "cell_type": "markdown",
      "metadata": {
        "id": "Cb4espuLKJiA"
      },
      "source": [
        "##### basedon sample by The TensorFlow Hub Authors.\n"
      ]
    },
    {
      "cell_type": "markdown",
      "metadata": {
        "id": "IZ6SNYq_tVVC"
      },
      "source": [
        "# Classify text with BERT\n",
        "\n",
        "- Load the IMDB dataset\n",
        "- Load a BERT model from TensorFlow Hub\n",
        "- Preprocessing\n",
        "- Build model by combining BERT with a classifier\n",
        "- Train model, fine-tuning BERT as part of that\n",
        "- Save model and use it to classify sentences"
      ]
    },
    {
      "cell_type": "markdown",
      "metadata": {
        "id": "2PHBpLPuQdmK"
      },
      "source": [
        "## About BERT\n",
        "\n",
        "BERT: Bidirectional Encoder Representation from Transformers.\n",
        "\n",
        "Machine learning technique for NLP pre-training, developed by Google. Google has been using BERT to better understand user searches.\n",
        "\n",
        "BERT has two pre-trained types: BERT-base and BERT-large.\n",
        "\n",
        "It is a bidirectional model. It learns from left and right side of token's context during training.\n",
        "\n",
        "![sentence.png](data:image/png;base64,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)\n",
        "\n",
        "\n"
      ]
    },
    {
      "cell_type": "markdown",
      "metadata": {
        "id": "kRergZw2JVhY"
      },
      "source": [
        "BERT uses several types of embeddings:\n",
        "- Position embeddings: position of word in sentence\n",
        "- Segment Embeddings: sentence pairs as inputs to optimize context calculation\n",
        "- Token Embeddings: embeddings learned from WordPiece token vocabulary\n",
        "\n",
        "Input representation is built by summing the associated position, segment, token embeddings."
      ]
    },
    {
      "cell_type": "code",
      "metadata": {
        "id": "lGgXbUGYJTYG"
      },
      "source": [
        ""
      ],
      "execution_count": null,
      "outputs": []
    },
    {
      "cell_type": "markdown",
      "metadata": {
        "id": "SCjmX4zTCkRK"
      },
      "source": [
        "## Setup\n",
        "\n",
        "\n"
      ]
    },
    {
      "cell_type": "code",
      "metadata": {
        "id": "q-YbjCkzw0yU",
        "colab": {
          "base_uri": "https://localhost:8080/"
        },
        "outputId": "e9cb22a1-5f39-4838-d13e-9dffa4d78ead"
      },
      "source": [
        "# A dependency of the preprocessing for BERT inputs\n",
        "!pip install -q tensorflow-text"
      ],
      "execution_count": 1,
      "outputs": [
        {
          "output_type": "stream",
          "text": [
            "\u001b[?25l\r\u001b[K     |▏                               | 10kB 27.9MB/s eta 0:00:01\r\u001b[K     |▎                               | 20kB 19.6MB/s eta 0:00:01\r\u001b[K     |▍                               | 30kB 16.8MB/s eta 0:00:01\r\u001b[K     |▌                               | 40kB 15.5MB/s eta 0:00:01\r\u001b[K     |▋                               | 51kB 11.6MB/s eta 0:00:01\r\u001b[K     |▊                               | 61kB 11.5MB/s eta 0:00:01\r\u001b[K     |▉                               | 71kB 11.2MB/s eta 0:00:01\r\u001b[K     |█                               | 81kB 12.0MB/s eta 0:00:01\r\u001b[K     |█▏                              | 92kB 11.4MB/s eta 0:00:01\r\u001b[K     |█▎                              | 102kB 12.4MB/s eta 0:00:01\r\u001b[K     |█▍                              | 112kB 12.4MB/s eta 0:00:01\r\u001b[K     |█▌                              | 122kB 12.4MB/s eta 0:00:01\r\u001b[K     |█▋                              | 133kB 12.4MB/s eta 0:00:01\r\u001b[K     |█▊                              | 143kB 12.4MB/s eta 0:00:01\r\u001b[K     |█▉                              | 153kB 12.4MB/s eta 0:00:01\r\u001b[K     |██                              | 163kB 12.4MB/s eta 0:00:01\r\u001b[K     |██▏                             | 174kB 12.4MB/s eta 0:00:01\r\u001b[K     |██▎                             | 184kB 12.4MB/s eta 0:00:01\r\u001b[K     |██▍                             | 194kB 12.4MB/s eta 0:00:01\r\u001b[K     |██▌                             | 204kB 12.4MB/s eta 0:00:01\r\u001b[K     |██▋                             | 215kB 12.4MB/s eta 0:00:01\r\u001b[K     |██▊                             | 225kB 12.4MB/s eta 0:00:01\r\u001b[K     |██▉                             | 235kB 12.4MB/s eta 0:00:01\r\u001b[K     |███                             | 245kB 12.4MB/s eta 0:00:01\r\u001b[K     |███▏                            | 256kB 12.4MB/s eta 0:00:01\r\u001b[K     |███▎                            | 266kB 12.4MB/s eta 0:00:01\r\u001b[K     |███▍                            | 276kB 12.4MB/s eta 0:00:01\r\u001b[K     |███▌                            | 286kB 12.4MB/s eta 0:00:01\r\u001b[K     |███▋                            | 296kB 12.4MB/s eta 0:00:01\r\u001b[K     |███▊                            | 307kB 12.4MB/s eta 0:00:01\r\u001b[K     |███▉                            | 317kB 12.4MB/s eta 0:00:01\r\u001b[K     |████                            | 327kB 12.4MB/s eta 0:00:01\r\u001b[K     |████                            | 337kB 12.4MB/s eta 0:00:01\r\u001b[K     |████▎                           | 348kB 12.4MB/s eta 0:00:01\r\u001b[K     |████▍                           | 358kB 12.4MB/s eta 0:00:01\r\u001b[K     |████▌                           | 368kB 12.4MB/s eta 0:00:01\r\u001b[K     |████▋                           | 378kB 12.4MB/s eta 0:00:01\r\u001b[K     |████▊                           | 389kB 12.4MB/s eta 0:00:01\r\u001b[K     |████▉                           | 399kB 12.4MB/s eta 0:00:01\r\u001b[K     |█████                           | 409kB 12.4MB/s eta 0:00:01\r\u001b[K     |█████                           | 419kB 12.4MB/s eta 0:00:01\r\u001b[K     |█████▎                          | 430kB 12.4MB/s eta 0:00:01\r\u001b[K     |█████▍                          | 440kB 12.4MB/s eta 0:00:01\r\u001b[K     |█████▌                          | 450kB 12.4MB/s eta 0:00:01\r\u001b[K     |█████▋                          | 460kB 12.4MB/s eta 0:00:01\r\u001b[K     |█████▊                          | 471kB 12.4MB/s eta 0:00:01\r\u001b[K     |█████▉                          | 481kB 12.4MB/s eta 0:00:01\r\u001b[K     |██████                          | 491kB 12.4MB/s eta 0:00:01\r\u001b[K     |██████                          | 501kB 12.4MB/s eta 0:00:01\r\u001b[K     |██████▎                         | 512kB 12.4MB/s eta 0:00:01\r\u001b[K     |██████▍                         | 522kB 12.4MB/s eta 0:00:01\r\u001b[K     |██████▌                         | 532kB 12.4MB/s eta 0:00:01\r\u001b[K     |██████▋                         | 542kB 12.4MB/s eta 0:00:01\r\u001b[K     |██████▊                         | 552kB 12.4MB/s eta 0:00:01\r\u001b[K     |██████▉                         | 563kB 12.4MB/s eta 0:00:01\r\u001b[K     |███████                         | 573kB 12.4MB/s eta 0:00:01\r\u001b[K     |███████                         | 583kB 12.4MB/s eta 0:00:01\r\u001b[K     |███████▏                        | 593kB 12.4MB/s eta 0:00:01\r\u001b[K     |███████▍                        | 604kB 12.4MB/s eta 0:00:01\r\u001b[K     |███████▌                        | 614kB 12.4MB/s eta 0:00:01\r\u001b[K     |███████▋                        | 624kB 12.4MB/s eta 0:00:01\r\u001b[K     |███████▊                        | 634kB 12.4MB/s eta 0:00:01\r\u001b[K     |███████▉                        | 645kB 12.4MB/s eta 0:00:01\r\u001b[K     |████████                        | 655kB 12.4MB/s eta 0:00:01\r\u001b[K     |████████                        | 665kB 12.4MB/s eta 0:00:01\r\u001b[K     |████████▏                       | 675kB 12.4MB/s eta 0:00:01\r\u001b[K     |████████▍                       | 686kB 12.4MB/s eta 0:00:01\r\u001b[K     |████████▌                       | 696kB 12.4MB/s eta 0:00:01\r\u001b[K     |████████▋                       | 706kB 12.4MB/s eta 0:00:01\r\u001b[K     |████████▊                       | 716kB 12.4MB/s eta 0:00:01\r\u001b[K     |████████▉                       | 727kB 12.4MB/s eta 0:00:01\r\u001b[K     |█████████                       | 737kB 12.4MB/s eta 0:00:01\r\u001b[K     |█████████                       | 747kB 12.4MB/s eta 0:00:01\r\u001b[K     |█████████▏                      | 757kB 12.4MB/s eta 0:00:01\r\u001b[K     |█████████▍                      | 768kB 12.4MB/s eta 0:00:01\r\u001b[K     |█████████▌                      | 778kB 12.4MB/s eta 0:00:01\r\u001b[K     |█████████▋                      | 788kB 12.4MB/s eta 0:00:01\r\u001b[K     |█████████▊                      | 798kB 12.4MB/s eta 0:00:01\r\u001b[K     |█████████▉                      | 808kB 12.4MB/s eta 0:00:01\r\u001b[K     |██████████                      | 819kB 12.4MB/s eta 0:00:01\r\u001b[K     |██████████                      | 829kB 12.4MB/s eta 0:00:01\r\u001b[K     |██████████▏                     | 839kB 12.4MB/s eta 0:00:01\r\u001b[K     |██████████▎                     | 849kB 12.4MB/s eta 0:00:01\r\u001b[K     |██████████▌                     | 860kB 12.4MB/s eta 0:00:01\r\u001b[K     |██████████▋                     | 870kB 12.4MB/s eta 0:00:01\r\u001b[K     |██████████▊                     | 880kB 12.4MB/s eta 0:00:01\r\u001b[K     |██████████▉                     | 890kB 12.4MB/s eta 0:00:01\r\u001b[K     |███████████                     | 901kB 12.4MB/s eta 0:00:01\r\u001b[K     |███████████                     | 911kB 12.4MB/s eta 0:00:01\r\u001b[K     |███████████▏                    | 921kB 12.4MB/s eta 0:00:01\r\u001b[K     |███████████▎                    | 931kB 12.4MB/s eta 0:00:01\r\u001b[K     |███████████▌                    | 942kB 12.4MB/s eta 0:00:01\r\u001b[K     |███████████▋                    | 952kB 12.4MB/s eta 0:00:01\r\u001b[K     |███████████▊                    | 962kB 12.4MB/s eta 0:00:01\r\u001b[K     |███████████▉                    | 972kB 12.4MB/s eta 0:00:01\r\u001b[K     |████████████                    | 983kB 12.4MB/s eta 0:00:01\r\u001b[K     |████████████                    | 993kB 12.4MB/s eta 0:00:01\r\u001b[K     |████████████▏                   | 1.0MB 12.4MB/s eta 0:00:01\r\u001b[K     |████████████▎                   | 1.0MB 12.4MB/s eta 0:00:01\r\u001b[K     |████████████▌                   | 1.0MB 12.4MB/s eta 0:00:01\r\u001b[K     |████████████▋                   | 1.0MB 12.4MB/s eta 0:00:01\r\u001b[K     |████████████▊                   | 1.0MB 12.4MB/s eta 0:00:01\r\u001b[K     |████████████▉                   | 1.1MB 12.4MB/s eta 0:00:01\r\u001b[K     |█████████████                   | 1.1MB 12.4MB/s eta 0:00:01\r\u001b[K     |█████████████                   | 1.1MB 12.4MB/s eta 0:00:01\r\u001b[K     |█████████████▏                  | 1.1MB 12.4MB/s eta 0:00:01\r\u001b[K     |█████████████▎                  | 1.1MB 12.4MB/s eta 0:00:01\r\u001b[K     |█████████████▍                  | 1.1MB 12.4MB/s eta 0:00:01\r\u001b[K     |█████████████▋                  | 1.1MB 12.4MB/s eta 0:00:01\r\u001b[K     |█████████████▊                  | 1.1MB 12.4MB/s eta 0:00:01\r\u001b[K     |█████████████▉                  | 1.1MB 12.4MB/s eta 0:00:01\r\u001b[K     |██████████████                  | 1.1MB 12.4MB/s eta 0:00:01\r\u001b[K     |██████████████                  | 1.2MB 12.4MB/s eta 0:00:01\r\u001b[K     |██████████████▏                 | 1.2MB 12.4MB/s eta 0:00:01\r\u001b[K     |██████████████▎                 | 1.2MB 12.4MB/s eta 0:00:01\r\u001b[K     |██████████████▍                 | 1.2MB 12.4MB/s eta 0:00:01\r\u001b[K     |██████████████▋                 | 1.2MB 12.4MB/s eta 0:00:01\r\u001b[K     |██████████████▊                 | 1.2MB 12.4MB/s eta 0:00:01\r\u001b[K     |██████████████▉                 | 1.2MB 12.4MB/s eta 0:00:01\r\u001b[K     |███████████████                 | 1.2MB 12.4MB/s eta 0:00:01\r\u001b[K     |███████████████                 | 1.2MB 12.4MB/s eta 0:00:01\r\u001b[K     |███████████████▏                | 1.2MB 12.4MB/s eta 0:00:01\r\u001b[K     |███████████████▎                | 1.3MB 12.4MB/s eta 0:00:01\r\u001b[K     |███████████████▍                | 1.3MB 12.4MB/s eta 0:00:01\r\u001b[K     |███████████████▋                | 1.3MB 12.4MB/s eta 0:00:01\r\u001b[K     |███████████████▊                | 1.3MB 12.4MB/s eta 0:00:01\r\u001b[K     |███████████████▉                | 1.3MB 12.4MB/s eta 0:00:01\r\u001b[K     |████████████████                | 1.3MB 12.4MB/s eta 0:00:01\r\u001b[K     |████████████████                | 1.3MB 12.4MB/s eta 0:00:01\r\u001b[K     |████████████████▏               | 1.3MB 12.4MB/s eta 0:00:01\r\u001b[K     |████████████████▎               | 1.3MB 12.4MB/s eta 0:00:01\r\u001b[K     |████████████████▍               | 1.4MB 12.4MB/s eta 0:00:01\r\u001b[K     |████████████████▌               | 1.4MB 12.4MB/s eta 0:00:01\r\u001b[K     |████████████████▊               | 1.4MB 12.4MB/s eta 0:00:01\r\u001b[K     |████████████████▉               | 1.4MB 12.4MB/s eta 0:00:01\r\u001b[K     |█████████████████               | 1.4MB 12.4MB/s eta 0:00:01\r\u001b[K     |█████████████████               | 1.4MB 12.4MB/s eta 0:00:01\r\u001b[K     |█████████████████▏              | 1.4MB 12.4MB/s eta 0:00:01\r\u001b[K     |█████████████████▎              | 1.4MB 12.4MB/s eta 0:00:01\r\u001b[K     |█████████████████▍              | 1.4MB 12.4MB/s eta 0:00:01\r\u001b[K     |█████████████████▌              | 1.4MB 12.4MB/s eta 0:00:01\r\u001b[K     |█████████████████▊              | 1.5MB 12.4MB/s eta 0:00:01\r\u001b[K     |█████████████████▉              | 1.5MB 12.4MB/s eta 0:00:01\r\u001b[K     |██████████████████              | 1.5MB 12.4MB/s eta 0:00:01\r\u001b[K     |██████████████████              | 1.5MB 12.4MB/s eta 0:00:01\r\u001b[K     |██████████████████▏             | 1.5MB 12.4MB/s eta 0:00:01\r\u001b[K     |██████████████████▎             | 1.5MB 12.4MB/s eta 0:00:01\r\u001b[K     |██████████████████▍             | 1.5MB 12.4MB/s eta 0:00:01\r\u001b[K     |██████████████████▌             | 1.5MB 12.4MB/s eta 0:00:01\r\u001b[K     |██████████████████▊             | 1.5MB 12.4MB/s eta 0:00:01\r\u001b[K     |██████████████████▉             | 1.5MB 12.4MB/s eta 0:00:01\r\u001b[K     |███████████████████             | 1.6MB 12.4MB/s eta 0:00:01\r\u001b[K     |███████████████████             | 1.6MB 12.4MB/s eta 0:00:01\r\u001b[K     |███████████████████▏            | 1.6MB 12.4MB/s eta 0:00:01\r\u001b[K     |███████████████████▎            | 1.6MB 12.4MB/s eta 0:00:01\r\u001b[K     |███████████████████▍            | 1.6MB 12.4MB/s eta 0:00:01\r\u001b[K     |███████████████████▌            | 1.6MB 12.4MB/s eta 0:00:01\r\u001b[K     |███████████████████▋            | 1.6MB 12.4MB/s eta 0:00:01\r\u001b[K     |███████████████████▉            | 1.6MB 12.4MB/s eta 0:00:01\r\u001b[K     |████████████████████            | 1.6MB 12.4MB/s eta 0:00:01\r\u001b[K     |████████████████████            | 1.6MB 12.4MB/s eta 0:00:01\r\u001b[K     |████████████████████▏           | 1.7MB 12.4MB/s eta 0:00:01\r\u001b[K     |████████████████████▎           | 1.7MB 12.4MB/s eta 0:00:01\r\u001b[K     |████████████████████▍           | 1.7MB 12.4MB/s eta 0:00:01\r\u001b[K     |████████████████████▌           | 1.7MB 12.4MB/s eta 0:00:01\r\u001b[K     |████████████████████▋           | 1.7MB 12.4MB/s eta 0:00:01\r\u001b[K     |████████████████████▉           | 1.7MB 12.4MB/s eta 0:00:01\r\u001b[K     |█████████████████████           | 1.7MB 12.4MB/s eta 0:00:01\r\u001b[K     |█████████████████████           | 1.7MB 12.4MB/s eta 0:00:01\r\u001b[K     |█████████████████████▏          | 1.7MB 12.4MB/s eta 0:00:01\r\u001b[K     |█████████████████████▎          | 1.8MB 12.4MB/s eta 0:00:01\r\u001b[K     |█████████████████████▍          | 1.8MB 12.4MB/s eta 0:00:01\r\u001b[K     |█████████████████████▌          | 1.8MB 12.4MB/s eta 0:00:01\r\u001b[K     |█████████████████████▋          | 1.8MB 12.4MB/s eta 0:00:01\r\u001b[K     |█████████████████████▉          | 1.8MB 12.4MB/s eta 0:00:01\r\u001b[K     |██████████████████████          | 1.8MB 12.4MB/s eta 0:00:01\r\u001b[K     |██████████████████████          | 1.8MB 12.4MB/s eta 0:00:01\r\u001b[K     |██████████████████████▏         | 1.8MB 12.4MB/s eta 0:00:01\r\u001b[K     |██████████████████████▎         | 1.8MB 12.4MB/s eta 0:00:01\r\u001b[K     |██████████████████████▍         | 1.8MB 12.4MB/s eta 0:00:01\r\u001b[K     |██████████████████████▌         | 1.9MB 12.4MB/s eta 0:00:01\r\u001b[K     |██████████████████████▋         | 1.9MB 12.4MB/s eta 0:00:01\r\u001b[K     |██████████████████████▊         | 1.9MB 12.4MB/s eta 0:00:01\r\u001b[K     |███████████████████████         | 1.9MB 12.4MB/s eta 0:00:01\r\u001b[K     |███████████████████████         | 1.9MB 12.4MB/s eta 0:00:01\r\u001b[K     |███████████████████████▏        | 1.9MB 12.4MB/s eta 0:00:01\r\u001b[K     |███████████████████████▎        | 1.9MB 12.4MB/s eta 0:00:01\r\u001b[K     |███████████████████████▍        | 1.9MB 12.4MB/s eta 0:00:01\r\u001b[K     |███████████████████████▌        | 1.9MB 12.4MB/s eta 0:00:01\r\u001b[K     |███████████████████████▋        | 1.9MB 12.4MB/s eta 0:00:01\r\u001b[K     |███████████████████████▊        | 2.0MB 12.4MB/s eta 0:00:01\r\u001b[K     |████████████████████████        | 2.0MB 12.4MB/s eta 0:00:01\r\u001b[K     |████████████████████████        | 2.0MB 12.4MB/s eta 0:00:01\r\u001b[K     |████████████████████████▏       | 2.0MB 12.4MB/s eta 0:00:01\r\u001b[K     |████████████████████████▎       | 2.0MB 12.4MB/s eta 0:00:01\r\u001b[K     |████████████████████████▍       | 2.0MB 12.4MB/s eta 0:00:01\r\u001b[K     |████████████████████████▌       | 2.0MB 12.4MB/s eta 0:00:01\r\u001b[K     |████████████████████████▋       | 2.0MB 12.4MB/s eta 0:00:01\r\u001b[K     |████████████████████████▊       | 2.0MB 12.4MB/s eta 0:00:01\r\u001b[K     |█████████████████████████       | 2.0MB 12.4MB/s eta 0:00:01\r\u001b[K     |█████████████████████████       | 2.1MB 12.4MB/s eta 0:00:01\r\u001b[K     |█████████████████████████▏      | 2.1MB 12.4MB/s eta 0:00:01\r\u001b[K     |█████████████████████████▎      | 2.1MB 12.4MB/s eta 0:00:01\r\u001b[K     |█████████████████████████▍      | 2.1MB 12.4MB/s eta 0:00:01\r\u001b[K     |█████████████████████████▌      | 2.1MB 12.4MB/s eta 0:00:01\r\u001b[K     |█████████████████████████▋      | 2.1MB 12.4MB/s eta 0:00:01\r\u001b[K     |█████████████████████████▊      | 2.1MB 12.4MB/s eta 0:00:01\r\u001b[K     |██████████████████████████      | 2.1MB 12.4MB/s eta 0:00:01\r\u001b[K     |██████████████████████████      | 2.1MB 12.4MB/s eta 0:00:01\r\u001b[K     |██████████████████████████▏     | 2.2MB 12.4MB/s eta 0:00:01\r\u001b[K     |██████████████████████████▎     | 2.2MB 12.4MB/s eta 0:00:01\r\u001b[K     |██████████████████████████▍     | 2.2MB 12.4MB/s eta 0:00:01\r\u001b[K     |██████████████████████████▌     | 2.2MB 12.4MB/s eta 0:00:01\r\u001b[K     |██████████████████████████▋     | 2.2MB 12.4MB/s eta 0:00:01\r\u001b[K     |██████████████████████████▊     | 2.2MB 12.4MB/s eta 0:00:01\r\u001b[K     |██████████████████████████▉     | 2.2MB 12.4MB/s eta 0:00:01\r\u001b[K     |███████████████████████████     | 2.2MB 12.4MB/s eta 0:00:01\r\u001b[K     |███████████████████████████▏    | 2.2MB 12.4MB/s eta 0:00:01\r\u001b[K     |███████████████████████████▎    | 2.2MB 12.4MB/s eta 0:00:01\r\u001b[K     |███████████████████████████▍    | 2.3MB 12.4MB/s eta 0:00:01\r\u001b[K     |███████████████████████████▌    | 2.3MB 12.4MB/s eta 0:00:01\r\u001b[K     |███████████████████████████▋    | 2.3MB 12.4MB/s eta 0:00:01\r\u001b[K     |███████████████████████████▊    | 2.3MB 12.4MB/s eta 0:00:01\r\u001b[K     |███████████████████████████▉    | 2.3MB 12.4MB/s eta 0:00:01\r\u001b[K     |████████████████████████████    | 2.3MB 12.4MB/s eta 0:00:01\r\u001b[K     |████████████████████████████▏   | 2.3MB 12.4MB/s eta 0:00:01\r\u001b[K     |████████████████████████████▎   | 2.3MB 12.4MB/s eta 0:00:01\r\u001b[K     |████████████████████████████▍   | 2.3MB 12.4MB/s eta 0:00:01\r\u001b[K     |████████████████████████████▌   | 2.3MB 12.4MB/s eta 0:00:01\r\u001b[K     |████████████████████████████▋   | 2.4MB 12.4MB/s eta 0:00:01\r\u001b[K     |████████████████████████████▊   | 2.4MB 12.4MB/s eta 0:00:01\r\u001b[K     |████████████████████████████▉   | 2.4MB 12.4MB/s eta 0:00:01\r\u001b[K     |█████████████████████████████   | 2.4MB 12.4MB/s eta 0:00:01\r\u001b[K     |█████████████████████████████▏  | 2.4MB 12.4MB/s eta 0:00:01\r\u001b[K     |█████████████████████████████▎  | 2.4MB 12.4MB/s eta 0:00:01\r\u001b[K     |█████████████████████████████▍  | 2.4MB 12.4MB/s eta 0:00:01\r\u001b[K     |█████████████████████████████▌  | 2.4MB 12.4MB/s eta 0:00:01\r\u001b[K     |█████████████████████████████▋  | 2.4MB 12.4MB/s eta 0:00:01\r\u001b[K     |█████████████████████████████▊  | 2.4MB 12.4MB/s eta 0:00:01\r\u001b[K     |█████████████████████████████▉  | 2.5MB 12.4MB/s eta 0:00:01\r\u001b[K     |██████████████████████████████  | 2.5MB 12.4MB/s eta 0:00:01\r\u001b[K     |██████████████████████████████▏ | 2.5MB 12.4MB/s eta 0:00:01\r\u001b[K     |██████████████████████████████▎ | 2.5MB 12.4MB/s eta 0:00:01\r\u001b[K     |██████████████████████████████▍ | 2.5MB 12.4MB/s eta 0:00:01\r\u001b[K     |██████████████████████████████▌ | 2.5MB 12.4MB/s eta 0:00:01\r\u001b[K     |██████████████████████████████▋ | 2.5MB 12.4MB/s eta 0:00:01\r\u001b[K     |██████████████████████████████▊ | 2.5MB 12.4MB/s eta 0:00:01\r\u001b[K     |██████████████████████████████▉ | 2.5MB 12.4MB/s eta 0:00:01\r\u001b[K     |███████████████████████████████ | 2.5MB 12.4MB/s eta 0:00:01\r\u001b[K     |███████████████████████████████▏| 2.6MB 12.4MB/s eta 0:00:01\r\u001b[K     |███████████████████████████████▎| 2.6MB 12.4MB/s eta 0:00:01\r\u001b[K     |███████████████████████████████▍| 2.6MB 12.4MB/s eta 0:00:01\r\u001b[K     |███████████████████████████████▌| 2.6MB 12.4MB/s eta 0:00:01\r\u001b[K     |███████████████████████████████▋| 2.6MB 12.4MB/s eta 0:00:01\r\u001b[K     |███████████████████████████████▊| 2.6MB 12.4MB/s eta 0:00:01\r\u001b[K     |███████████████████████████████▉| 2.6MB 12.4MB/s eta 0:00:01\r\u001b[K     |████████████████████████████████| 2.6MB 12.4MB/s eta 0:00:01\r\u001b[K     |████████████████████████████████| 2.6MB 12.4MB/s \n",
            "\u001b[?25h"
          ],
          "name": "stdout"
        }
      ]
    },
    {
      "cell_type": "code",
      "metadata": {
        "id": "b-P1ZOA0FkVJ",
        "colab": {
          "base_uri": "https://localhost:8080/"
        },
        "outputId": "105406ff-9e93-4440-c31b-0258db2736fb"
      },
      "source": [
        "!pip install -q tf-models-official"
      ],
      "execution_count": 2,
      "outputs": [
        {
          "output_type": "stream",
          "text": [
            "\u001b[K     |████████████████████████████████| 849kB 14.3MB/s \n",
            "\u001b[K     |████████████████████████████████| 36.7MB 80kB/s \n",
            "\u001b[K     |████████████████████████████████| 102kB 14.9MB/s \n",
            "\u001b[K     |████████████████████████████████| 1.1MB 44.2MB/s \n",
            "\u001b[K     |████████████████████████████████| 358kB 44.9MB/s \n",
            "\u001b[K     |████████████████████████████████| 174kB 59.8MB/s \n",
            "\u001b[?25h  Building wheel for py-cpuinfo (setup.py) ... \u001b[?25l\u001b[?25hdone\n"
          ],
          "name": "stdout"
        }
      ]
    },
    {
      "cell_type": "code",
      "metadata": {
        "id": "_XgTpm9ZxoN9"
      },
      "source": [
        "import tensorflow as tf\n",
        "import tensorflow_hub as hub\n",
        "import tensorflow_text as text\n",
        "from official.nlp import optimization\n",
        "from keras.datasets import imdb\n",
        "import matplotlib.pyplot as plt\n",
        "import tensorflow_datasets as tfds\n",
        "from tensorflow.keras.callbacks import EarlyStopping, ModelCheckpoint, CSVLogger\n",
        "from tensorflow.keras import Sequential\n",
        "from tensorflow.keras.layers import Embedding, Bidirectional, LSTM, Dense, Dropout\n",
        "tf.get_logger().setLevel('ERROR')"
      ],
      "execution_count": 3,
      "outputs": []
    },
    {
      "cell_type": "markdown",
      "metadata": {
        "id": "q6MugfEgDRpY"
      },
      "source": [
        "## Sentiment Analysis\n",
        "\n",
        "This notebook trains a sentiment analysis model to classify movie reviews as *positive* or *negative*, based on the text of the review."
      ]
    },
    {
      "cell_type": "markdown",
      "metadata": {
        "id": "Vnvd4mrtPHHV"
      },
      "source": [
        "### Download the IMDB dataset\n",
        "\n",
        "Let's download and extract the dataset, then explore the directory structure.\n",
        "\n"
      ]
    },
    {
      "cell_type": "code",
      "metadata": {
        "id": "pOdqCMoQDRJL"
      },
      "source": [
        "#Download the IMDB dataset using TFDS.\n",
        "\n",
        "#dataset, info = tfds.load('imdb_reviews', with_info=True,as_supervised=True)\n",
        "#class_names = info.features['label'].names\n",
        "#train_ds, test_ds = dataset['train'], dataset['test']"
      ],
      "execution_count": 4,
      "outputs": []
    },
    {
      "cell_type": "code",
      "metadata": {
        "colab": {
          "base_uri": "https://localhost:8080/",
          "height": 367,
          "referenced_widgets": [
            "0e10e228ac044cc2aa48d5871eaf90fa",
            "859e26d60f4a4a1da3821b32da30bf67",
            "cffe24d8c56d4894bec1245f77d20c8d",
            "18df51e1d50e4e7f8786d8974331e1cd",
            "56cb51cce8f24ef5b372cc64eee8187f",
            "fe8b360693eb48428e52186bc4186f24",
            "eef69ea41d3444bda8b58d8c16d58ef2",
            "55cd80e93a884a708f5518321491fc69",
            "c7735c0a3ef04e999b180b0db7d5374c",
            "a3d64a0ab1e14d9094310632d427288b",
            "9f518a4d25054a838725a8851d5d7d8b",
            "6a77b93ea8e74dc79088d33819e0f885",
            "90376cbca3e84a7ebc5acd2e5ca883ad",
            "5023af4eb4a94af1986b95a8a70d0954",
            "64a8432776784b0bbbe997404e38d6fb",
            "c68bd304701f4657913b77f39e612a30",
            "2dfd8f0aebe54b0ea1852b62fd688a1e",
            "27aa18dbdb374c37a329b3637398846d",
            "f1cab7d82e9043069d38582491bdec72",
            "bf85611f174147768ece3d6b7ad3ae49",
            "af95a364a1f247f6a5a24cce09f07033",
            "584c6609c5b34ee5bab77d1eb8776d3c",
            "ca663abf5ed84bbc9640083e8297e529",
            "5cc26fc2477148548c699d69ad552e75",
            "5909b9aaab0b48b7b35d81621934c62f",
            "f756a3a7162c4fc8b609bd635d9724bc",
            "f78bf5dd6b194554adefec664a2bcddc",
            "1431dc6faa674b0b891ee3d1033f505b",
            "da224ad6d37942acb0cb2ff501d3ae98",
            "89ba2a430a784ff7af10651af8d34a65",
            "3af8cebd917f41088999616c79ea0971",
            "0cd1c43d457f497c9a5c4893db3180bd",
            "23ed20931d5c41da855752b9139c9609",
            "0976186fc7054b419bee77698aae2fee",
            "297264b615b54ef3aa310dc5ff044e6d",
            "5b984cc8220048cc8e6303526a48400c",
            "324dfad07cdf486486a2cb83b687ba36",
            "2ad1ff62058743f190e1802d8edfb388",
            "9f77a9b330e144e49610a97c4aa5b2a5",
            "f3fbafd613f848c2bac04f35a5e283b9",
            "9672617b57344eba88a88a6e76695ed0",
            "32ec181205044270989b0335b02089e7",
            "2e35e74c71994516b873cd15a6dcccd6",
            "0eb280b36ae746be9ce8012774d2f359",
            "458dcdd5adf04a268740f770b8c272c4",
            "23b9905f380b4ce9adcf7ba54056fe12",
            "15266a3864e9455a832b0165c61fa010",
            "bf2ea874de6a42cea8a6dcf4bdc6b1d7",
            "e1f54c31b6b64292b3c47c9999144d71",
            "bfe0b4379a30414bb1409c8a6e8fca04",
            "9284c0749d2a47d4a3ac864cb8ae4229",
            "55391e5ae1aa4a0b847cc672d253047f",
            "4535d78723d64c03a4887e45daf8b757",
            "dfcdac3c0e2d40fe9d12b963250ce1d7",
            "a1ed3570b70243f2b5bbfc1d2e8d375e",
            "5f3f7c9907ab40a38d8a451d4622eef8",
            "980d26f56f4a42c28508cc6d52546202",
            "3169b55510384cb9885485f108443dc5",
            "8cf1d5fe8ef54273820bebf026c6ff4a",
            "59e8bd892e8642d09ad03ef0c6e9228e",
            "180a30e068324cb496802c15cfd123af",
            "4a9ce88e88514b2b80fde739f17947ab",
            "837750eb69914af7b473cadfe6e513c3",
            "295341abd1cd4d4d8bb5885cdef11f06"
          ]
        },
        "id": "OQ_PfDAtW_G_",
        "outputId": "36ad17bd-400f-4cdf-c998-15d95b635d6e"
      },
      "source": [
        "#Download the IMDB dataset using TFDS and split: train, test, validation datasets\n",
        "splits, info = tfds.load('imdb_reviews', with_info=True, as_supervised=True,\n",
        "split=['train+test[:80]','train+test[80:90]', 'train+test[90:]'])\n",
        "(train_ds, val_ds, test_ds) = splits\n",
        "\n",
        "class_names = info.features['label'].names"
      ],
      "execution_count": 5,
      "outputs": [
        {
          "output_type": "stream",
          "text": [
            "\u001b[1mDownloading and preparing dataset imdb_reviews/plain_text/1.0.0 (download: 80.23 MiB, generated: Unknown size, total: 80.23 MiB) to /root/tensorflow_datasets/imdb_reviews/plain_text/1.0.0...\u001b[0m\n"
          ],
          "name": "stdout"
        },
        {
          "output_type": "display_data",
          "data": {
            "application/vnd.jupyter.widget-view+json": {
              "model_id": "0e10e228ac044cc2aa48d5871eaf90fa",
              "version_minor": 0,
              "version_major": 2
            },
            "text/plain": [
              "HBox(children=(FloatProgress(value=1.0, bar_style='info', description='Dl Completed...', max=1.0, style=Progre…"
            ]
          },
          "metadata": {
            "tags": []
          }
        },
        {
          "output_type": "display_data",
          "data": {
            "application/vnd.jupyter.widget-view+json": {
              "model_id": "c7735c0a3ef04e999b180b0db7d5374c",
              "version_minor": 0,
              "version_major": 2
            },
            "text/plain": [
              "HBox(children=(FloatProgress(value=1.0, bar_style='info', description='Dl Size...', max=1.0, style=ProgressSty…"
            ]
          },
          "metadata": {
            "tags": []
          }
        },
        {
          "output_type": "stream",
          "text": [
            "\n",
            "\n",
            "\n",
            "\n"
          ],
          "name": "stdout"
        },
        {
          "output_type": "display_data",
          "data": {
            "application/vnd.jupyter.widget-view+json": {
              "model_id": "2dfd8f0aebe54b0ea1852b62fd688a1e",
              "version_minor": 0,
              "version_major": 2
            },
            "text/plain": [
              "HBox(children=(FloatProgress(value=1.0, bar_style='info', max=1.0), HTML(value='')))"
            ]
          },
          "metadata": {
            "tags": []
          }
        },
        {
          "output_type": "stream",
          "text": [
            "\rShuffling and writing examples to /root/tensorflow_datasets/imdb_reviews/plain_text/1.0.0.incompleteE5AN02/imdb_reviews-train.tfrecord\n"
          ],
          "name": "stdout"
        },
        {
          "output_type": "display_data",
          "data": {
            "application/vnd.jupyter.widget-view+json": {
              "model_id": "5909b9aaab0b48b7b35d81621934c62f",
              "version_minor": 0,
              "version_major": 2
            },
            "text/plain": [
              "HBox(children=(FloatProgress(value=0.0, max=25000.0), HTML(value='')))"
            ]
          },
          "metadata": {
            "tags": []
          }
        },
        {
          "output_type": "stream",
          "text": [
            "\r"
          ],
          "name": "stdout"
        },
        {
          "output_type": "display_data",
          "data": {
            "application/vnd.jupyter.widget-view+json": {
              "model_id": "23ed20931d5c41da855752b9139c9609",
              "version_minor": 0,
              "version_major": 2
            },
            "text/plain": [
              "HBox(children=(FloatProgress(value=1.0, bar_style='info', max=1.0), HTML(value='')))"
            ]
          },
          "metadata": {
            "tags": []
          }
        },
        {
          "output_type": "stream",
          "text": [
            "\rShuffling and writing examples to /root/tensorflow_datasets/imdb_reviews/plain_text/1.0.0.incompleteE5AN02/imdb_reviews-test.tfrecord\n"
          ],
          "name": "stdout"
        },
        {
          "output_type": "display_data",
          "data": {
            "application/vnd.jupyter.widget-view+json": {
              "model_id": "9672617b57344eba88a88a6e76695ed0",
              "version_minor": 0,
              "version_major": 2
            },
            "text/plain": [
              "HBox(children=(FloatProgress(value=0.0, max=25000.0), HTML(value='')))"
            ]
          },
          "metadata": {
            "tags": []
          }
        },
        {
          "output_type": "stream",
          "text": [
            "\r"
          ],
          "name": "stdout"
        },
        {
          "output_type": "display_data",
          "data": {
            "application/vnd.jupyter.widget-view+json": {
              "model_id": "e1f54c31b6b64292b3c47c9999144d71",
              "version_minor": 0,
              "version_major": 2
            },
            "text/plain": [
              "HBox(children=(FloatProgress(value=1.0, bar_style='info', max=1.0), HTML(value='')))"
            ]
          },
          "metadata": {
            "tags": []
          }
        },
        {
          "output_type": "stream",
          "text": [
            "\rShuffling and writing examples to /root/tensorflow_datasets/imdb_reviews/plain_text/1.0.0.incompleteE5AN02/imdb_reviews-unsupervised.tfrecord\n"
          ],
          "name": "stdout"
        },
        {
          "output_type": "display_data",
          "data": {
            "application/vnd.jupyter.widget-view+json": {
              "model_id": "980d26f56f4a42c28508cc6d52546202",
              "version_minor": 0,
              "version_major": 2
            },
            "text/plain": [
              "HBox(children=(FloatProgress(value=0.0, max=50000.0), HTML(value='')))"
            ]
          },
          "metadata": {
            "tags": []
          }
        },
        {
          "output_type": "stream",
          "text": [
            "WARNING:absl:Dataset is using deprecated text encoder API which will be removed soon. Please use the plain_text version of the dataset and migrate to `tensorflow_text`.\n"
          ],
          "name": "stderr"
        },
        {
          "output_type": "stream",
          "text": [
            "\u001b[1mDataset imdb_reviews downloaded and prepared to /root/tensorflow_datasets/imdb_reviews/plain_text/1.0.0. Subsequent calls will reuse this data.\u001b[0m\n"
          ],
          "name": "stdout"
        }
      ]
    },
    {
      "cell_type": "code",
      "metadata": {
        "id": "7YFUwvS-_IE0",
        "colab": {
          "base_uri": "https://localhost:8080/"
        },
        "outputId": "5119a394-9a98-43ca-fa8c-d2f80510da6b"
      },
      "source": [
        "class_names"
      ],
      "execution_count": 6,
      "outputs": [
        {
          "output_type": "execute_result",
          "data": {
            "text/plain": [
              "['neg', 'pos']"
            ]
          },
          "metadata": {
            "tags": []
          },
          "execution_count": 6
        }
      ]
    },
    {
      "cell_type": "code",
      "metadata": {
        "id": "6IwI_2bcIeX8"
      },
      "source": [
        "BUFFER_SIZE = 100\n",
        "BATCH_SIZE = 64\n",
        "train_ds = train_ds.shuffle(BUFFER_SIZE).batch(BATCH_SIZE).prefetch(tf.data.experimental.AUTOTUNE)\n",
        "test_ds = test_ds.batch(BATCH_SIZE).prefetch(tf.data.experimental.AUTOTUNE)\n",
        "val_ds = val_ds.batch(BATCH_SIZE).prefetch(tf.data.experimental.AUTOTUNE)"
      ],
      "execution_count": 7,
      "outputs": []
    },
    {
      "cell_type": "code",
      "metadata": {
        "id": "JuxDkcvVIoev",
        "colab": {
          "base_uri": "https://localhost:8080/"
        },
        "outputId": "8f04c1f3-e6af-43ce-f6dd-83c3524de012"
      },
      "source": [
        "for text_batch, label_batch in train_ds.take(1):\n",
        "  for i in range(3):\n",
        "    print(f'Review: {text_batch.numpy()[i]}')\n",
        "    label = label_batch.numpy()[i]\n",
        "    print(f'Label : {label} ({class_names[label]})')"
      ],
      "execution_count": 8,
      "outputs": [
        {
          "output_type": "stream",
          "text": [
            "Review: b\"Anything Park Chan-wook creates is guaranteed to be unique, brilliant, and very twisted at a minimum. Well, anything that isn't I'm a Cyborg at least. Park's newest film titled Thirst is a vampire romance-erotic-thriller-dark comedy-drama \\xc2\\x96 yes, that is a lot of adjectives \\xc2\\x97 inspired by the 19th century French novel by Emile Zola titled Therese Raquin. Park creates a uniquely Korean, and uniquely Park, vision of the vampire mythos and asks the audience to explore the dilemma of a Catholic priest discovering himself having a thirst for blood and the moral and spiritual crisis that would develop. Park delivers on the elements you would hope but definitely falls short of masterpiece quality like Oldboy or even that of Lady Vengeance. Heavily bloated with a narrative that often loses itself much less the audience, Thirst desperately needed another trip through the cutting room. It crawls when it should be running but luckily brings it back home before losing the audience completely. As negative as it may sound the positives definitely outweigh the negatives and another volume has without a doubt been added to the dark and twisted Zeitgeist of Park Chan-wook film.<br /><br />Check out the rest of our review at www.thefilmstage.com\"\n",
            "Label : 1 (pos)\n",
            "Review: b'Of the three remakes of this plot, I like them all, I have all three on VHS and in addition have a copy of this one on DVD. There is just enough variation in the scripts to make all three entertaining and re-watchable. In addition has any other film been remade three times with such all star casts in each? Of course the main stars in this one are great, but the supporting actors are also superb. I particularly like William Tracy as Pepi. He was such a scene stealer that I have searched to find other movies he is in. He appeared in many, but most are not available. As the other comments, I also say - buy this one.'\n",
            "Label : 1 (pos)\n",
            "Review: b'Finally, Timon and Pumbaa in their own film...<br /><br />\\'The Lion King 1 1/2: Hakuna Matata\\' is an irreverent new take on a classic tale. Which classic tale, you ask? Why, \\'The Lion King\\' of course!<br /><br />Yep, if there\\'s one thing that Disney is never short of, it\\'s narcissism.<br /><br />But that doesn\\'t mean that this isn\\'t a good film. It\\'s basically the events of \\'The Lion King\\' as told from Timon and Pumbaa\\'s perspective. And it\\'s because of this that you\\'ll have to know the story of \\'The Lion King\\' by heart to see where they\\'re coming from.<br /><br />Anyway, at one level I was watching this and thinking \"Oh my god this is so lame...\" and on another level I was having a ball. Much of the humour is predictable - I mean, when Pumbaa makes up two beds, a big one for himself and a small one for Timon, within the first nanosecond we all know that Timon is going to take the big one. But that doesn\\'t stop it from being hilarious, which, IMO, is \\'Hakuna Matata\\' in a nutshell. It\\'s not what happens, it\\'s how.<br /><br />And a note of warning: there are also some fart jokes. Seriously, did you expect anything else in a film where Pumbaa takes centre stage? But as fart jokes go, these are especially good, and should satisfy even the most particular connoisseur.<br /><br />The returning voice talent is great. I\\'m kinda surprised that some of the actors were willing to return, what with most of them only having two or three lines (if they\\'re lucky). Whoopi Goldberg is particularly welcome.<br /><br />The music is also great. From \\'Digga Tunnah\\' at the start to \\'That\\'s all I need\\', an adaption of \\'Warthog Rhapsody\\' (a song that was cut from \\'The Lion King\\' and is frankly much improved in this incarnation), the music leaves me with nothing to complain about whatsoever.<br /><br />In the end, Timon and Pumbaa are awesome characters, and while it may be argued that \\'Hakuna Matata\\' is simply an excuse to see them in various fun and assorted compromising situations then so be it. It\\'s rare to find characters that you just want to spend time with.<br /><br />Am I starting to sound creepy?<br /><br />Either way, \\'The Lion King 1 1/2\\' is great if you\\'ve seen \\'The Lion King\\' far too many times. Especially if you are right now thinking \"Don\\'t be silly, there\\'s no such thing as seeing \\'The Lion King\\' too many times!\"'\n",
            "Label : 1 (pos)\n"
          ],
          "name": "stdout"
        }
      ]
    },
    {
      "cell_type": "code",
      "metadata": {
        "id": "y8_ctG55-uTX"
      },
      "source": [
        "#@title Choose a BERT model to fine-tune\n",
        "\n",
        "bert_model_name = 'small_bert/bert_en_uncased_L-4_H-512_A-8'  #@param [\"bert_en_uncased_L-12_H-768_A-12\", \"bert_en_cased_L-12_H-768_A-12\", \"bert_multi_cased_L-12_H-768_A-12\", \"small_bert/bert_en_uncased_L-2_H-128_A-2\", \"small_bert/bert_en_uncased_L-2_H-256_A-4\", \"small_bert/bert_en_uncased_L-2_H-512_A-8\", \"small_bert/bert_en_uncased_L-2_H-768_A-12\", \"small_bert/bert_en_uncased_L-4_H-128_A-2\", \"small_bert/bert_en_uncased_L-4_H-256_A-4\", \"small_bert/bert_en_uncased_L-4_H-512_A-8\", \"small_bert/bert_en_uncased_L-4_H-768_A-12\", \"small_bert/bert_en_uncased_L-6_H-128_A-2\", \"small_bert/bert_en_uncased_L-6_H-256_A-4\", \"small_bert/bert_en_uncased_L-6_H-512_A-8\", \"small_bert/bert_en_uncased_L-6_H-768_A-12\", \"small_bert/bert_en_uncased_L-8_H-128_A-2\", \"small_bert/bert_en_uncased_L-8_H-256_A-4\", \"small_bert/bert_en_uncased_L-8_H-512_A-8\", \"small_bert/bert_en_uncased_L-8_H-768_A-12\", \"small_bert/bert_en_uncased_L-10_H-128_A-2\", \"small_bert/bert_en_uncased_L-10_H-256_A-4\", \"small_bert/bert_en_uncased_L-10_H-512_A-8\", \"small_bert/bert_en_uncased_L-10_H-768_A-12\", \"small_bert/bert_en_uncased_L-12_H-128_A-2\", \"small_bert/bert_en_uncased_L-12_H-256_A-4\", \"small_bert/bert_en_uncased_L-12_H-512_A-8\", \"small_bert/bert_en_uncased_L-12_H-768_A-12\", \"albert_en_base\", \"electra_small\", \"electra_base\", \"experts_pubmed\", \"experts_wiki_books\", \"talking-heads_base\"]\n",
        "\n",
        "map_name_to_handle = {\n",
        "'small_bert/bert_en_uncased_L-4_H-512_A-8':\n",
        "        'https://tfhub.dev/tensorflow/small_bert/bert_en_uncased_L-4_H-512_A-8/1',\n",
        "}\n",
        "\n",
        "map_model_to_preprocess = {\n",
        "    'small_bert/bert_en_uncased_L-4_H-512_A-8':\n",
        "        'https://tfhub.dev/tensorflow/bert_en_uncased_preprocess/1'\n",
        "}\n",
        "\n",
        "tfhub_handle_encoder = map_name_to_handle[bert_model_name]\n",
        "tfhub_handle_preprocess = map_model_to_preprocess[bert_model_name]\n"
      ],
      "execution_count": 9,
      "outputs": []
    },
    {
      "cell_type": "markdown",
      "metadata": {
        "id": "7WrcxxTRDdHi"
      },
      "source": [
        "## The preprocessing model\n",
        "\n",
        "Preprocess: text-to-tensor.\n",
        "\n",
        "** It is not necessary to run pure Python code outside TensorFlow model to preprocess text. \n",
        "\n",
        "Tasks such as stemming, low-frequency words, de-capitalisation are not necessary as they are performed by the preprocessing model.\n",
        "\n",
        "BERT uses the Transformer model. It is an attention mechanism that learns contextual relations between words. BERT uses the Transformer encoder to generate a language model\n"
      ]
    },
    {
      "cell_type": "code",
      "metadata": {
        "id": "0SQi-jWd_jzq"
      },
      "source": [
        "bert_preprocess_model = hub.KerasLayer(tfhub_handle_preprocess)"
      ],
      "execution_count": 10,
      "outputs": []
    },
    {
      "cell_type": "code",
      "metadata": {
        "id": "r9-zCzJpnuwS",
        "colab": {
          "base_uri": "https://localhost:8080/"
        },
        "outputId": "463b830a-7e0d-4ff3-e462-86f4038418b3"
      },
      "source": [
        "text_test = ['this is such an amazing movie!']\n",
        "text_preprocessed = bert_preprocess_model(text_test)\n",
        "\n",
        "print(f'Keys       : {list(text_preprocessed.keys())}')\n",
        "print(f'Shape      : {text_preprocessed[\"input_word_ids\"].shape}')\n",
        "print(f'Word Ids   : {text_preprocessed[\"input_word_ids\"][0, :12]}')\n",
        "print(f'Input Mask : {text_preprocessed[\"input_mask\"][0, :12]}')\n",
        "print(f'Type Ids   : {text_preprocessed[\"input_type_ids\"][0, :12]}')"
      ],
      "execution_count": 11,
      "outputs": [
        {
          "output_type": "stream",
          "text": [
            "Keys       : ['input_word_ids', 'input_mask', 'input_type_ids']\n",
            "Shape      : (1, 128)\n",
            "Word Ids   : [ 101 2023 2003 2107 2019 6429 3185  999  102    0    0    0]\n",
            "Input Mask : [1 1 1 1 1 1 1 1 1 0 0 0]\n",
            "Type Ids   : [0 0 0 0 0 0 0 0 0 0 0 0]\n"
          ],
          "name": "stdout"
        }
      ]
    },
    {
      "cell_type": "markdown",
      "metadata": {
        "id": "DKnLPSEmtp9i"
      },
      "source": [
        "## Using the BERT model\n",
        "\n",
        "BERT outputs"
      ]
    },
    {
      "cell_type": "code",
      "metadata": {
        "id": "tXxYpK8ixL34"
      },
      "source": [
        "bert_model = hub.KerasLayer(tfhub_handle_encoder)"
      ],
      "execution_count": 12,
      "outputs": []
    },
    {
      "cell_type": "code",
      "metadata": {
        "id": "_OoF9mebuSZc",
        "colab": {
          "base_uri": "https://localhost:8080/"
        },
        "outputId": "b74dd077-4dca-49bd-a003-1de1fddd4cfb"
      },
      "source": [
        "bert_results = bert_model(text_preprocessed)\n",
        "\n",
        "print(f'Loaded BERT: {tfhub_handle_encoder}')\n",
        "print(f'Pooled Outputs Shape:{bert_results[\"pooled_output\"].shape}')\n",
        "print(f'Pooled Outputs Values:{bert_results[\"pooled_output\"][0, :12]}')\n",
        "print(f'Sequence Outputs Shape:{bert_results[\"sequence_output\"].shape}')\n",
        "print(f'Sequence Outputs Values:{bert_results[\"sequence_output\"][0, :12]}')"
      ],
      "execution_count": 13,
      "outputs": [
        {
          "output_type": "stream",
          "text": [
            "Loaded BERT: https://tfhub.dev/tensorflow/small_bert/bert_en_uncased_L-4_H-512_A-8/1\n",
            "Pooled Outputs Shape:(1, 512)\n",
            "Pooled Outputs Values:[ 0.762629    0.9928098  -0.18611878  0.36673835  0.15233654  0.65504444\n",
            "  0.96811545 -0.9486271   0.00216182 -0.9877731   0.0684272  -0.97630596]\n",
            "Sequence Outputs Shape:(1, 128, 512)\n",
            "Sequence Outputs Values:[[-0.2894629   0.34321252  0.33231527 ...  0.21300802  0.7102081\n",
            "  -0.05771121]\n",
            " [-0.28742063  0.31981063 -0.23018605 ...  0.58454984 -0.21329683\n",
            "   0.7269203 ]\n",
            " [-0.66157085  0.68876755 -0.8743295  ...  0.10877217 -0.26173267\n",
            "   0.47855398]\n",
            " ...\n",
            " [-0.22561112 -0.28925633 -0.07064408 ...  0.47566015  0.8327713\n",
            "   0.4002535 ]\n",
            " [-0.29824248 -0.2747314  -0.05450488 ...  0.48849776  1.0955359\n",
            "   0.18163344]\n",
            " [-0.4437826   0.0093073   0.07223728 ...  0.17290126  1.1833246\n",
            "   0.07897978]]\n"
          ],
          "name": "stdout"
        }
      ]
    },
    {
      "cell_type": "markdown",
      "metadata": {
        "id": "sm61jDrezAll"
      },
      "source": [
        "The BERT models return a map with 3 important keys: \n",
        "\n",
        "- `pooled_output` to represent each input sequence as a whole. The shape is `[batch_size, H]`. You can think of this as an embedding for the entire movie review.\n",
        "\n",
        "- `sequence_output` represents each input token in the context. The shape is `[batch_size, seq_length, H]`. You can think of this as a contextual embedding for every token in the movie review.\n",
        "\n",
        "- `encoder_outputs` are the intermediate activations of the `L` Transformer blocks. `outputs[\"encoder_outputs\"][i]` is a Tensor of shape `[batch_size, seq_length, 1024]` with the outputs of the i-th Transformer block, for `0 <= i < L`. The last value of the list is equal to `sequence_output`.\n",
        "\n",
        "For the fine-tuning you are going to use the `pooled_output` array."
      ]
    },
    {
      "cell_type": "markdown",
      "metadata": {
        "id": "pDNKfAXbDnJH"
      },
      "source": [
        "## Fine-tuned Model definition\n"
      ]
    },
    {
      "cell_type": "code",
      "metadata": {
        "id": "aksj743St9ga"
      },
      "source": [
        "def build_classifier_model():\n",
        "  text_input = tf.keras.layers.Input(shape=(), dtype=tf.string, name='text')\n",
        "  preprocessing_layer = hub.KerasLayer(tfhub_handle_preprocess, name='preprocessing')\n",
        "  encoder_inputs = preprocessing_layer(text_input)\n",
        "  encoder = hub.KerasLayer(tfhub_handle_encoder, trainable=True, name='BERT_encoder')\n",
        "  outputs = encoder(encoder_inputs)\n",
        "  net = outputs['pooled_output']\n",
        "  net = tf.keras.layers.Dropout(0.1)(net)\n",
        "  net = tf.keras.layers.Dense(1, activation=None, name='classifier')(net)\n",
        "  return tf.keras.Model(text_input, net)"
      ],
      "execution_count": 14,
      "outputs": []
    },
    {
      "cell_type": "markdown",
      "metadata": {
        "id": "Zs4yhFraBuGQ"
      },
      "source": [
        "Test the model\n",
        "\n"
      ]
    },
    {
      "cell_type": "code",
      "metadata": {
        "id": "mGMF8AZcB2Zy",
        "colab": {
          "base_uri": "https://localhost:8080/"
        },
        "outputId": "29f8a718-db85-44a7-b619-f5d6428f69a0"
      },
      "source": [
        "classifier_model = build_classifier_model()\n",
        "bert_raw_result = classifier_model(tf.constant(text_test))\n",
        "print(tf.sigmoid(bert_raw_result))"
      ],
      "execution_count": 15,
      "outputs": [
        {
          "output_type": "stream",
          "text": [
            "tf.Tensor([[0.67001706]], shape=(1, 1), dtype=float32)\n"
          ],
          "name": "stdout"
        }
      ]
    },
    {
      "cell_type": "markdown",
      "metadata": {
        "id": "ZTUzNV2JE2G3"
      },
      "source": [
        "Model structure"
      ]
    },
    {
      "cell_type": "code",
      "metadata": {
        "id": "0EmzyHZXKIpm",
        "colab": {
          "base_uri": "https://localhost:8080/",
          "height": 466
        },
        "outputId": "3d2446c8-a036-4fae-fd6c-edd850a90f2f"
      },
      "source": [
        "tf.keras.utils.plot_model(classifier_model)"
      ],
      "execution_count": 16,
      "outputs": [
        {
          "output_type": "execute_result",
          "data": {
            "image/png": "[encoded data removed]",
            "text/plain": [
              "<IPython.core.display.Image object>"
            ]
          },
          "metadata": {
            "tags": []
          },
          "execution_count": 16
        }
      ]
    },
    {
      "cell_type": "markdown",
      "metadata": {
        "id": "WbUWoZMwc302"
      },
      "source": [
        "## Model training"
      ]
    },
    {
      "cell_type": "code",
      "metadata": {
        "id": "OWPOZE-L3AgE"
      },
      "source": [
        "# Binary classification\n",
        "loss = tf.keras.losses.BinaryCrossentropy(from_logits=True)\n",
        "metrics = tf.metrics.BinaryAccuracy()"
      ],
      "execution_count": 17,
      "outputs": []
    },
    {
      "cell_type": "markdown",
      "metadata": {
        "id": "77psrpfzbxtp"
      },
      "source": [
        "### Optimizer\n",
        "\n",
        "BERT was originally trained with: the \"Adaptive Moments\" (Adam). This optimizer minimizes the prediction loss and does regularization by weight decay (not using moments), which is also known as [AdamW](https://arxiv.org/abs/1711.05101).\n",
        "\n",
        "(`init_lr`) - use the same schedule as BERT pre-training: linear decay of a notional initial learning rate, prefixed with a linear warm-up phase over the first 10% of training steps (`num_warmup_steps`). In line with the BERT paper, the initial learning rate is smaller for fine-tuning (best of 5e-5, 3e-5, 2e-5)."
      ]
    },
    {
      "cell_type": "code",
      "metadata": {
        "id": "P9eP2y9dbw32"
      },
      "source": [
        "epochs = 3\n",
        "steps_per_epoch = tf.data.experimental.cardinality(train_ds).numpy()\n",
        "num_train_steps = steps_per_epoch * epochs\n",
        "num_warmup_steps = int(0.1*num_train_steps)\n",
        "\n",
        "init_lr = 3e-5\n",
        "optimizer = optimization.create_optimizer(init_lr=init_lr,\n",
        "                                          num_train_steps=num_train_steps,\n",
        "                                          num_warmup_steps=num_warmup_steps,\n",
        "                                          optimizer_type='adamw')"
      ],
      "execution_count": 18,
      "outputs": []
    },
    {
      "cell_type": "markdown",
      "metadata": {
        "id": "SqlarlpC_v0g"
      },
      "source": [
        "### Loading the BERT model and training\n",
        "\n",
        "Using the `classifier_model` you created earlier, you can compile the model with the loss, metric and optimizer."
      ]
    },
    {
      "cell_type": "code",
      "metadata": {
        "id": "-7GPDhR98jsD"
      },
      "source": [
        "classifier_model.compile(optimizer=optimizer,\n",
        "                         loss=loss,\n",
        "                         metrics=metrics)"
      ],
      "execution_count": 19,
      "outputs": []
    },
    {
      "cell_type": "markdown",
      "metadata": {
        "id": "CpBuV5j2cS_b"
      },
      "source": [
        "Note: training time will vary depending on the complexity of the BERT model you have selected."
      ]
    },
    {
      "cell_type": "code",
      "metadata": {
        "id": "HtfDFAnN_Neu",
        "colab": {
          "base_uri": "https://localhost:8080/"
        },
        "outputId": "01517447-36fa-4aff-c5a8-f2aaa0bd7bb9"
      },
      "source": [
        "print(f'Training model with {tfhub_handle_encoder}')\n",
        "history = classifier_model.fit(x=train_ds,\n",
        "                               validation_data=val_ds,\n",
        "                               epochs=3)"
      ],
      "execution_count": 20,
      "outputs": [
        {
          "output_type": "stream",
          "text": [
            "Training model with https://tfhub.dev/tensorflow/small_bert/bert_en_uncased_L-4_H-512_A-8/1\n",
            "Epoch 1/3\n",
            "392/392 [==============================] - 218s 556ms/step - loss: 0.4881 - binary_accuracy: 0.7382 - val_loss: 0.3197 - val_binary_accuracy: 0.8567\n",
            "Epoch 2/3\n",
            "392/392 [==============================] - 216s 551ms/step - loss: 0.3293 - binary_accuracy: 0.8503 - val_loss: 0.2496 - val_binary_accuracy: 0.8974\n",
            "Epoch 3/3\n",
            "392/392 [==============================] - 215s 548ms/step - loss: 0.2742 - binary_accuracy: 0.8783 - val_loss: 0.2178 - val_binary_accuracy: 0.9105\n"
          ],
          "name": "stdout"
        }
      ]
    },
    {
      "cell_type": "code",
      "metadata": {
        "id": "zlncBklpfwDo"
      },
      "source": [
        "#pred = classifier_model.predict(test_ds)"
      ],
      "execution_count": 21,
      "outputs": []
    },
    {
      "cell_type": "code",
      "metadata": {
        "id": "ucpWJ80K5sE9"
      },
      "source": [
        ""
      ],
      "execution_count": 21,
      "outputs": []
    },
    {
      "cell_type": "markdown",
      "metadata": {
        "id": "uBthMlTSV8kn"
      },
      "source": [
        "### Evaluate the model\n",
        "\n",
        "Let's see how the model performs. Two values will be returned. Loss (a number which represents the error, lower values are better), and accuracy."
      ]
    },
    {
      "cell_type": "code",
      "metadata": {
        "id": "slqB-urBV9sP",
        "colab": {
          "base_uri": "https://localhost:8080/"
        },
        "outputId": "55a12cc7-276c-41a4-d74c-87086801f846"
      },
      "source": [
        "loss, accuracy = classifier_model.evaluate(test_ds)\n",
        "\n",
        "print(f'Loss: {loss}')\n",
        "print(f'Accuracy: {accuracy}')"
      ],
      "execution_count": 22,
      "outputs": [
        {
          "output_type": "stream",
          "text": [
            "780/780 [==============================] - 129s 166ms/step - loss: 0.2795 - binary_accuracy: 0.8824\n",
            "Loss: 0.27950847148895264\n",
            "Accuracy: 0.8824484348297119\n"
          ],
          "name": "stdout"
        }
      ]
    },
    {
      "cell_type": "markdown",
      "metadata": {
        "id": "uttWpgmSfzq9"
      },
      "source": [
        "### Plot the accuracy and loss over time\n",
        "\n",
        "Based on the `History` object returned by `model.fit()`. You can plot the training and validation loss for comparison, as well as the training and validation accuracy:"
      ]
    },
    {
      "cell_type": "code",
      "metadata": {
        "id": "fiythcODf0xo",
        "colab": {
          "base_uri": "https://localhost:8080/",
          "height": 438
        },
        "outputId": "23d222ba-80b8-4696-9201-05bdb8ef4662"
      },
      "source": [
        "history_dict = history.history\n",
        "print(history_dict.keys())\n",
        "\n",
        "acc = history_dict['binary_accuracy']\n",
        "val_acc = history_dict['val_binary_accuracy']\n",
        "loss = history_dict['loss']\n",
        "val_loss = history_dict['val_loss']\n",
        "\n",
        "epochs = range(1, len(acc) + 1)\n",
        "fig = plt.figure(figsize=(10, 6))\n",
        "fig.tight_layout()\n",
        "\n",
        "plt.subplot(2, 1, 1)\n",
        "# \"bo\" is for \"blue dot\"\n",
        "plt.plot(epochs, loss, 'r', label='Training loss')\n",
        "# b is for \"solid blue line\"\n",
        "plt.plot(epochs, val_loss, 'b', label='Validation loss')\n",
        "plt.title('Training and validation loss')\n",
        "# plt.xlabel('Epochs')\n",
        "plt.ylabel('Loss')\n",
        "plt.legend()\n",
        "\n",
        "plt.subplot(2, 1, 2)\n",
        "plt.plot(epochs, acc, 'r', label='Training acc')\n",
        "plt.plot(epochs, val_acc, 'b', label='Validation acc')\n",
        "plt.title('Training and validation accuracy')\n",
        "plt.xlabel('Epochs')\n",
        "plt.ylabel('Accuracy')\n",
        "plt.legend(loc='lower right')"
      ],
      "execution_count": 23,
      "outputs": [
        {
          "output_type": "stream",
          "text": [
            "dict_keys(['loss', 'binary_accuracy', 'val_loss', 'val_binary_accuracy'])\n"
          ],
          "name": "stdout"
        },
        {
          "output_type": "execute_result",
          "data": {
            "text/plain": [
              "<matplotlib.legend.Legend at 0x7f893cb60080>"
            ]
          },
          "metadata": {
            "tags": []
          },
          "execution_count": 23
        },
        {
          "output_type": "display_data",
          "data": {
            "image/png": "[encoded data removed]",
            "text/plain": [
              "<Figure size 720x432 with 2 Axes>"
            ]
          },
          "metadata": {
            "tags": [],
            "needs_background": "light"
          }
        }
      ]
    },
    {
      "cell_type": "markdown",
      "metadata": {
        "id": "Rtn7jewb6dg4"
      },
      "source": [
        "## Export for inference\n",
        "\n",
        "Now you just save your fine-tuned model for later use."
      ]
    },
    {
      "cell_type": "code",
      "metadata": {
        "id": "ShcvqJAgVera"
      },
      "source": [
        "dataset_name = 'imdb'\n",
        "saved_model_path = './{}_bert'.format(dataset_name.replace('/', '_'))\n",
        "\n",
        "classifier_model.save(saved_model_path, include_optimizer=False)"
      ],
      "execution_count": 24,
      "outputs": []
    },
    {
      "cell_type": "markdown",
      "metadata": {
        "id": "PbI25bS1vD7s"
      },
      "source": [
        "Let's reload the model so you can try it side by side with the model that is still in memory."
      ]
    },
    {
      "cell_type": "code",
      "metadata": {
        "id": "gUEWVskZjEF0"
      },
      "source": [
        "reloaded_model = tf.saved_model.load(saved_model_path)"
      ],
      "execution_count": 25,
      "outputs": []
    },
    {
      "cell_type": "markdown",
      "metadata": {
        "id": "oyTappHTvNCz"
      },
      "source": [
        "Here you can test your model on any sentence you want, just add to the examples variable below."
      ]
    },
    {
      "cell_type": "code",
      "metadata": {
        "id": "VBWzH6exlCPS",
        "colab": {
          "base_uri": "https://localhost:8080/"
        },
        "outputId": "9a9ac2a4-a8ad-4052-d64b-0748ca74790e"
      },
      "source": [
        "def print_my_examples(inputs, results):\n",
        "    result_for_printing = \\\n",
        "    [f'input: {inputs[i]:<30} : score: {results[i][0]:.6f}'\n",
        "                         for i in range(len(inputs))]\n",
        "    print(*result_for_printing, sep='\\n')\n",
        "    print()\n",
        "\n",
        "\n",
        "examples = [\n",
        "    'this is such an amazing movie!',  # this is the same sentence tried earlier\n",
        "    'The movie was great!',\n",
        "    'The movie was meh.',\n",
        "    'The movie was okish.',\n",
        "    'The movie was terrible...'\n",
        "]\n",
        "\n",
        "reloaded_results = tf.sigmoid(reloaded_model(tf.constant(examples)))\n",
        "original_results = tf.sigmoid(classifier_model(tf.constant(examples)))\n",
        "\n",
        "print('Results from the saved model:')\n",
        "print_my_examples(examples, reloaded_results)\n",
        "print('Results from the model in memory:')\n",
        "print_my_examples(examples, original_results)"
      ],
      "execution_count": 26,
      "outputs": [
        {
          "output_type": "stream",
          "text": [
            "Results from the saved model:\n",
            "input: this is such an amazing movie! : score: 0.997954\n",
            "input: The movie was great!           : score: 0.984913\n",
            "input: The movie was meh.             : score: 0.864082\n",
            "input: The movie was okish.           : score: 0.050666\n",
            "input: The movie was terrible...      : score: 0.009620\n",
            "\n",
            "Results from the model in memory:\n",
            "input: this is such an amazing movie! : score: 0.997954\n",
            "input: The movie was great!           : score: 0.984913\n",
            "input: The movie was meh.             : score: 0.864082\n",
            "input: The movie was okish.           : score: 0.050666\n",
            "input: The movie was terrible...      : score: 0.009620\n",
            "\n"
          ],
          "name": "stdout"
        }
      ]
    },
    {
      "cell_type": "code",
      "metadata": {
        "id": "0FdVD3973S-O",
        "colab": {
          "base_uri": "https://localhost:8080/"
        },
        "outputId": "ac27a9d7-68ba-4440-d576-3d70b510a5fc"
      },
      "source": [
        "serving_results = reloaded_model \\\n",
        "            .signatures['serving_default'](tf.constant(examples))\n",
        "\n",
        "serving_results = tf.sigmoid(serving_results['classifier'])\n",
        "\n",
        "print_my_examples(examples, serving_results)"
      ],
      "execution_count": 27,
      "outputs": [
        {
          "output_type": "stream",
          "text": [
            "input: this is such an amazing movie! : score: 0.997954\n",
            "input: The movie was great!           : score: 0.984913\n",
            "input: The movie was meh.             : score: 0.864082\n",
            "input: The movie was okish.           : score: 0.050666\n",
            "input: The movie was terrible...      : score: 0.009620\n",
            "\n"
          ],
          "name": "stdout"
        }
      ]
    }
  ]
}