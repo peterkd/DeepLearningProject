{
  "nbformat": 4,
  "nbformat_minor": 0,
  "metadata": {
    "accelerator": "GPU",
    "colab": {
      "name": "BERT-Classifier",
      "provenance": [],
      "collapsed_sections": [],
      "toc_visible": true,
      "include_colab_link": true
    },
    "kernelspec": {
      "display_name": "Python 3",
      "language": "python",
      "name": "python3"
    },
    "language_info": {
      "codemirror_mode": {
        "name": "ipython",
        "version": 3
      },
      "file_extension": ".py",
      "mimetype": "text/x-python",
      "name": "python",
      "nbconvert_exporter": "python",
      "pygments_lexer": "ipython3",
      "version": "3.7.4"
    },
    "widgets": {
      "application/vnd.jupyter.widget-state+json": {
        "ab230ac1bdec471db84447a6b64eb0ef": {
          "model_module": "@jupyter-widgets/controls",
          "model_name": "HBoxModel",
          "state": {
            "_dom_classes": [],
            "_model_module": "@jupyter-widgets/controls",
            "_model_module_version": "1.5.0",
            "_model_name": "HBoxModel",
            "_view_count": null,
            "_view_module": "@jupyter-widgets/controls",
            "_view_module_version": "1.5.0",
            "_view_name": "HBoxView",
            "box_style": "",
            "children": [
              "IPY_MODEL_e1490f78c13b4016a83a4be348c97abf",
              "IPY_MODEL_40e4f458db64437cadecbb9c887d860b"
            ],
            "layout": "IPY_MODEL_c924523b39df4d91b06b67b328c650b4"
          }
        },
        "c924523b39df4d91b06b67b328c650b4": {
          "model_module": "@jupyter-widgets/base",
          "model_name": "LayoutModel",
          "state": {
            "_model_module": "@jupyter-widgets/base",
            "_model_module_version": "1.2.0",
            "_model_name": "LayoutModel",
            "_view_count": null,
            "_view_module": "@jupyter-widgets/base",
            "_view_module_version": "1.2.0",
            "_view_name": "LayoutView",
            "align_content": null,
            "align_items": null,
            "align_self": null,
            "border": null,
            "bottom": null,
            "display": null,
            "flex": null,
            "flex_flow": null,
            "grid_area": null,
            "grid_auto_columns": null,
            "grid_auto_flow": null,
            "grid_auto_rows": null,
            "grid_column": null,
            "grid_gap": null,
            "grid_row": null,
            "grid_template_areas": null,
            "grid_template_columns": null,
            "grid_template_rows": null,
            "height": null,
            "justify_content": null,
            "justify_items": null,
            "left": null,
            "margin": null,
            "max_height": null,
            "max_width": null,
            "min_height": null,
            "min_width": null,
            "object_fit": null,
            "object_position": null,
            "order": null,
            "overflow": null,
            "overflow_x": null,
            "overflow_y": null,
            "padding": null,
            "right": null,
            "top": null,
            "visibility": null,
            "width": null
          }
        },
        "e1490f78c13b4016a83a4be348c97abf": {
          "model_module": "@jupyter-widgets/controls",
          "model_name": "FloatProgressModel",
          "state": {
            "_dom_classes": [],
            "_model_module": "@jupyter-widgets/controls",
            "_model_module_version": "1.5.0",
            "_model_name": "FloatProgressModel",
            "_view_count": null,
            "_view_module": "@jupyter-widgets/controls",
            "_view_module_version": "1.5.0",
            "_view_name": "ProgressView",
            "bar_style": "success",
            "description": "Dl Completed...: 100%",
            "description_tooltip": null,
            "layout": "IPY_MODEL_f5da0fb25685446ab23c9e26876ccdf5",
            "max": 1,
            "min": 0,
            "orientation": "horizontal",
            "style": "IPY_MODEL_e3eed1ab8b0545dab36b00e4ee432358",
            "value": 1
          }
        },
        "40e4f458db64437cadecbb9c887d860b": {
          "model_module": "@jupyter-widgets/controls",
          "model_name": "HTMLModel",
          "state": {
            "_dom_classes": [],
            "_model_module": "@jupyter-widgets/controls",
            "_model_module_version": "1.5.0",
            "_model_name": "HTMLModel",
            "_view_count": null,
            "_view_module": "@jupyter-widgets/controls",
            "_view_module_version": "1.5.0",
            "_view_name": "HTMLView",
            "description": "",
            "description_tooltip": null,
            "layout": "IPY_MODEL_2f99272358aa407ebadbcf25de410f34",
            "placeholder": "​",
            "style": "IPY_MODEL_3fcbfc77627a48c1abecbf6fb38b5eb7",
            "value": " 1/1 [00:01&lt;00:00,  1.81s/ url]"
          }
        },
        "e3eed1ab8b0545dab36b00e4ee432358": {
          "model_module": "@jupyter-widgets/controls",
          "model_name": "ProgressStyleModel",
          "state": {
            "_model_module": "@jupyter-widgets/controls",
            "_model_module_version": "1.5.0",
            "_model_name": "ProgressStyleModel",
            "_view_count": null,
            "_view_module": "@jupyter-widgets/base",
            "_view_module_version": "1.2.0",
            "_view_name": "StyleView",
            "bar_color": null,
            "description_width": "initial"
          }
        },
        "f5da0fb25685446ab23c9e26876ccdf5": {
          "model_module": "@jupyter-widgets/base",
          "model_name": "LayoutModel",
          "state": {
            "_model_module": "@jupyter-widgets/base",
            "_model_module_version": "1.2.0",
            "_model_name": "LayoutModel",
            "_view_count": null,
            "_view_module": "@jupyter-widgets/base",
            "_view_module_version": "1.2.0",
            "_view_name": "LayoutView",
            "align_content": null,
            "align_items": null,
            "align_self": null,
            "border": null,
            "bottom": null,
            "display": null,
            "flex": null,
            "flex_flow": null,
            "grid_area": null,
            "grid_auto_columns": null,
            "grid_auto_flow": null,
            "grid_auto_rows": null,
            "grid_column": null,
            "grid_gap": null,
            "grid_row": null,
            "grid_template_areas": null,
            "grid_template_columns": null,
            "grid_template_rows": null,
            "height": null,
            "justify_content": null,
            "justify_items": null,
            "left": null,
            "margin": null,
            "max_height": null,
            "max_width": null,
            "min_height": null,
            "min_width": null,
            "object_fit": null,
            "object_position": null,
            "order": null,
            "overflow": null,
            "overflow_x": null,
            "overflow_y": null,
            "padding": null,
            "right": null,
            "top": null,
            "visibility": null,
            "width": null
          }
        },
        "3fcbfc77627a48c1abecbf6fb38b5eb7": {
          "model_module": "@jupyter-widgets/controls",
          "model_name": "DescriptionStyleModel",
          "state": {
            "_model_module": "@jupyter-widgets/controls",
            "_model_module_version": "1.5.0",
            "_model_name": "DescriptionStyleModel",
            "_view_count": null,
            "_view_module": "@jupyter-widgets/base",
            "_view_module_version": "1.2.0",
            "_view_name": "StyleView",
            "description_width": ""
          }
        },
        "2f99272358aa407ebadbcf25de410f34": {
          "model_module": "@jupyter-widgets/base",
          "model_name": "LayoutModel",
          "state": {
            "_model_module": "@jupyter-widgets/base",
            "_model_module_version": "1.2.0",
            "_model_name": "LayoutModel",
            "_view_count": null,
            "_view_module": "@jupyter-widgets/base",
            "_view_module_version": "1.2.0",
            "_view_name": "LayoutView",
            "align_content": null,
            "align_items": null,
            "align_self": null,
            "border": null,
            "bottom": null,
            "display": null,
            "flex": null,
            "flex_flow": null,
            "grid_area": null,
            "grid_auto_columns": null,
            "grid_auto_flow": null,
            "grid_auto_rows": null,
            "grid_column": null,
            "grid_gap": null,
            "grid_row": null,
            "grid_template_areas": null,
            "grid_template_columns": null,
            "grid_template_rows": null,
            "height": null,
            "justify_content": null,
            "justify_items": null,
            "left": null,
            "margin": null,
            "max_height": null,
            "max_width": null,
            "min_height": null,
            "min_width": null,
            "object_fit": null,
            "object_position": null,
            "order": null,
            "overflow": null,
            "overflow_x": null,
            "overflow_y": null,
            "padding": null,
            "right": null,
            "top": null,
            "visibility": null,
            "width": null
          }
        },
        "585409af180e4979b37a80f025d47cc9": {
          "model_module": "@jupyter-widgets/controls",
          "model_name": "HBoxModel",
          "state": {
            "_dom_classes": [],
            "_model_module": "@jupyter-widgets/controls",
            "_model_module_version": "1.5.0",
            "_model_name": "HBoxModel",
            "_view_count": null,
            "_view_module": "@jupyter-widgets/controls",
            "_view_module_version": "1.5.0",
            "_view_name": "HBoxView",
            "box_style": "",
            "children": [
              "IPY_MODEL_a5abee07fb2c4410ac4440c7876ee15f",
              "IPY_MODEL_b947710b06764f9981cf40069a86c143"
            ],
            "layout": "IPY_MODEL_f4a4a64acd384a5790ca41a40b2b672d"
          }
        },
        "f4a4a64acd384a5790ca41a40b2b672d": {
          "model_module": "@jupyter-widgets/base",
          "model_name": "LayoutModel",
          "state": {
            "_model_module": "@jupyter-widgets/base",
            "_model_module_version": "1.2.0",
            "_model_name": "LayoutModel",
            "_view_count": null,
            "_view_module": "@jupyter-widgets/base",
            "_view_module_version": "1.2.0",
            "_view_name": "LayoutView",
            "align_content": null,
            "align_items": null,
            "align_self": null,
            "border": null,
            "bottom": null,
            "display": null,
            "flex": null,
            "flex_flow": null,
            "grid_area": null,
            "grid_auto_columns": null,
            "grid_auto_flow": null,
            "grid_auto_rows": null,
            "grid_column": null,
            "grid_gap": null,
            "grid_row": null,
            "grid_template_areas": null,
            "grid_template_columns": null,
            "grid_template_rows": null,
            "height": null,
            "justify_content": null,
            "justify_items": null,
            "left": null,
            "margin": null,
            "max_height": null,
            "max_width": null,
            "min_height": null,
            "min_width": null,
            "object_fit": null,
            "object_position": null,
            "order": null,
            "overflow": null,
            "overflow_x": null,
            "overflow_y": null,
            "padding": null,
            "right": null,
            "top": null,
            "visibility": null,
            "width": null
          }
        },
        "a5abee07fb2c4410ac4440c7876ee15f": {
          "model_module": "@jupyter-widgets/controls",
          "model_name": "FloatProgressModel",
          "state": {
            "_dom_classes": [],
            "_model_module": "@jupyter-widgets/controls",
            "_model_module_version": "1.5.0",
            "_model_name": "FloatProgressModel",
            "_view_count": null,
            "_view_module": "@jupyter-widgets/controls",
            "_view_module_version": "1.5.0",
            "_view_name": "ProgressView",
            "bar_style": "success",
            "description": "Dl Size...: 100%",
            "description_tooltip": null,
            "layout": "IPY_MODEL_3fa2d61e87fc4bd09f78962b70831d24",
            "max": 1,
            "min": 0,
            "orientation": "horizontal",
            "style": "IPY_MODEL_cdaadf7c2ed84b7997e13d1844d66127",
            "value": 1
          }
        },
        "b947710b06764f9981cf40069a86c143": {
          "model_module": "@jupyter-widgets/controls",
          "model_name": "HTMLModel",
          "state": {
            "_dom_classes": [],
            "_model_module": "@jupyter-widgets/controls",
            "_model_module_version": "1.5.0",
            "_model_name": "HTMLModel",
            "_view_count": null,
            "_view_module": "@jupyter-widgets/controls",
            "_view_module_version": "1.5.0",
            "_view_name": "HTMLView",
            "description": "",
            "description_tooltip": null,
            "layout": "IPY_MODEL_7c29abb2ecd444a7a9160f585a6aa17a",
            "placeholder": "​",
            "style": "IPY_MODEL_c5e2d93afe5c42eda9bf9159bfb111ce",
            "value": " 80/80 [00:01&lt;00:00, 44.97 MiB/s]"
          }
        },
        "cdaadf7c2ed84b7997e13d1844d66127": {
          "model_module": "@jupyter-widgets/controls",
          "model_name": "ProgressStyleModel",
          "state": {
            "_model_module": "@jupyter-widgets/controls",
            "_model_module_version": "1.5.0",
            "_model_name": "ProgressStyleModel",
            "_view_count": null,
            "_view_module": "@jupyter-widgets/base",
            "_view_module_version": "1.2.0",
            "_view_name": "StyleView",
            "bar_color": null,
            "description_width": "initial"
          }
        },
        "3fa2d61e87fc4bd09f78962b70831d24": {
          "model_module": "@jupyter-widgets/base",
          "model_name": "LayoutModel",
          "state": {
            "_model_module": "@jupyter-widgets/base",
            "_model_module_version": "1.2.0",
            "_model_name": "LayoutModel",
            "_view_count": null,
            "_view_module": "@jupyter-widgets/base",
            "_view_module_version": "1.2.0",
            "_view_name": "LayoutView",
            "align_content": null,
            "align_items": null,
            "align_self": null,
            "border": null,
            "bottom": null,
            "display": null,
            "flex": null,
            "flex_flow": null,
            "grid_area": null,
            "grid_auto_columns": null,
            "grid_auto_flow": null,
            "grid_auto_rows": null,
            "grid_column": null,
            "grid_gap": null,
            "grid_row": null,
            "grid_template_areas": null,
            "grid_template_columns": null,
            "grid_template_rows": null,
            "height": null,
            "justify_content": null,
            "justify_items": null,
            "left": null,
            "margin": null,
            "max_height": null,
            "max_width": null,
            "min_height": null,
            "min_width": null,
            "object_fit": null,
            "object_position": null,
            "order": null,
            "overflow": null,
            "overflow_x": null,
            "overflow_y": null,
            "padding": null,
            "right": null,
            "top": null,
            "visibility": null,
            "width": null
          }
        },
        "c5e2d93afe5c42eda9bf9159bfb111ce": {
          "model_module": "@jupyter-widgets/controls",
          "model_name": "DescriptionStyleModel",
          "state": {
            "_model_module": "@jupyter-widgets/controls",
            "_model_module_version": "1.5.0",
            "_model_name": "DescriptionStyleModel",
            "_view_count": null,
            "_view_module": "@jupyter-widgets/base",
            "_view_module_version": "1.2.0",
            "_view_name": "StyleView",
            "description_width": ""
          }
        },
        "7c29abb2ecd444a7a9160f585a6aa17a": {
          "model_module": "@jupyter-widgets/base",
          "model_name": "LayoutModel",
          "state": {
            "_model_module": "@jupyter-widgets/base",
            "_model_module_version": "1.2.0",
            "_model_name": "LayoutModel",
            "_view_count": null,
            "_view_module": "@jupyter-widgets/base",
            "_view_module_version": "1.2.0",
            "_view_name": "LayoutView",
            "align_content": null,
            "align_items": null,
            "align_self": null,
            "border": null,
            "bottom": null,
            "display": null,
            "flex": null,
            "flex_flow": null,
            "grid_area": null,
            "grid_auto_columns": null,
            "grid_auto_flow": null,
            "grid_auto_rows": null,
            "grid_column": null,
            "grid_gap": null,
            "grid_row": null,
            "grid_template_areas": null,
            "grid_template_columns": null,
            "grid_template_rows": null,
            "height": null,
            "justify_content": null,
            "justify_items": null,
            "left": null,
            "margin": null,
            "max_height": null,
            "max_width": null,
            "min_height": null,
            "min_width": null,
            "object_fit": null,
            "object_position": null,
            "order": null,
            "overflow": null,
            "overflow_x": null,
            "overflow_y": null,
            "padding": null,
            "right": null,
            "top": null,
            "visibility": null,
            "width": null
          }
        },
        "c9edf31e3eb44145a9de8114bf5a3653": {
          "model_module": "@jupyter-widgets/controls",
          "model_name": "HBoxModel",
          "state": {
            "_dom_classes": [],
            "_model_module": "@jupyter-widgets/controls",
            "_model_module_version": "1.5.0",
            "_model_name": "HBoxModel",
            "_view_count": null,
            "_view_module": "@jupyter-widgets/controls",
            "_view_module_version": "1.5.0",
            "_view_name": "HBoxView",
            "box_style": "",
            "children": [
              "IPY_MODEL_3eb85f8d72ca4d57a13f86c255909a93",
              "IPY_MODEL_707b9384cdd942e29ec1a6759b48ca94"
            ],
            "layout": "IPY_MODEL_f452f181ede447d58297f9542da2b5f1"
          }
        },
        "f452f181ede447d58297f9542da2b5f1": {
          "model_module": "@jupyter-widgets/base",
          "model_name": "LayoutModel",
          "state": {
            "_model_module": "@jupyter-widgets/base",
            "_model_module_version": "1.2.0",
            "_model_name": "LayoutModel",
            "_view_count": null,
            "_view_module": "@jupyter-widgets/base",
            "_view_module_version": "1.2.0",
            "_view_name": "LayoutView",
            "align_content": null,
            "align_items": null,
            "align_self": null,
            "border": null,
            "bottom": null,
            "display": null,
            "flex": null,
            "flex_flow": null,
            "grid_area": null,
            "grid_auto_columns": null,
            "grid_auto_flow": null,
            "grid_auto_rows": null,
            "grid_column": null,
            "grid_gap": null,
            "grid_row": null,
            "grid_template_areas": null,
            "grid_template_columns": null,
            "grid_template_rows": null,
            "height": null,
            "justify_content": null,
            "justify_items": null,
            "left": null,
            "margin": null,
            "max_height": null,
            "max_width": null,
            "min_height": null,
            "min_width": null,
            "object_fit": null,
            "object_position": null,
            "order": null,
            "overflow": null,
            "overflow_x": null,
            "overflow_y": null,
            "padding": null,
            "right": null,
            "top": null,
            "visibility": null,
            "width": null
          }
        },
        "3eb85f8d72ca4d57a13f86c255909a93": {
          "model_module": "@jupyter-widgets/controls",
          "model_name": "FloatProgressModel",
          "state": {
            "_dom_classes": [],
            "_model_module": "@jupyter-widgets/controls",
            "_model_module_version": "1.5.0",
            "_model_name": "FloatProgressModel",
            "_view_count": null,
            "_view_module": "@jupyter-widgets/controls",
            "_view_module_version": "1.5.0",
            "_view_name": "ProgressView",
            "bar_style": "info",
            "description": "",
            "description_tooltip": null,
            "layout": "IPY_MODEL_90f7ce7d5a784ce095ee2d12275f1a79",
            "max": 1,
            "min": 0,
            "orientation": "horizontal",
            "style": "IPY_MODEL_5d45e7dee99644218977669d9c7dfd3e",
            "value": 1
          }
        },
        "707b9384cdd942e29ec1a6759b48ca94": {
          "model_module": "@jupyter-widgets/controls",
          "model_name": "HTMLModel",
          "state": {
            "_dom_classes": [],
            "_model_module": "@jupyter-widgets/controls",
            "_model_module_version": "1.5.0",
            "_model_name": "HTMLModel",
            "_view_count": null,
            "_view_module": "@jupyter-widgets/controls",
            "_view_module_version": "1.5.0",
            "_view_name": "HTMLView",
            "description": "",
            "description_tooltip": null,
            "layout": "IPY_MODEL_7dbf1e68063348ebbd34075ab97eda5f",
            "placeholder": "​",
            "style": "IPY_MODEL_b7bf46f0afa44a869b124013e287b2e3",
            "value": " 25000/0 [00:11&lt;00:00, 3831.26 examples/s]"
          }
        },
        "5d45e7dee99644218977669d9c7dfd3e": {
          "model_module": "@jupyter-widgets/controls",
          "model_name": "ProgressStyleModel",
          "state": {
            "_model_module": "@jupyter-widgets/controls",
            "_model_module_version": "1.5.0",
            "_model_name": "ProgressStyleModel",
            "_view_count": null,
            "_view_module": "@jupyter-widgets/base",
            "_view_module_version": "1.2.0",
            "_view_name": "StyleView",
            "bar_color": null,
            "description_width": "initial"
          }
        },
        "90f7ce7d5a784ce095ee2d12275f1a79": {
          "model_module": "@jupyter-widgets/base",
          "model_name": "LayoutModel",
          "state": {
            "_model_module": "@jupyter-widgets/base",
            "_model_module_version": "1.2.0",
            "_model_name": "LayoutModel",
            "_view_count": null,
            "_view_module": "@jupyter-widgets/base",
            "_view_module_version": "1.2.0",
            "_view_name": "LayoutView",
            "align_content": null,
            "align_items": null,
            "align_self": null,
            "border": null,
            "bottom": null,
            "display": null,
            "flex": null,
            "flex_flow": null,
            "grid_area": null,
            "grid_auto_columns": null,
            "grid_auto_flow": null,
            "grid_auto_rows": null,
            "grid_column": null,
            "grid_gap": null,
            "grid_row": null,
            "grid_template_areas": null,
            "grid_template_columns": null,
            "grid_template_rows": null,
            "height": null,
            "justify_content": null,
            "justify_items": null,
            "left": null,
            "margin": null,
            "max_height": null,
            "max_width": null,
            "min_height": null,
            "min_width": null,
            "object_fit": null,
            "object_position": null,
            "order": null,
            "overflow": null,
            "overflow_x": null,
            "overflow_y": null,
            "padding": null,
            "right": null,
            "top": null,
            "visibility": null,
            "width": null
          }
        },
        "b7bf46f0afa44a869b124013e287b2e3": {
          "model_module": "@jupyter-widgets/controls",
          "model_name": "DescriptionStyleModel",
          "state": {
            "_model_module": "@jupyter-widgets/controls",
            "_model_module_version": "1.5.0",
            "_model_name": "DescriptionStyleModel",
            "_view_count": null,
            "_view_module": "@jupyter-widgets/base",
            "_view_module_version": "1.2.0",
            "_view_name": "StyleView",
            "description_width": ""
          }
        },
        "7dbf1e68063348ebbd34075ab97eda5f": {
          "model_module": "@jupyter-widgets/base",
          "model_name": "LayoutModel",
          "state": {
            "_model_module": "@jupyter-widgets/base",
            "_model_module_version": "1.2.0",
            "_model_name": "LayoutModel",
            "_view_count": null,
            "_view_module": "@jupyter-widgets/base",
            "_view_module_version": "1.2.0",
            "_view_name": "LayoutView",
            "align_content": null,
            "align_items": null,
            "align_self": null,
            "border": null,
            "bottom": null,
            "display": null,
            "flex": null,
            "flex_flow": null,
            "grid_area": null,
            "grid_auto_columns": null,
            "grid_auto_flow": null,
            "grid_auto_rows": null,
            "grid_column": null,
            "grid_gap": null,
            "grid_row": null,
            "grid_template_areas": null,
            "grid_template_columns": null,
            "grid_template_rows": null,
            "height": null,
            "justify_content": null,
            "justify_items": null,
            "left": null,
            "margin": null,
            "max_height": null,
            "max_width": null,
            "min_height": null,
            "min_width": null,
            "object_fit": null,
            "object_position": null,
            "order": null,
            "overflow": null,
            "overflow_x": null,
            "overflow_y": null,
            "padding": null,
            "right": null,
            "top": null,
            "visibility": null,
            "width": null
          }
        },
        "76b68708ae264e7e833943d9a61df9f1": {
          "model_module": "@jupyter-widgets/controls",
          "model_name": "HBoxModel",
          "state": {
            "_dom_classes": [],
            "_model_module": "@jupyter-widgets/controls",
            "_model_module_version": "1.5.0",
            "_model_name": "HBoxModel",
            "_view_count": null,
            "_view_module": "@jupyter-widgets/controls",
            "_view_module_version": "1.5.0",
            "_view_name": "HBoxView",
            "box_style": "",
            "children": [
              "IPY_MODEL_cfaeac7212934c3c946d901ba48552ab",
              "IPY_MODEL_ee8ff361d9f8432384fa2930147aed3f"
            ],
            "layout": "IPY_MODEL_8c9828518e4d4c27a0ca314e50f4fd68"
          }
        },
        "8c9828518e4d4c27a0ca314e50f4fd68": {
          "model_module": "@jupyter-widgets/base",
          "model_name": "LayoutModel",
          "state": {
            "_model_module": "@jupyter-widgets/base",
            "_model_module_version": "1.2.0",
            "_model_name": "LayoutModel",
            "_view_count": null,
            "_view_module": "@jupyter-widgets/base",
            "_view_module_version": "1.2.0",
            "_view_name": "LayoutView",
            "align_content": null,
            "align_items": null,
            "align_self": null,
            "border": null,
            "bottom": null,
            "display": null,
            "flex": null,
            "flex_flow": null,
            "grid_area": null,
            "grid_auto_columns": null,
            "grid_auto_flow": null,
            "grid_auto_rows": null,
            "grid_column": null,
            "grid_gap": null,
            "grid_row": null,
            "grid_template_areas": null,
            "grid_template_columns": null,
            "grid_template_rows": null,
            "height": null,
            "justify_content": null,
            "justify_items": null,
            "left": null,
            "margin": null,
            "max_height": null,
            "max_width": null,
            "min_height": null,
            "min_width": null,
            "object_fit": null,
            "object_position": null,
            "order": null,
            "overflow": null,
            "overflow_x": null,
            "overflow_y": null,
            "padding": null,
            "right": null,
            "top": null,
            "visibility": null,
            "width": null
          }
        },
        "cfaeac7212934c3c946d901ba48552ab": {
          "model_module": "@jupyter-widgets/controls",
          "model_name": "FloatProgressModel",
          "state": {
            "_dom_classes": [],
            "_model_module": "@jupyter-widgets/controls",
            "_model_module_version": "1.5.0",
            "_model_name": "FloatProgressModel",
            "_view_count": null,
            "_view_module": "@jupyter-widgets/controls",
            "_view_module_version": "1.5.0",
            "_view_name": "ProgressView",
            "bar_style": "danger",
            "description": " 54%",
            "description_tooltip": null,
            "layout": "IPY_MODEL_1ee98e4bb87749078b93ed4d6bb3c704",
            "max": 25000,
            "min": 0,
            "orientation": "horizontal",
            "style": "IPY_MODEL_187f58f529524bb39ce46e86ef24d5ac",
            "value": 13611
          }
        },
        "ee8ff361d9f8432384fa2930147aed3f": {
          "model_module": "@jupyter-widgets/controls",
          "model_name": "HTMLModel",
          "state": {
            "_dom_classes": [],
            "_model_module": "@jupyter-widgets/controls",
            "_model_module_version": "1.5.0",
            "_model_name": "HTMLModel",
            "_view_count": null,
            "_view_module": "@jupyter-widgets/controls",
            "_view_module_version": "1.5.0",
            "_view_name": "HTMLView",
            "description": "",
            "description_tooltip": null,
            "layout": "IPY_MODEL_e14083b91b9c42199edad0b9e003d6ce",
            "placeholder": "​",
            "style": "IPY_MODEL_752513f42ec34dbc9c37fc731e670aa8",
            "value": " 13611/25000 [00:00&lt;00:00, 136108.51 examples/s]"
          }
        },
        "187f58f529524bb39ce46e86ef24d5ac": {
          "model_module": "@jupyter-widgets/controls",
          "model_name": "ProgressStyleModel",
          "state": {
            "_model_module": "@jupyter-widgets/controls",
            "_model_module_version": "1.5.0",
            "_model_name": "ProgressStyleModel",
            "_view_count": null,
            "_view_module": "@jupyter-widgets/base",
            "_view_module_version": "1.2.0",
            "_view_name": "StyleView",
            "bar_color": null,
            "description_width": "initial"
          }
        },
        "1ee98e4bb87749078b93ed4d6bb3c704": {
          "model_module": "@jupyter-widgets/base",
          "model_name": "LayoutModel",
          "state": {
            "_model_module": "@jupyter-widgets/base",
            "_model_module_version": "1.2.0",
            "_model_name": "LayoutModel",
            "_view_count": null,
            "_view_module": "@jupyter-widgets/base",
            "_view_module_version": "1.2.0",
            "_view_name": "LayoutView",
            "align_content": null,
            "align_items": null,
            "align_self": null,
            "border": null,
            "bottom": null,
            "display": null,
            "flex": null,
            "flex_flow": null,
            "grid_area": null,
            "grid_auto_columns": null,
            "grid_auto_flow": null,
            "grid_auto_rows": null,
            "grid_column": null,
            "grid_gap": null,
            "grid_row": null,
            "grid_template_areas": null,
            "grid_template_columns": null,
            "grid_template_rows": null,
            "height": null,
            "justify_content": null,
            "justify_items": null,
            "left": null,
            "margin": null,
            "max_height": null,
            "max_width": null,
            "min_height": null,
            "min_width": null,
            "object_fit": null,
            "object_position": null,
            "order": null,
            "overflow": null,
            "overflow_x": null,
            "overflow_y": null,
            "padding": null,
            "right": null,
            "top": null,
            "visibility": null,
            "width": null
          }
        },
        "752513f42ec34dbc9c37fc731e670aa8": {
          "model_module": "@jupyter-widgets/controls",
          "model_name": "DescriptionStyleModel",
          "state": {
            "_model_module": "@jupyter-widgets/controls",
            "_model_module_version": "1.5.0",
            "_model_name": "DescriptionStyleModel",
            "_view_count": null,
            "_view_module": "@jupyter-widgets/base",
            "_view_module_version": "1.2.0",
            "_view_name": "StyleView",
            "description_width": ""
          }
        },
        "e14083b91b9c42199edad0b9e003d6ce": {
          "model_module": "@jupyter-widgets/base",
          "model_name": "LayoutModel",
          "state": {
            "_model_module": "@jupyter-widgets/base",
            "_model_module_version": "1.2.0",
            "_model_name": "LayoutModel",
            "_view_count": null,
            "_view_module": "@jupyter-widgets/base",
            "_view_module_version": "1.2.0",
            "_view_name": "LayoutView",
            "align_content": null,
            "align_items": null,
            "align_self": null,
            "border": null,
            "bottom": null,
            "display": null,
            "flex": null,
            "flex_flow": null,
            "grid_area": null,
            "grid_auto_columns": null,
            "grid_auto_flow": null,
            "grid_auto_rows": null,
            "grid_column": null,
            "grid_gap": null,
            "grid_row": null,
            "grid_template_areas": null,
            "grid_template_columns": null,
            "grid_template_rows": null,
            "height": null,
            "justify_content": null,
            "justify_items": null,
            "left": null,
            "margin": null,
            "max_height": null,
            "max_width": null,
            "min_height": null,
            "min_width": null,
            "object_fit": null,
            "object_position": null,
            "order": null,
            "overflow": null,
            "overflow_x": null,
            "overflow_y": null,
            "padding": null,
            "right": null,
            "top": null,
            "visibility": null,
            "width": null
          }
        },
        "43e45fd64fb34966b4c45028a502f163": {
          "model_module": "@jupyter-widgets/controls",
          "model_name": "HBoxModel",
          "state": {
            "_dom_classes": [],
            "_model_module": "@jupyter-widgets/controls",
            "_model_module_version": "1.5.0",
            "_model_name": "HBoxModel",
            "_view_count": null,
            "_view_module": "@jupyter-widgets/controls",
            "_view_module_version": "1.5.0",
            "_view_name": "HBoxView",
            "box_style": "",
            "children": [
              "IPY_MODEL_c3d41d3a6ded44f4b67648ce4fcabb23",
              "IPY_MODEL_73fa8388bf284e6fb2bde416d4de600f"
            ],
            "layout": "IPY_MODEL_2c4cedcbc0364e71a962e0a4999c22e1"
          }
        },
        "2c4cedcbc0364e71a962e0a4999c22e1": {
          "model_module": "@jupyter-widgets/base",
          "model_name": "LayoutModel",
          "state": {
            "_model_module": "@jupyter-widgets/base",
            "_model_module_version": "1.2.0",
            "_model_name": "LayoutModel",
            "_view_count": null,
            "_view_module": "@jupyter-widgets/base",
            "_view_module_version": "1.2.0",
            "_view_name": "LayoutView",
            "align_content": null,
            "align_items": null,
            "align_self": null,
            "border": null,
            "bottom": null,
            "display": null,
            "flex": null,
            "flex_flow": null,
            "grid_area": null,
            "grid_auto_columns": null,
            "grid_auto_flow": null,
            "grid_auto_rows": null,
            "grid_column": null,
            "grid_gap": null,
            "grid_row": null,
            "grid_template_areas": null,
            "grid_template_columns": null,
            "grid_template_rows": null,
            "height": null,
            "justify_content": null,
            "justify_items": null,
            "left": null,
            "margin": null,
            "max_height": null,
            "max_width": null,
            "min_height": null,
            "min_width": null,
            "object_fit": null,
            "object_position": null,
            "order": null,
            "overflow": null,
            "overflow_x": null,
            "overflow_y": null,
            "padding": null,
            "right": null,
            "top": null,
            "visibility": null,
            "width": null
          }
        },
        "c3d41d3a6ded44f4b67648ce4fcabb23": {
          "model_module": "@jupyter-widgets/controls",
          "model_name": "FloatProgressModel",
          "state": {
            "_dom_classes": [],
            "_model_module": "@jupyter-widgets/controls",
            "_model_module_version": "1.5.0",
            "_model_name": "FloatProgressModel",
            "_view_count": null,
            "_view_module": "@jupyter-widgets/controls",
            "_view_module_version": "1.5.0",
            "_view_name": "ProgressView",
            "bar_style": "info",
            "description": "",
            "description_tooltip": null,
            "layout": "IPY_MODEL_a2865e8063e644bea8f8fa0a73c99f48",
            "max": 1,
            "min": 0,
            "orientation": "horizontal",
            "style": "IPY_MODEL_c0da2d46ed7a43639094fc019d219395",
            "value": 1
          }
        },
        "73fa8388bf284e6fb2bde416d4de600f": {
          "model_module": "@jupyter-widgets/controls",
          "model_name": "HTMLModel",
          "state": {
            "_dom_classes": [],
            "_model_module": "@jupyter-widgets/controls",
            "_model_module_version": "1.5.0",
            "_model_name": "HTMLModel",
            "_view_count": null,
            "_view_module": "@jupyter-widgets/controls",
            "_view_module_version": "1.5.0",
            "_view_name": "HTMLView",
            "description": "",
            "description_tooltip": null,
            "layout": "IPY_MODEL_042a350aa8784126928009cdf57e84c9",
            "placeholder": "​",
            "style": "IPY_MODEL_d5738a7bd2ff4a23b9fbbdcfaadccd40",
            "value": " 25000/0 [00:11&lt;00:00, 3988.76 examples/s]"
          }
        },
        "c0da2d46ed7a43639094fc019d219395": {
          "model_module": "@jupyter-widgets/controls",
          "model_name": "ProgressStyleModel",
          "state": {
            "_model_module": "@jupyter-widgets/controls",
            "_model_module_version": "1.5.0",
            "_model_name": "ProgressStyleModel",
            "_view_count": null,
            "_view_module": "@jupyter-widgets/base",
            "_view_module_version": "1.2.0",
            "_view_name": "StyleView",
            "bar_color": null,
            "description_width": "initial"
          }
        },
        "a2865e8063e644bea8f8fa0a73c99f48": {
          "model_module": "@jupyter-widgets/base",
          "model_name": "LayoutModel",
          "state": {
            "_model_module": "@jupyter-widgets/base",
            "_model_module_version": "1.2.0",
            "_model_name": "LayoutModel",
            "_view_count": null,
            "_view_module": "@jupyter-widgets/base",
            "_view_module_version": "1.2.0",
            "_view_name": "LayoutView",
            "align_content": null,
            "align_items": null,
            "align_self": null,
            "border": null,
            "bottom": null,
            "display": null,
            "flex": null,
            "flex_flow": null,
            "grid_area": null,
            "grid_auto_columns": null,
            "grid_auto_flow": null,
            "grid_auto_rows": null,
            "grid_column": null,
            "grid_gap": null,
            "grid_row": null,
            "grid_template_areas": null,
            "grid_template_columns": null,
            "grid_template_rows": null,
            "height": null,
            "justify_content": null,
            "justify_items": null,
            "left": null,
            "margin": null,
            "max_height": null,
            "max_width": null,
            "min_height": null,
            "min_width": null,
            "object_fit": null,
            "object_position": null,
            "order": null,
            "overflow": null,
            "overflow_x": null,
            "overflow_y": null,
            "padding": null,
            "right": null,
            "top": null,
            "visibility": null,
            "width": null
          }
        },
        "d5738a7bd2ff4a23b9fbbdcfaadccd40": {
          "model_module": "@jupyter-widgets/controls",
          "model_name": "DescriptionStyleModel",
          "state": {
            "_model_module": "@jupyter-widgets/controls",
            "_model_module_version": "1.5.0",
            "_model_name": "DescriptionStyleModel",
            "_view_count": null,
            "_view_module": "@jupyter-widgets/base",
            "_view_module_version": "1.2.0",
            "_view_name": "StyleView",
            "description_width": ""
          }
        },
        "042a350aa8784126928009cdf57e84c9": {
          "model_module": "@jupyter-widgets/base",
          "model_name": "LayoutModel",
          "state": {
            "_model_module": "@jupyter-widgets/base",
            "_model_module_version": "1.2.0",
            "_model_name": "LayoutModel",
            "_view_count": null,
            "_view_module": "@jupyter-widgets/base",
            "_view_module_version": "1.2.0",
            "_view_name": "LayoutView",
            "align_content": null,
            "align_items": null,
            "align_self": null,
            "border": null,
            "bottom": null,
            "display": null,
            "flex": null,
            "flex_flow": null,
            "grid_area": null,
            "grid_auto_columns": null,
            "grid_auto_flow": null,
            "grid_auto_rows": null,
            "grid_column": null,
            "grid_gap": null,
            "grid_row": null,
            "grid_template_areas": null,
            "grid_template_columns": null,
            "grid_template_rows": null,
            "height": null,
            "justify_content": null,
            "justify_items": null,
            "left": null,
            "margin": null,
            "max_height": null,
            "max_width": null,
            "min_height": null,
            "min_width": null,
            "object_fit": null,
            "object_position": null,
            "order": null,
            "overflow": null,
            "overflow_x": null,
            "overflow_y": null,
            "padding": null,
            "right": null,
            "top": null,
            "visibility": null,
            "width": null
          }
        },
        "7970cda375c944c59fb0d0fd80ec8cd1": {
          "model_module": "@jupyter-widgets/controls",
          "model_name": "HBoxModel",
          "state": {
            "_dom_classes": [],
            "_model_module": "@jupyter-widgets/controls",
            "_model_module_version": "1.5.0",
            "_model_name": "HBoxModel",
            "_view_count": null,
            "_view_module": "@jupyter-widgets/controls",
            "_view_module_version": "1.5.0",
            "_view_name": "HBoxView",
            "box_style": "",
            "children": [
              "IPY_MODEL_c497d8ba9ab94840b7f10b4430730489",
              "IPY_MODEL_e6d38caf74c547a68d8968964bdc31d4"
            ],
            "layout": "IPY_MODEL_97f627e0456a4fa89fbb9287bb690055"
          }
        },
        "97f627e0456a4fa89fbb9287bb690055": {
          "model_module": "@jupyter-widgets/base",
          "model_name": "LayoutModel",
          "state": {
            "_model_module": "@jupyter-widgets/base",
            "_model_module_version": "1.2.0",
            "_model_name": "LayoutModel",
            "_view_count": null,
            "_view_module": "@jupyter-widgets/base",
            "_view_module_version": "1.2.0",
            "_view_name": "LayoutView",
            "align_content": null,
            "align_items": null,
            "align_self": null,
            "border": null,
            "bottom": null,
            "display": null,
            "flex": null,
            "flex_flow": null,
            "grid_area": null,
            "grid_auto_columns": null,
            "grid_auto_flow": null,
            "grid_auto_rows": null,
            "grid_column": null,
            "grid_gap": null,
            "grid_row": null,
            "grid_template_areas": null,
            "grid_template_columns": null,
            "grid_template_rows": null,
            "height": null,
            "justify_content": null,
            "justify_items": null,
            "left": null,
            "margin": null,
            "max_height": null,
            "max_width": null,
            "min_height": null,
            "min_width": null,
            "object_fit": null,
            "object_position": null,
            "order": null,
            "overflow": null,
            "overflow_x": null,
            "overflow_y": null,
            "padding": null,
            "right": null,
            "top": null,
            "visibility": null,
            "width": null
          }
        },
        "c497d8ba9ab94840b7f10b4430730489": {
          "model_module": "@jupyter-widgets/controls",
          "model_name": "FloatProgressModel",
          "state": {
            "_dom_classes": [],
            "_model_module": "@jupyter-widgets/controls",
            "_model_module_version": "1.5.0",
            "_model_name": "FloatProgressModel",
            "_view_count": null,
            "_view_module": "@jupyter-widgets/controls",
            "_view_module_version": "1.5.0",
            "_view_name": "ProgressView",
            "bar_style": "danger",
            "description": " 67%",
            "description_tooltip": null,
            "layout": "IPY_MODEL_27fd0875194447789d5d9882acf01352",
            "max": 25000,
            "min": 0,
            "orientation": "horizontal",
            "style": "IPY_MODEL_a3c676fb062f47f186a78609c07f1d89",
            "value": 16701
          }
        },
        "e6d38caf74c547a68d8968964bdc31d4": {
          "model_module": "@jupyter-widgets/controls",
          "model_name": "HTMLModel",
          "state": {
            "_dom_classes": [],
            "_model_module": "@jupyter-widgets/controls",
            "_model_module_version": "1.5.0",
            "_model_name": "HTMLModel",
            "_view_count": null,
            "_view_module": "@jupyter-widgets/controls",
            "_view_module_version": "1.5.0",
            "_view_name": "HTMLView",
            "description": "",
            "description_tooltip": null,
            "layout": "IPY_MODEL_db558193ead546bc8bac52edd2ae65da",
            "placeholder": "​",
            "style": "IPY_MODEL_cb8a833598fe4638a11f44c35c26b3b5",
            "value": " 16701/25000 [00:00&lt;00:00, 167002.99 examples/s]"
          }
        },
        "a3c676fb062f47f186a78609c07f1d89": {
          "model_module": "@jupyter-widgets/controls",
          "model_name": "ProgressStyleModel",
          "state": {
            "_model_module": "@jupyter-widgets/controls",
            "_model_module_version": "1.5.0",
            "_model_name": "ProgressStyleModel",
            "_view_count": null,
            "_view_module": "@jupyter-widgets/base",
            "_view_module_version": "1.2.0",
            "_view_name": "StyleView",
            "bar_color": null,
            "description_width": "initial"
          }
        },
        "27fd0875194447789d5d9882acf01352": {
          "model_module": "@jupyter-widgets/base",
          "model_name": "LayoutModel",
          "state": {
            "_model_module": "@jupyter-widgets/base",
            "_model_module_version": "1.2.0",
            "_model_name": "LayoutModel",
            "_view_count": null,
            "_view_module": "@jupyter-widgets/base",
            "_view_module_version": "1.2.0",
            "_view_name": "LayoutView",
            "align_content": null,
            "align_items": null,
            "align_self": null,
            "border": null,
            "bottom": null,
            "display": null,
            "flex": null,
            "flex_flow": null,
            "grid_area": null,
            "grid_auto_columns": null,
            "grid_auto_flow": null,
            "grid_auto_rows": null,
            "grid_column": null,
            "grid_gap": null,
            "grid_row": null,
            "grid_template_areas": null,
            "grid_template_columns": null,
            "grid_template_rows": null,
            "height": null,
            "justify_content": null,
            "justify_items": null,
            "left": null,
            "margin": null,
            "max_height": null,
            "max_width": null,
            "min_height": null,
            "min_width": null,
            "object_fit": null,
            "object_position": null,
            "order": null,
            "overflow": null,
            "overflow_x": null,
            "overflow_y": null,
            "padding": null,
            "right": null,
            "top": null,
            "visibility": null,
            "width": null
          }
        },
        "cb8a833598fe4638a11f44c35c26b3b5": {
          "model_module": "@jupyter-widgets/controls",
          "model_name": "DescriptionStyleModel",
          "state": {
            "_model_module": "@jupyter-widgets/controls",
            "_model_module_version": "1.5.0",
            "_model_name": "DescriptionStyleModel",
            "_view_count": null,
            "_view_module": "@jupyter-widgets/base",
            "_view_module_version": "1.2.0",
            "_view_name": "StyleView",
            "description_width": ""
          }
        },
        "db558193ead546bc8bac52edd2ae65da": {
          "model_module": "@jupyter-widgets/base",
          "model_name": "LayoutModel",
          "state": {
            "_model_module": "@jupyter-widgets/base",
            "_model_module_version": "1.2.0",
            "_model_name": "LayoutModel",
            "_view_count": null,
            "_view_module": "@jupyter-widgets/base",
            "_view_module_version": "1.2.0",
            "_view_name": "LayoutView",
            "align_content": null,
            "align_items": null,
            "align_self": null,
            "border": null,
            "bottom": null,
            "display": null,
            "flex": null,
            "flex_flow": null,
            "grid_area": null,
            "grid_auto_columns": null,
            "grid_auto_flow": null,
            "grid_auto_rows": null,
            "grid_column": null,
            "grid_gap": null,
            "grid_row": null,
            "grid_template_areas": null,
            "grid_template_columns": null,
            "grid_template_rows": null,
            "height": null,
            "justify_content": null,
            "justify_items": null,
            "left": null,
            "margin": null,
            "max_height": null,
            "max_width": null,
            "min_height": null,
            "min_width": null,
            "object_fit": null,
            "object_position": null,
            "order": null,
            "overflow": null,
            "overflow_x": null,
            "overflow_y": null,
            "padding": null,
            "right": null,
            "top": null,
            "visibility": null,
            "width": null
          }
        },
        "98f4a97e46c7410eaa8664f7baa47d6f": {
          "model_module": "@jupyter-widgets/controls",
          "model_name": "HBoxModel",
          "state": {
            "_dom_classes": [],
            "_model_module": "@jupyter-widgets/controls",
            "_model_module_version": "1.5.0",
            "_model_name": "HBoxModel",
            "_view_count": null,
            "_view_module": "@jupyter-widgets/controls",
            "_view_module_version": "1.5.0",
            "_view_name": "HBoxView",
            "box_style": "",
            "children": [
              "IPY_MODEL_9006a3e5b0aa4209a00d9c4e3ba9dd2f",
              "IPY_MODEL_79f6f4df4b224cd6840b5b8960f0dc4c"
            ],
            "layout": "IPY_MODEL_19f6641362b0419197564bd5c338a88a"
          }
        },
        "19f6641362b0419197564bd5c338a88a": {
          "model_module": "@jupyter-widgets/base",
          "model_name": "LayoutModel",
          "state": {
            "_model_module": "@jupyter-widgets/base",
            "_model_module_version": "1.2.0",
            "_model_name": "LayoutModel",
            "_view_count": null,
            "_view_module": "@jupyter-widgets/base",
            "_view_module_version": "1.2.0",
            "_view_name": "LayoutView",
            "align_content": null,
            "align_items": null,
            "align_self": null,
            "border": null,
            "bottom": null,
            "display": null,
            "flex": null,
            "flex_flow": null,
            "grid_area": null,
            "grid_auto_columns": null,
            "grid_auto_flow": null,
            "grid_auto_rows": null,
            "grid_column": null,
            "grid_gap": null,
            "grid_row": null,
            "grid_template_areas": null,
            "grid_template_columns": null,
            "grid_template_rows": null,
            "height": null,
            "justify_content": null,
            "justify_items": null,
            "left": null,
            "margin": null,
            "max_height": null,
            "max_width": null,
            "min_height": null,
            "min_width": null,
            "object_fit": null,
            "object_position": null,
            "order": null,
            "overflow": null,
            "overflow_x": null,
            "overflow_y": null,
            "padding": null,
            "right": null,
            "top": null,
            "visibility": null,
            "width": null
          }
        },
        "9006a3e5b0aa4209a00d9c4e3ba9dd2f": {
          "model_module": "@jupyter-widgets/controls",
          "model_name": "FloatProgressModel",
          "state": {
            "_dom_classes": [],
            "_model_module": "@jupyter-widgets/controls",
            "_model_module_version": "1.5.0",
            "_model_name": "FloatProgressModel",
            "_view_count": null,
            "_view_module": "@jupyter-widgets/controls",
            "_view_module_version": "1.5.0",
            "_view_name": "ProgressView",
            "bar_style": "info",
            "description": "",
            "description_tooltip": null,
            "layout": "IPY_MODEL_4c69fe979d69456790a376f2cbc39418",
            "max": 1,
            "min": 0,
            "orientation": "horizontal",
            "style": "IPY_MODEL_8297123cd98246a3b215be209fbd1b91",
            "value": 1
          }
        },
        "79f6f4df4b224cd6840b5b8960f0dc4c": {
          "model_module": "@jupyter-widgets/controls",
          "model_name": "HTMLModel",
          "state": {
            "_dom_classes": [],
            "_model_module": "@jupyter-widgets/controls",
            "_model_module_version": "1.5.0",
            "_model_name": "HTMLModel",
            "_view_count": null,
            "_view_module": "@jupyter-widgets/controls",
            "_view_module_version": "1.5.0",
            "_view_name": "HTMLView",
            "description": "",
            "description_tooltip": null,
            "layout": "IPY_MODEL_c14b92f2f34d43799b446fdbdb52304f",
            "placeholder": "​",
            "style": "IPY_MODEL_ccfde6bfa559494ba0a9ba53f96cfbcb",
            "value": " 50000/0 [00:16&lt;00:00, 3776.58 examples/s]"
          }
        },
        "8297123cd98246a3b215be209fbd1b91": {
          "model_module": "@jupyter-widgets/controls",
          "model_name": "ProgressStyleModel",
          "state": {
            "_model_module": "@jupyter-widgets/controls",
            "_model_module_version": "1.5.0",
            "_model_name": "ProgressStyleModel",
            "_view_count": null,
            "_view_module": "@jupyter-widgets/base",
            "_view_module_version": "1.2.0",
            "_view_name": "StyleView",
            "bar_color": null,
            "description_width": "initial"
          }
        },
        "4c69fe979d69456790a376f2cbc39418": {
          "model_module": "@jupyter-widgets/base",
          "model_name": "LayoutModel",
          "state": {
            "_model_module": "@jupyter-widgets/base",
            "_model_module_version": "1.2.0",
            "_model_name": "LayoutModel",
            "_view_count": null,
            "_view_module": "@jupyter-widgets/base",
            "_view_module_version": "1.2.0",
            "_view_name": "LayoutView",
            "align_content": null,
            "align_items": null,
            "align_self": null,
            "border": null,
            "bottom": null,
            "display": null,
            "flex": null,
            "flex_flow": null,
            "grid_area": null,
            "grid_auto_columns": null,
            "grid_auto_flow": null,
            "grid_auto_rows": null,
            "grid_column": null,
            "grid_gap": null,
            "grid_row": null,
            "grid_template_areas": null,
            "grid_template_columns": null,
            "grid_template_rows": null,
            "height": null,
            "justify_content": null,
            "justify_items": null,
            "left": null,
            "margin": null,
            "max_height": null,
            "max_width": null,
            "min_height": null,
            "min_width": null,
            "object_fit": null,
            "object_position": null,
            "order": null,
            "overflow": null,
            "overflow_x": null,
            "overflow_y": null,
            "padding": null,
            "right": null,
            "top": null,
            "visibility": null,
            "width": null
          }
        },
        "ccfde6bfa559494ba0a9ba53f96cfbcb": {
          "model_module": "@jupyter-widgets/controls",
          "model_name": "DescriptionStyleModel",
          "state": {
            "_model_module": "@jupyter-widgets/controls",
            "_model_module_version": "1.5.0",
            "_model_name": "DescriptionStyleModel",
            "_view_count": null,
            "_view_module": "@jupyter-widgets/base",
            "_view_module_version": "1.2.0",
            "_view_name": "StyleView",
            "description_width": ""
          }
        },
        "c14b92f2f34d43799b446fdbdb52304f": {
          "model_module": "@jupyter-widgets/base",
          "model_name": "LayoutModel",
          "state": {
            "_model_module": "@jupyter-widgets/base",
            "_model_module_version": "1.2.0",
            "_model_name": "LayoutModel",
            "_view_count": null,
            "_view_module": "@jupyter-widgets/base",
            "_view_module_version": "1.2.0",
            "_view_name": "LayoutView",
            "align_content": null,
            "align_items": null,
            "align_self": null,
            "border": null,
            "bottom": null,
            "display": null,
            "flex": null,
            "flex_flow": null,
            "grid_area": null,
            "grid_auto_columns": null,
            "grid_auto_flow": null,
            "grid_auto_rows": null,
            "grid_column": null,
            "grid_gap": null,
            "grid_row": null,
            "grid_template_areas": null,
            "grid_template_columns": null,
            "grid_template_rows": null,
            "height": null,
            "justify_content": null,
            "justify_items": null,
            "left": null,
            "margin": null,
            "max_height": null,
            "max_width": null,
            "min_height": null,
            "min_width": null,
            "object_fit": null,
            "object_position": null,
            "order": null,
            "overflow": null,
            "overflow_x": null,
            "overflow_y": null,
            "padding": null,
            "right": null,
            "top": null,
            "visibility": null,
            "width": null
          }
        },
        "8ac2c4d49d224d70880300efe22a85d8": {
          "model_module": "@jupyter-widgets/controls",
          "model_name": "HBoxModel",
          "state": {
            "_dom_classes": [],
            "_model_module": "@jupyter-widgets/controls",
            "_model_module_version": "1.5.0",
            "_model_name": "HBoxModel",
            "_view_count": null,
            "_view_module": "@jupyter-widgets/controls",
            "_view_module_version": "1.5.0",
            "_view_name": "HBoxView",
            "box_style": "",
            "children": [
              "IPY_MODEL_d33f397776714702b0d48bc477feb476",
              "IPY_MODEL_d01d684bdf3048e3946eb4f4700cc1c6"
            ],
            "layout": "IPY_MODEL_d85466b127314bf9b5aa9c59c3b0d88a"
          }
        },
        "d85466b127314bf9b5aa9c59c3b0d88a": {
          "model_module": "@jupyter-widgets/base",
          "model_name": "LayoutModel",
          "state": {
            "_model_module": "@jupyter-widgets/base",
            "_model_module_version": "1.2.0",
            "_model_name": "LayoutModel",
            "_view_count": null,
            "_view_module": "@jupyter-widgets/base",
            "_view_module_version": "1.2.0",
            "_view_name": "LayoutView",
            "align_content": null,
            "align_items": null,
            "align_self": null,
            "border": null,
            "bottom": null,
            "display": null,
            "flex": null,
            "flex_flow": null,
            "grid_area": null,
            "grid_auto_columns": null,
            "grid_auto_flow": null,
            "grid_auto_rows": null,
            "grid_column": null,
            "grid_gap": null,
            "grid_row": null,
            "grid_template_areas": null,
            "grid_template_columns": null,
            "grid_template_rows": null,
            "height": null,
            "justify_content": null,
            "justify_items": null,
            "left": null,
            "margin": null,
            "max_height": null,
            "max_width": null,
            "min_height": null,
            "min_width": null,
            "object_fit": null,
            "object_position": null,
            "order": null,
            "overflow": null,
            "overflow_x": null,
            "overflow_y": null,
            "padding": null,
            "right": null,
            "top": null,
            "visibility": null,
            "width": null
          }
        },
        "d33f397776714702b0d48bc477feb476": {
          "model_module": "@jupyter-widgets/controls",
          "model_name": "FloatProgressModel",
          "state": {
            "_dom_classes": [],
            "_model_module": "@jupyter-widgets/controls",
            "_model_module_version": "1.5.0",
            "_model_name": "FloatProgressModel",
            "_view_count": null,
            "_view_module": "@jupyter-widgets/controls",
            "_view_module_version": "1.5.0",
            "_view_name": "ProgressView",
            "bar_style": "danger",
            "description": " 71%",
            "description_tooltip": null,
            "layout": "IPY_MODEL_cec39a1cd7ce4d3fa6e51cb1068b5ec6",
            "max": 50000,
            "min": 0,
            "orientation": "horizontal",
            "style": "IPY_MODEL_d1bbbe9982f3409eb74968a58e49e57f",
            "value": 35505
          }
        },
        "d01d684bdf3048e3946eb4f4700cc1c6": {
          "model_module": "@jupyter-widgets/controls",
          "model_name": "HTMLModel",
          "state": {
            "_dom_classes": [],
            "_model_module": "@jupyter-widgets/controls",
            "_model_module_version": "1.5.0",
            "_model_name": "HTMLModel",
            "_view_count": null,
            "_view_module": "@jupyter-widgets/controls",
            "_view_module_version": "1.5.0",
            "_view_name": "HTMLView",
            "description": "",
            "description_tooltip": null,
            "layout": "IPY_MODEL_b6332cc58c604617a14f9b0efbf65c1d",
            "placeholder": "​",
            "style": "IPY_MODEL_44d69a4448c44bb8afaadac478d05bd4",
            "value": " 35505/50000 [00:05&lt;00:00, 80971.61 examples/s]"
          }
        },
        "d1bbbe9982f3409eb74968a58e49e57f": {
          "model_module": "@jupyter-widgets/controls",
          "model_name": "ProgressStyleModel",
          "state": {
            "_model_module": "@jupyter-widgets/controls",
            "_model_module_version": "1.5.0",
            "_model_name": "ProgressStyleModel",
            "_view_count": null,
            "_view_module": "@jupyter-widgets/base",
            "_view_module_version": "1.2.0",
            "_view_name": "StyleView",
            "bar_color": null,
            "description_width": "initial"
          }
        },
        "cec39a1cd7ce4d3fa6e51cb1068b5ec6": {
          "model_module": "@jupyter-widgets/base",
          "model_name": "LayoutModel",
          "state": {
            "_model_module": "@jupyter-widgets/base",
            "_model_module_version": "1.2.0",
            "_model_name": "LayoutModel",
            "_view_count": null,
            "_view_module": "@jupyter-widgets/base",
            "_view_module_version": "1.2.0",
            "_view_name": "LayoutView",
            "align_content": null,
            "align_items": null,
            "align_self": null,
            "border": null,
            "bottom": null,
            "display": null,
            "flex": null,
            "flex_flow": null,
            "grid_area": null,
            "grid_auto_columns": null,
            "grid_auto_flow": null,
            "grid_auto_rows": null,
            "grid_column": null,
            "grid_gap": null,
            "grid_row": null,
            "grid_template_areas": null,
            "grid_template_columns": null,
            "grid_template_rows": null,
            "height": null,
            "justify_content": null,
            "justify_items": null,
            "left": null,
            "margin": null,
            "max_height": null,
            "max_width": null,
            "min_height": null,
            "min_width": null,
            "object_fit": null,
            "object_position": null,
            "order": null,
            "overflow": null,
            "overflow_x": null,
            "overflow_y": null,
            "padding": null,
            "right": null,
            "top": null,
            "visibility": null,
            "width": null
          }
        },
        "44d69a4448c44bb8afaadac478d05bd4": {
          "model_module": "@jupyter-widgets/controls",
          "model_name": "DescriptionStyleModel",
          "state": {
            "_model_module": "@jupyter-widgets/controls",
            "_model_module_version": "1.5.0",
            "_model_name": "DescriptionStyleModel",
            "_view_count": null,
            "_view_module": "@jupyter-widgets/base",
            "_view_module_version": "1.2.0",
            "_view_name": "StyleView",
            "description_width": ""
          }
        },
        "b6332cc58c604617a14f9b0efbf65c1d": {
          "model_module": "@jupyter-widgets/base",
          "model_name": "LayoutModel",
          "state": {
            "_model_module": "@jupyter-widgets/base",
            "_model_module_version": "1.2.0",
            "_model_name": "LayoutModel",
            "_view_count": null,
            "_view_module": "@jupyter-widgets/base",
            "_view_module_version": "1.2.0",
            "_view_name": "LayoutView",
            "align_content": null,
            "align_items": null,
            "align_self": null,
            "border": null,
            "bottom": null,
            "display": null,
            "flex": null,
            "flex_flow": null,
            "grid_area": null,
            "grid_auto_columns": null,
            "grid_auto_flow": null,
            "grid_auto_rows": null,
            "grid_column": null,
            "grid_gap": null,
            "grid_row": null,
            "grid_template_areas": null,
            "grid_template_columns": null,
            "grid_template_rows": null,
            "height": null,
            "justify_content": null,
            "justify_items": null,
            "left": null,
            "margin": null,
            "max_height": null,
            "max_width": null,
            "min_height": null,
            "min_width": null,
            "object_fit": null,
            "object_position": null,
            "order": null,
            "overflow": null,
            "overflow_x": null,
            "overflow_y": null,
            "padding": null,
            "right": null,
            "top": null,
            "visibility": null,
            "width": null
          }
        }
      }
    }
  },
  "cells": [
    {
      "cell_type": "markdown",
      "metadata": {
        "id": "view-in-github",
        "colab_type": "text"
      },
      "source": [
        "<a href=\"https://colab.research.google.com/github/peterkd/DeepLearningProject/blob/main/BERT/BERT_Classifier.ipynb\" target=\"_parent\"><img src=\"https://colab.research.google.com/assets/colab-badge.svg\" alt=\"Open In Colab\"/></a>"
      ]
    },
    {
      "cell_type": "markdown",
      "metadata": {
        "id": "Cb4espuLKJiA"
      },
      "source": [
        "\n"
      ]
    },
    {
      "cell_type": "markdown",
      "metadata": {
        "id": "IZ6SNYq_tVVC"
      },
      "source": [
        "# Classify text with BERT\n",
        "\n",
        "- Load the IMDB dataset\n",
        "- Load a BERT model from TensorFlow Hub\n",
        "- Preprocessing\n",
        "- Build model by combining BERT with a classifier\n",
        "- Train model, fine-tuning BERT as part of that\n",
        "- Save model and use it to classify sentences"
      ]
    },
    {
      "cell_type": "markdown",
      "metadata": {
        "id": "2PHBpLPuQdmK"
      },
      "source": [
        "## About BERT\n",
        "\n",
        "BERT: Bidirectional Encoder Representation from Transformers.\n",
        "\n",
        "Machine learning technique for NLP pre-training, developed by Google. Google has been using BERT to better understand user searches.\n",
        "\n",
        "BERT has two pre-trained types: BERT-base and BERT-large.\n",
        "\n",
        "It is a bidirectional model. It learns from left and right side of token's context during training.\n",
        "\n",
        "![sentence.png](data:image/png;base64,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)\n"
      ]
    },
    {
      "cell_type": "markdown",
      "metadata": {
        "id": "kRergZw2JVhY"
      },
      "source": [
        "BERT uses several types of embeddings:\n",
        "- Position embeddings: position of word in sentence\n",
        "- Segment Embeddings: sentence pairs as inputs to optimize context calculation\n",
        "- Token Embeddings: embeddings learned from WordPiece token vocabulary\n",
        "\n",
        "Input representation is built by summing the associated position, segment, token embeddings."
      ]
    },
    {
      "cell_type": "markdown",
      "metadata": {
        "id": "8OX1RqB0qC0Q"
      },
      "source": [
        "##### * based on sample by The TensorFlow Hub Authors."
      ]
    },
    {
      "cell_type": "markdown",
      "metadata": {
        "id": "SCjmX4zTCkRK"
      },
      "source": [
        "## Setup\n",
        "\n",
        "\n"
      ]
    },
    {
      "cell_type": "code",
      "metadata": {
        "colab": {
          "base_uri": "https://localhost:8080/"
        },
        "id": "q-YbjCkzw0yU",
        "outputId": "2d4cbf3d-d3ec-4348-b0ec-cd3a8cc80c20"
      },
      "source": [
        "# A dependency of the preprocessing for BERT inputs\n",
        "!pip install -q tensorflow-text"
      ],
      "execution_count": null,
      "outputs": [
        {
          "output_type": "stream",
          "text": [
            "\u001b[K     |████████████████████████████████| 2.6MB 9.0MB/s \n",
            "\u001b[?25h"
          ],
          "name": "stdout"
        }
      ]
    },
    {
      "cell_type": "code",
      "metadata": {
        "colab": {
          "base_uri": "https://localhost:8080/"
        },
        "id": "b-P1ZOA0FkVJ",
        "outputId": "c885e1dc-c519-4e95-8ad4-e8eef3991398"
      },
      "source": [
        "!pip install -q tf-models-official"
      ],
      "execution_count": null,
      "outputs": [
        {
          "output_type": "stream",
          "text": [
            "\u001b[K     |████████████████████████████████| 849kB 8.8MB/s \n",
            "\u001b[K     |████████████████████████████████| 102kB 10.6MB/s \n",
            "\u001b[K     |████████████████████████████████| 36.7MB 87kB/s \n",
            "\u001b[K     |████████████████████████████████| 358kB 60.2MB/s \n",
            "\u001b[K     |████████████████████████████████| 174kB 43.2MB/s \n",
            "\u001b[K     |████████████████████████████████| 1.1MB 54.0MB/s \n",
            "\u001b[?25h  Building wheel for py-cpuinfo (setup.py) ... \u001b[?25l\u001b[?25hdone\n"
          ],
          "name": "stdout"
        }
      ]
    },
    {
      "cell_type": "code",
      "metadata": {
        "id": "_XgTpm9ZxoN9"
      },
      "source": [
        "import tensorflow as tf\n",
        "import tensorflow_hub as hub\n",
        "import tensorflow_text as text\n",
        "from official.nlp import optimization\n",
        "from keras.datasets import imdb\n",
        "import matplotlib.pyplot as plt\n",
        "import tensorflow_datasets as tfds\n",
        "from tensorflow.keras.callbacks import EarlyStopping, ModelCheckpoint, CSVLogger\n",
        "from tensorflow.keras import Sequential\n",
        "from tensorflow.keras.layers import Embedding, Bidirectional, LSTM, Dense, Dropout\n",
        "tf.get_logger().setLevel('ERROR')"
      ],
      "execution_count": null,
      "outputs": []
    },
    {
      "cell_type": "markdown",
      "metadata": {
        "id": "q6MugfEgDRpY"
      },
      "source": [
        "## Sentiment Analysis\n",
        "\n",
        "This notebook trains a sentiment analysis model to classify movie reviews as *positive* or *negative*, based on the text of the review."
      ]
    },
    {
      "cell_type": "markdown",
      "metadata": {
        "id": "Vnvd4mrtPHHV"
      },
      "source": [
        "### Download the IMDB dataset\n",
        "\n",
        "Download and extract the dataset, then explore the directory structure.\n",
        "\n"
      ]
    },
    {
      "cell_type": "code",
      "metadata": {
        "id": "pOdqCMoQDRJL"
      },
      "source": [
        "#Download the IMDB dataset using TFDS.\n",
        "\n",
        "#dataset, info = tfds.load('imdb_reviews', with_info=True,as_supervised=True)\n",
        "#class_names = info.features['label'].names\n",
        "#train_ds, test_ds = dataset['train'], dataset['test']"
      ],
      "execution_count": null,
      "outputs": []
    },
    {
      "cell_type": "code",
      "metadata": {
        "colab": {
          "base_uri": "https://localhost:8080/",
          "height": 347,
          "referenced_widgets": [
            "ab230ac1bdec471db84447a6b64eb0ef",
            "c924523b39df4d91b06b67b328c650b4",
            "e1490f78c13b4016a83a4be348c97abf",
            "40e4f458db64437cadecbb9c887d860b",
            "e3eed1ab8b0545dab36b00e4ee432358",
            "f5da0fb25685446ab23c9e26876ccdf5",
            "3fcbfc77627a48c1abecbf6fb38b5eb7",
            "2f99272358aa407ebadbcf25de410f34",
            "585409af180e4979b37a80f025d47cc9",
            "f4a4a64acd384a5790ca41a40b2b672d",
            "a5abee07fb2c4410ac4440c7876ee15f",
            "b947710b06764f9981cf40069a86c143",
            "cdaadf7c2ed84b7997e13d1844d66127",
            "3fa2d61e87fc4bd09f78962b70831d24",
            "c5e2d93afe5c42eda9bf9159bfb111ce",
            "7c29abb2ecd444a7a9160f585a6aa17a",
            "c9edf31e3eb44145a9de8114bf5a3653",
            "f452f181ede447d58297f9542da2b5f1",
            "3eb85f8d72ca4d57a13f86c255909a93",
            "707b9384cdd942e29ec1a6759b48ca94",
            "5d45e7dee99644218977669d9c7dfd3e",
            "90f7ce7d5a784ce095ee2d12275f1a79",
            "b7bf46f0afa44a869b124013e287b2e3",
            "7dbf1e68063348ebbd34075ab97eda5f",
            "76b68708ae264e7e833943d9a61df9f1",
            "8c9828518e4d4c27a0ca314e50f4fd68",
            "cfaeac7212934c3c946d901ba48552ab",
            "ee8ff361d9f8432384fa2930147aed3f",
            "187f58f529524bb39ce46e86ef24d5ac",
            "1ee98e4bb87749078b93ed4d6bb3c704",
            "752513f42ec34dbc9c37fc731e670aa8",
            "e14083b91b9c42199edad0b9e003d6ce",
            "43e45fd64fb34966b4c45028a502f163",
            "2c4cedcbc0364e71a962e0a4999c22e1",
            "c3d41d3a6ded44f4b67648ce4fcabb23",
            "73fa8388bf284e6fb2bde416d4de600f",
            "c0da2d46ed7a43639094fc019d219395",
            "a2865e8063e644bea8f8fa0a73c99f48",
            "d5738a7bd2ff4a23b9fbbdcfaadccd40",
            "042a350aa8784126928009cdf57e84c9",
            "7970cda375c944c59fb0d0fd80ec8cd1",
            "97f627e0456a4fa89fbb9287bb690055",
            "c497d8ba9ab94840b7f10b4430730489",
            "e6d38caf74c547a68d8968964bdc31d4",
            "a3c676fb062f47f186a78609c07f1d89",
            "27fd0875194447789d5d9882acf01352",
            "cb8a833598fe4638a11f44c35c26b3b5",
            "db558193ead546bc8bac52edd2ae65da",
            "98f4a97e46c7410eaa8664f7baa47d6f",
            "19f6641362b0419197564bd5c338a88a",
            "9006a3e5b0aa4209a00d9c4e3ba9dd2f",
            "79f6f4df4b224cd6840b5b8960f0dc4c",
            "8297123cd98246a3b215be209fbd1b91",
            "4c69fe979d69456790a376f2cbc39418",
            "ccfde6bfa559494ba0a9ba53f96cfbcb",
            "c14b92f2f34d43799b446fdbdb52304f",
            "8ac2c4d49d224d70880300efe22a85d8",
            "d85466b127314bf9b5aa9c59c3b0d88a",
            "d33f397776714702b0d48bc477feb476",
            "d01d684bdf3048e3946eb4f4700cc1c6",
            "d1bbbe9982f3409eb74968a58e49e57f",
            "cec39a1cd7ce4d3fa6e51cb1068b5ec6",
            "44d69a4448c44bb8afaadac478d05bd4",
            "b6332cc58c604617a14f9b0efbf65c1d"
          ]
        },
        "id": "OQ_PfDAtW_G_",
        "outputId": "7d1cf9ba-f0ae-46da-ff50-5f9788c77845"
      },
      "source": [
        "#Download the IMDB dataset using TFDS and split: train, test, validation datasets\n",
        "splits, info = tfds.load('imdb_reviews', with_info=True, as_supervised=True,\n",
        "split=['train+test[:80]','train+test[80:90]', 'train+test[90:]'])\n",
        "(train_ds, val_ds, test_ds) = splits\n",
        "\n",
        "class_names = info.features['label'].names"
      ],
      "execution_count": null,
      "outputs": [
        {
          "output_type": "stream",
          "text": [
            "\u001b[1mDownloading and preparing dataset imdb_reviews/plain_text/1.0.0 (download: 80.23 MiB, generated: Unknown size, total: 80.23 MiB) to /root/tensorflow_datasets/imdb_reviews/plain_text/1.0.0...\u001b[0m\n"
          ],
          "name": "stdout"
        },
        {
          "output_type": "display_data",
          "data": {
            "application/vnd.jupyter.widget-view+json": {
              "model_id": "ab230ac1bdec471db84447a6b64eb0ef",
              "version_major": 2,
              "version_minor": 0
            },
            "text/plain": [
              "HBox(children=(FloatProgress(value=1.0, bar_style='info', description='Dl Completed...', max=1.0, style=Progre…"
            ]
          },
          "metadata": {
            "tags": []
          }
        },
        {
          "output_type": "display_data",
          "data": {
            "application/vnd.jupyter.widget-view+json": {
              "model_id": "585409af180e4979b37a80f025d47cc9",
              "version_major": 2,
              "version_minor": 0
            },
            "text/plain": [
              "HBox(children=(FloatProgress(value=1.0, bar_style='info', description='Dl Size...', max=1.0, style=ProgressSty…"
            ]
          },
          "metadata": {
            "tags": []
          }
        },
        {
          "output_type": "stream",
          "text": [
            "\n",
            "\n",
            "\n",
            "\n"
          ],
          "name": "stdout"
        },
        {
          "output_type": "display_data",
          "data": {
            "application/vnd.jupyter.widget-view+json": {
              "model_id": "c9edf31e3eb44145a9de8114bf5a3653",
              "version_major": 2,
              "version_minor": 0
            },
            "text/plain": [
              "HBox(children=(FloatProgress(value=1.0, bar_style='info', max=1.0), HTML(value='')))"
            ]
          },
          "metadata": {
            "tags": []
          }
        },
        {
          "output_type": "stream",
          "text": [
            "\rShuffling and writing examples to /root/tensorflow_datasets/imdb_reviews/plain_text/1.0.0.incomplete2KKRQJ/imdb_reviews-train.tfrecord\n"
          ],
          "name": "stdout"
        },
        {
          "output_type": "display_data",
          "data": {
            "application/vnd.jupyter.widget-view+json": {
              "model_id": "76b68708ae264e7e833943d9a61df9f1",
              "version_major": 2,
              "version_minor": 0
            },
            "text/plain": [
              "HBox(children=(FloatProgress(value=0.0, max=25000.0), HTML(value='')))"
            ]
          },
          "metadata": {
            "tags": []
          }
        },
        {
          "output_type": "stream",
          "text": [
            "\r"
          ],
          "name": "stdout"
        },
        {
          "output_type": "display_data",
          "data": {
            "application/vnd.jupyter.widget-view+json": {
              "model_id": "43e45fd64fb34966b4c45028a502f163",
              "version_major": 2,
              "version_minor": 0
            },
            "text/plain": [
              "HBox(children=(FloatProgress(value=1.0, bar_style='info', max=1.0), HTML(value='')))"
            ]
          },
          "metadata": {
            "tags": []
          }
        },
        {
          "output_type": "stream",
          "text": [
            "\rShuffling and writing examples to /root/tensorflow_datasets/imdb_reviews/plain_text/1.0.0.incomplete2KKRQJ/imdb_reviews-test.tfrecord\n"
          ],
          "name": "stdout"
        },
        {
          "output_type": "display_data",
          "data": {
            "application/vnd.jupyter.widget-view+json": {
              "model_id": "7970cda375c944c59fb0d0fd80ec8cd1",
              "version_major": 2,
              "version_minor": 0
            },
            "text/plain": [
              "HBox(children=(FloatProgress(value=0.0, max=25000.0), HTML(value='')))"
            ]
          },
          "metadata": {
            "tags": []
          }
        },
        {
          "output_type": "stream",
          "text": [
            "\r"
          ],
          "name": "stdout"
        },
        {
          "output_type": "display_data",
          "data": {
            "application/vnd.jupyter.widget-view+json": {
              "model_id": "98f4a97e46c7410eaa8664f7baa47d6f",
              "version_major": 2,
              "version_minor": 0
            },
            "text/plain": [
              "HBox(children=(FloatProgress(value=1.0, bar_style='info', max=1.0), HTML(value='')))"
            ]
          },
          "metadata": {
            "tags": []
          }
        },
        {
          "output_type": "stream",
          "text": [
            "\rShuffling and writing examples to /root/tensorflow_datasets/imdb_reviews/plain_text/1.0.0.incomplete2KKRQJ/imdb_reviews-unsupervised.tfrecord\n"
          ],
          "name": "stdout"
        },
        {
          "output_type": "display_data",
          "data": {
            "application/vnd.jupyter.widget-view+json": {
              "model_id": "8ac2c4d49d224d70880300efe22a85d8",
              "version_major": 2,
              "version_minor": 0
            },
            "text/plain": [
              "HBox(children=(FloatProgress(value=0.0, max=50000.0), HTML(value='')))"
            ]
          },
          "metadata": {
            "tags": []
          }
        },
        {
          "output_type": "stream",
          "text": [
            "WARNING:absl:Dataset is using deprecated text encoder API which will be removed soon. Please use the plain_text version of the dataset and migrate to `tensorflow_text`.\n"
          ],
          "name": "stderr"
        },
        {
          "output_type": "stream",
          "text": [
            "\u001b[1mDataset imdb_reviews downloaded and prepared to /root/tensorflow_datasets/imdb_reviews/plain_text/1.0.0. Subsequent calls will reuse this data.\u001b[0m\n"
          ],
          "name": "stdout"
        }
      ]
    },
    {
      "cell_type": "code",
      "metadata": {
        "colab": {
          "base_uri": "https://localhost:8080/"
        },
        "id": "7YFUwvS-_IE0",
        "outputId": "12efb592-95b8-4ca2-a5f3-46f229e4c5e5"
      },
      "source": [
        "class_names"
      ],
      "execution_count": null,
      "outputs": [
        {
          "output_type": "execute_result",
          "data": {
            "text/plain": [
              "['neg', 'pos']"
            ]
          },
          "metadata": {
            "tags": []
          },
          "execution_count": 6
        }
      ]
    },
    {
      "cell_type": "code",
      "metadata": {
        "id": "6IwI_2bcIeX8"
      },
      "source": [
        "BUFFER_SIZE = 100\n",
        "BATCH_SIZE = 64\n",
        "train_ds = train_ds.shuffle(BUFFER_SIZE).batch(BATCH_SIZE).prefetch(tf.data.experimental.AUTOTUNE)\n",
        "test_ds = test_ds.batch(BATCH_SIZE).prefetch(tf.data.experimental.AUTOTUNE)\n",
        "val_ds = val_ds.batch(BATCH_SIZE).prefetch(tf.data.experimental.AUTOTUNE)"
      ],
      "execution_count": null,
      "outputs": []
    },
    {
      "cell_type": "markdown",
      "metadata": {
        "id": "rU4bt75EWZ9m"
      },
      "source": [
        "### Check data"
      ]
    },
    {
      "cell_type": "code",
      "metadata": {
        "colab": {
          "base_uri": "https://localhost:8080/"
        },
        "id": "JuxDkcvVIoev",
        "outputId": "732f866d-fca9-40ba-886d-4770d3f2c521"
      },
      "source": [
        "for text_batch, label_batch in train_ds.take(1):\n",
        "  for i in range(3):\n",
        "    print(f'Review: {text_batch.numpy()[i]}')\n",
        "    label = label_batch.numpy()[i]\n",
        "    print(f'Label : {label} ({class_names[label]})')"
      ],
      "execution_count": null,
      "outputs": [
        {
          "output_type": "stream",
          "text": [
            "Review: b'It\\'s so fake! The plot seems like a generic adaptation of the average blaxploitation film. The common themes of blaxploitation like racism, oppression and fighting for the integrity of your community are outlined so simplistically/shallowly. And the jokes aren\\'t even funny! Dolemite does these stand up monologue comedy routines that are really painful. All the people around him deliver this canned laughter. Even the soundtrack sounds like it\\'s fakin\\' the funk. For far better comedy in a blaxploitation try \"Coffy\" & \"Friday Foster\" with Pam Grier. For a more realistic blax experience try \"Black Heat\".'\n",
            "Label : 0 (neg)\n",
            "Review: b'\"The Plainsman\" represents the directorial prowess of Cecil B. DeMille at its most inaccurate and un-factual. It sets up parallel plots for no less stellar an entourage than Wild Bill Hickok (Gary Cooper), Buffalo Bill Cody (James Ellison), Calamity Jane (Jean Arthur), George Armstrong Custer and Abraham Lincoln to interact, even though in reality Lincoln was already dead at the time the story takes place. Every once in a while DeMille floats dangerously close toward the truth, but just as easily veers away from it into unabashed spectacle and showmanship. The film is an attempt to buttress Custer\\'s last stand with a heap of fiction that is only loosely based on the lives of people, who were already the product of manufactured stuffs and legends. Truly, this is the world according to DeMille - a zeitgeist in the annals of entertainment, but a pretty campy relic by today\\'s standards.<br /><br />TRANSFER: Considering the vintage of the film, this is a moderately appealing transfer, with often clean whites and extremely solid blacks. There\\'s a considerable amount of film grain in some scenes and an absence of it at other moments. All in all, the image quality is therefore somewhat inconsistent, but it is never all bad or all good \\xc2\\x96 just a bit better than middle of the road. Age related artifacts are kept to a minimum and digital anomalies do not distract. The audio is mono but nicely balanced.<br /><br />EXTRAS: Forget it. It\\'s Universal! BOTTOM LINE: As pseudo-history painted on celluloid, this western is compelling and fun. Just take its characters and story with a grain of salt \\xc2\\x96 in some cases \\xc2\\x96 a whole box seems more appropriate!'\n",
            "Label : 1 (pos)\n",
            "Review: b'The premise is interesting and the cast does the best it can, but the script and the directorial effort are so poor that it is not surprising that this film was buried--which is fitting given the screenplay. As I watched this, I could not decide which was worse, the screenplay, or the directing. The actors are over the top, the art direction looks like a Disney movie, the music is contrived, and the sentiment so sweet that it gives viewers cavities. It\\'s a bad attempt to imitate \"FOur Weddings And A funeral\". If one wants to watch comedy that is as flat as a pancake and how poor direction can turn a story into cavity sweetness, this is a good one to watch.'\n",
            "Label : 0 (neg)\n"
          ],
          "name": "stdout"
        }
      ]
    },
    {
      "cell_type": "markdown",
      "metadata": {
        "id": "PDdtAxDHWh1k"
      },
      "source": [
        "### Seet BERT model to fine-tune"
      ]
    },
    {
      "cell_type": "code",
      "metadata": {
        "id": "y8_ctG55-uTX"
      },
      "source": [
        "\n",
        "\n",
        "bert_model_name = 'small_bert/bert_en_uncased_L-4_H-512_A-8'  #@param [\"bert_en_uncased_L-12_H-768_A-12\", \"bert_en_cased_L-12_H-768_A-12\", \"bert_multi_cased_L-12_H-768_A-12\", \"small_bert/bert_en_uncased_L-2_H-128_A-2\", \"small_bert/bert_en_uncased_L-2_H-256_A-4\", \"small_bert/bert_en_uncased_L-2_H-512_A-8\", \"small_bert/bert_en_uncased_L-2_H-768_A-12\", \"small_bert/bert_en_uncased_L-4_H-128_A-2\", \"small_bert/bert_en_uncased_L-4_H-256_A-4\", \"small_bert/bert_en_uncased_L-4_H-512_A-8\", \"small_bert/bert_en_uncased_L-4_H-768_A-12\", \"small_bert/bert_en_uncased_L-6_H-128_A-2\", \"small_bert/bert_en_uncased_L-6_H-256_A-4\", \"small_bert/bert_en_uncased_L-6_H-512_A-8\", \"small_bert/bert_en_uncased_L-6_H-768_A-12\", \"small_bert/bert_en_uncased_L-8_H-128_A-2\", \"small_bert/bert_en_uncased_L-8_H-256_A-4\", \"small_bert/bert_en_uncased_L-8_H-512_A-8\", \"small_bert/bert_en_uncased_L-8_H-768_A-12\", \"small_bert/bert_en_uncased_L-10_H-128_A-2\", \"small_bert/bert_en_uncased_L-10_H-256_A-4\", \"small_bert/bert_en_uncased_L-10_H-512_A-8\", \"small_bert/bert_en_uncased_L-10_H-768_A-12\", \"small_bert/bert_en_uncased_L-12_H-128_A-2\", \"small_bert/bert_en_uncased_L-12_H-256_A-4\", \"small_bert/bert_en_uncased_L-12_H-512_A-8\", \"small_bert/bert_en_uncased_L-12_H-768_A-12\", \"albert_en_base\", \"electra_small\", \"electra_base\", \"experts_pubmed\", \"experts_wiki_books\", \"talking-heads_base\"]\n",
        "\n",
        "map_name_to_handle = {\n",
        "'small_bert/bert_en_uncased_L-4_H-512_A-8':\n",
        "        'https://tfhub.dev/tensorflow/small_bert/bert_en_uncased_L-4_H-512_A-8/1',\n",
        "}\n",
        "\n",
        "map_model_to_preprocess = {\n",
        "    'small_bert/bert_en_uncased_L-4_H-512_A-8':\n",
        "        'https://tfhub.dev/tensorflow/bert_en_uncased_preprocess/1'\n",
        "}\n",
        "\n",
        "tfhub_handle_encoder = map_name_to_handle[bert_model_name]\n",
        "tfhub_handle_preprocess = map_model_to_preprocess[bert_model_name]\n"
      ],
      "execution_count": null,
      "outputs": []
    },
    {
      "cell_type": "markdown",
      "metadata": {
        "id": "7WrcxxTRDdHi"
      },
      "source": [
        "## The preprocessing model\n",
        "\n",
        "Preprocess: text-to-tensor.\n",
        "\n",
        "** It is not necessary to run pure Python code outside TensorFlow model to preprocess text. \n",
        "\n",
        "Tasks such as stemming, low-frequency words, de-capitalisation are not necessary as they are performed by the preprocessing model.\n",
        "\n",
        "BERT uses the Transformer model. It is an attention mechanism that learns contextual relations between words. BERT uses the Transformer encoder to generate a language model\n"
      ]
    },
    {
      "cell_type": "code",
      "metadata": {
        "id": "0SQi-jWd_jzq"
      },
      "source": [
        "bert_preprocess_model = hub.KerasLayer(tfhub_handle_preprocess)"
      ],
      "execution_count": null,
      "outputs": []
    },
    {
      "cell_type": "code",
      "metadata": {
        "colab": {
          "base_uri": "https://localhost:8080/"
        },
        "id": "r9-zCzJpnuwS",
        "outputId": "b8345aca-8f5e-4634-c4f5-62ddbe682247"
      },
      "source": [
        "text_test = ['this is such an amazing movie!']\n",
        "text_preprocessed = bert_preprocess_model(text_test)\n",
        "\n",
        "print(f'Keys       : {list(text_preprocessed.keys())}')\n",
        "print(f'Shape      : {text_preprocessed[\"input_word_ids\"].shape}')\n",
        "print(f'Word Ids   : {text_preprocessed[\"input_word_ids\"][0, :12]}')\n",
        "print(f'Input Mask : {text_preprocessed[\"input_mask\"][0, :12]}')\n",
        "print(f'Type Ids   : {text_preprocessed[\"input_type_ids\"][0, :12]}')"
      ],
      "execution_count": null,
      "outputs": [
        {
          "output_type": "stream",
          "text": [
            "Keys       : ['input_type_ids', 'input_word_ids', 'input_mask']\n",
            "Shape      : (1, 128)\n",
            "Word Ids   : [ 101 2023 2003 2107 2019 6429 3185  999  102    0    0    0]\n",
            "Input Mask : [1 1 1 1 1 1 1 1 1 0 0 0]\n",
            "Type Ids   : [0 0 0 0 0 0 0 0 0 0 0 0]\n"
          ],
          "name": "stdout"
        }
      ]
    },
    {
      "cell_type": "markdown",
      "metadata": {
        "id": "DKnLPSEmtp9i"
      },
      "source": [
        "## Using the BERT model\n",
        "\n",
        "BERT outputs"
      ]
    },
    {
      "cell_type": "code",
      "metadata": {
        "id": "tXxYpK8ixL34"
      },
      "source": [
        "bert_model = hub.KerasLayer(tfhub_handle_encoder)"
      ],
      "execution_count": null,
      "outputs": []
    },
    {
      "cell_type": "code",
      "metadata": {
        "colab": {
          "base_uri": "https://localhost:8080/"
        },
        "id": "_OoF9mebuSZc",
        "outputId": "4a60e20f-85cc-4ddd-b189-01b3c462c4cf"
      },
      "source": [
        "bert_results = bert_model(text_preprocessed)\n",
        "\n",
        "print(f'Loaded BERT: {tfhub_handle_encoder}')\n",
        "print(f'Pooled Outputs Shape:{bert_results[\"pooled_output\"].shape}')\n",
        "print(f'Pooled Outputs Values:{bert_results[\"pooled_output\"][0, :12]}')\n",
        "print(f'Sequence Outputs Shape:{bert_results[\"sequence_output\"].shape}')\n",
        "print(f'Sequence Outputs Values:{bert_results[\"sequence_output\"][0, :12]}')"
      ],
      "execution_count": null,
      "outputs": [
        {
          "output_type": "stream",
          "text": [
            "Loaded BERT: https://tfhub.dev/tensorflow/small_bert/bert_en_uncased_L-4_H-512_A-8/1\n",
            "Pooled Outputs Shape:(1, 512)\n",
            "Pooled Outputs Values:[ 0.762629    0.9928098  -0.18611878  0.36673835  0.15233654  0.65504444\n",
            "  0.96811545 -0.9486271   0.00216182 -0.9877731   0.0684272  -0.97630596]\n",
            "Sequence Outputs Shape:(1, 128, 512)\n",
            "Sequence Outputs Values:[[-0.2894629   0.34321252  0.33231527 ...  0.21300802  0.7102081\n",
            "  -0.05771121]\n",
            " [-0.28742063  0.31981063 -0.23018605 ...  0.58454984 -0.21329683\n",
            "   0.7269203 ]\n",
            " [-0.66157085  0.68876755 -0.8743295  ...  0.10877217 -0.26173267\n",
            "   0.47855398]\n",
            " ...\n",
            " [-0.22561112 -0.28925633 -0.07064408 ...  0.47566015  0.8327713\n",
            "   0.4002535 ]\n",
            " [-0.29824248 -0.2747314  -0.05450488 ...  0.48849776  1.0955359\n",
            "   0.18163344]\n",
            " [-0.4437826   0.0093073   0.07223728 ...  0.17290126  1.1833246\n",
            "   0.07897978]]\n"
          ],
          "name": "stdout"
        }
      ]
    },
    {
      "cell_type": "markdown",
      "metadata": {
        "id": "sm61jDrezAll"
      },
      "source": [
        "The BERT models return a map with 3 important keys: \n",
        "\n",
        "- `pooled_output` to represent each input sequence as a whole. The shape is `[batch_size, H]`. You can think of this as an embedding for the entire movie review.\n",
        "\n",
        "- `sequence_output` represents each input token in the context. The shape is `[batch_size, seq_length, H]`. You can think of this as a contextual embedding for every token in the movie review.\n",
        "\n",
        "- `encoder_outputs` are the intermediate activations of the `L` Transformer blocks. `outputs[\"encoder_outputs\"][i]` is a Tensor of shape `[batch_size, seq_length, 1024]` with the outputs of the i-th Transformer block, for `0 <= i < L`. The last value of the list is equal to `sequence_output`.\n",
        "\n",
        "For the fine-tuning you are going to use the `pooled_output` array."
      ]
    },
    {
      "cell_type": "markdown",
      "metadata": {
        "id": "pDNKfAXbDnJH"
      },
      "source": [
        "## Fine-tuned Model definition\n"
      ]
    },
    {
      "cell_type": "code",
      "metadata": {
        "id": "aksj743St9ga"
      },
      "source": [
        "def build_classifier_model():\n",
        "  text_input = tf.keras.layers.Input(shape=(), dtype=tf.string, name='text')\n",
        "  preprocessing_layer = hub.KerasLayer(tfhub_handle_preprocess, name='preprocessing')\n",
        "  encoder_inputs = preprocessing_layer(text_input)\n",
        "  encoder = hub.KerasLayer(tfhub_handle_encoder, trainable=True, name='BERT_encoder')\n",
        "  outputs = encoder(encoder_inputs)\n",
        "  net = outputs['pooled_output']\n",
        "  net = tf.keras.layers.Dropout(0.1)(net)\n",
        "  net = tf.keras.layers.Dense(1, activation=None, name='classifier')(net)\n",
        "  return tf.keras.Model(text_input, net)"
      ],
      "execution_count": null,
      "outputs": []
    },
    {
      "cell_type": "markdown",
      "metadata": {
        "id": "Zs4yhFraBuGQ"
      },
      "source": [
        "Test the model\n",
        "\n"
      ]
    },
    {
      "cell_type": "code",
      "metadata": {
        "colab": {
          "base_uri": "https://localhost:8080/"
        },
        "id": "mGMF8AZcB2Zy",
        "outputId": "ef897e00-8408-4b6c-f448-7af8cf0d738a"
      },
      "source": [
        "classifier_model = build_classifier_model()\n",
        "bert_raw_result = classifier_model(tf.constant(text_test))\n",
        "print(tf.sigmoid(bert_raw_result))"
      ],
      "execution_count": null,
      "outputs": [
        {
          "output_type": "stream",
          "text": [
            "tf.Tensor([[0.40485653]], shape=(1, 1), dtype=float32)\n"
          ],
          "name": "stdout"
        }
      ]
    },
    {
      "cell_type": "markdown",
      "metadata": {
        "id": "ZTUzNV2JE2G3"
      },
      "source": [
        "Model structure"
      ]
    },
    {
      "cell_type": "code",
      "metadata": {
        "colab": {
          "base_uri": "https://localhost:8080/",
          "height": 466
        },
        "id": "0EmzyHZXKIpm",
        "outputId": "685b677a-b087-4eb1-ba2c-253f78350891"
      },
      "source": [
        "tf.keras.utils.plot_model(classifier_model)"
      ],
      "execution_count": null,
      "outputs": [
        {
          "output_type": "execute_result",
          "data": {
            "image/png": "[encoded data removed]",
            "text/plain": [
              "<IPython.core.display.Image object>"
            ]
          },
          "metadata": {
            "tags": []
          },
          "execution_count": 16
        }
      ]
    },
    {
      "cell_type": "markdown",
      "metadata": {
        "id": "WbUWoZMwc302"
      },
      "source": [
        "## Model training"
      ]
    },
    {
      "cell_type": "code",
      "metadata": {
        "id": "OWPOZE-L3AgE"
      },
      "source": [
        "# Binary classification\n",
        "loss = tf.keras.losses.BinaryCrossentropy(from_logits=True)\n",
        "metrics = tf.metrics.BinaryAccuracy()"
      ],
      "execution_count": null,
      "outputs": []
    },
    {
      "cell_type": "markdown",
      "metadata": {
        "id": "77psrpfzbxtp"
      },
      "source": [
        "### Optimizer\n",
        "\n",
        "BERT was originally trained with: the \"Adaptive Moments\" (Adam). This optimizer minimizes the prediction loss and does regularization by weight decay (not using moments), which is also known as [AdamW](https://arxiv.org/abs/1711.05101).\n",
        "\n",
        "(`init_lr`) - use the same schedule as BERT pre-training: linear decay of a notional initial learning rate, prefixed with a linear warm-up phase over the first 10% of training steps (`num_warmup_steps`). In line with the BERT paper, the initial learning rate is smaller for fine-tuning (best of 5e-5, 3e-5, 2e-5)."
      ]
    },
    {
      "cell_type": "code",
      "metadata": {
        "id": "P9eP2y9dbw32"
      },
      "source": [
        "epochs = 3\n",
        "steps_per_epoch = tf.data.experimental.cardinality(train_ds).numpy()\n",
        "num_train_steps = steps_per_epoch * epochs\n",
        "num_warmup_steps = int(0.1*num_train_steps)\n",
        "\n",
        "init_lr = 3e-5\n",
        "optimizer = optimization.create_optimizer(init_lr=init_lr,\n",
        "                                          num_train_steps=num_train_steps,\n",
        "                                          num_warmup_steps=num_warmup_steps,\n",
        "                                          optimizer_type='adamw')"
      ],
      "execution_count": null,
      "outputs": []
    },
    {
      "cell_type": "markdown",
      "metadata": {
        "id": "SqlarlpC_v0g"
      },
      "source": [
        "### Loading the BERT model and training"
      ]
    },
    {
      "cell_type": "code",
      "metadata": {
        "id": "-7GPDhR98jsD"
      },
      "source": [
        "classifier_model.compile(optimizer=optimizer,\n",
        "                         loss=loss,\n",
        "                         metrics=metrics)"
      ],
      "execution_count": null,
      "outputs": []
    },
    {
      "cell_type": "code",
      "metadata": {
        "colab": {
          "base_uri": "https://localhost:8080/"
        },
        "id": "HtfDFAnN_Neu",
        "outputId": "83e8fa4a-8f21-40ce-a05e-375436841efd"
      },
      "source": [
        "print(f'Training model with {tfhub_handle_encoder}')\n",
        "history = classifier_model.fit(x=train_ds,\n",
        "                               validation_data=val_ds,\n",
        "                               epochs=3)"
      ],
      "execution_count": null,
      "outputs": [
        {
          "output_type": "stream",
          "text": [
            "Training model with https://tfhub.dev/tensorflow/small_bert/bert_en_uncased_L-4_H-512_A-8/1\n",
            "Epoch 1/3\n",
            "392/392 [==============================] - 208s 531ms/step - loss: 0.4694 - binary_accuracy: 0.7537 - val_loss: 0.3244 - val_binary_accuracy: 0.8639\n",
            "Epoch 2/3\n",
            "392/392 [==============================] - 209s 533ms/step - loss: 0.3251 - binary_accuracy: 0.8520 - val_loss: 0.2457 - val_binary_accuracy: 0.8909\n",
            "Epoch 3/3\n",
            "392/392 [==============================] - 209s 533ms/step - loss: 0.2715 - binary_accuracy: 0.8827 - val_loss: 0.2159 - val_binary_accuracy: 0.9113\n"
          ],
          "name": "stdout"
        }
      ]
    },
    {
      "cell_type": "code",
      "metadata": {
        "id": "zlncBklpfwDo"
      },
      "source": [
        "#pred = classifier_model.predict(test_ds)"
      ],
      "execution_count": null,
      "outputs": []
    },
    {
      "cell_type": "markdown",
      "metadata": {
        "id": "uBthMlTSV8kn"
      },
      "source": [
        "### Evaluate the model\n",
        "\n",
        "Check model performance.\n",
        "Loss - represents error (lower values are better) and accuracy."
      ]
    },
    {
      "cell_type": "code",
      "metadata": {
        "colab": {
          "base_uri": "https://localhost:8080/"
        },
        "id": "slqB-urBV9sP",
        "outputId": "5fa16786-c967-427a-b2a1-287d11b2e15e"
      },
      "source": [
        "loss, accuracy = classifier_model.evaluate(test_ds)\n",
        "\n",
        "print(f'Loss: {loss}')\n",
        "print(f'Accuracy: {accuracy}')"
      ],
      "execution_count": null,
      "outputs": [
        {
          "output_type": "stream",
          "text": [
            "780/780 [==============================] - 127s 163ms/step - loss: 0.2781 - binary_accuracy: 0.8832\n",
            "Loss: 0.2780926525592804\n",
            "Accuracy: 0.8832297921180725\n"
          ],
          "name": "stdout"
        }
      ]
    },
    {
      "cell_type": "code",
      "metadata": {
        "colab": {
          "base_uri": "https://localhost:8080/"
        },
        "id": "iWLGv__mZhwF",
        "outputId": "a7467c46-811c-4bbe-8cd7-d75be9b668dc"
      },
      "source": [
        "loss, accuracy = classifier_model.evaluate(val_ds)\n",
        "\n",
        "print(f'Loss: {loss}')\n",
        "print(f'Accuracy: {accuracy}')"
      ],
      "execution_count": null,
      "outputs": [
        {
          "output_type": "stream",
          "text": [
            "391/391 [==============================] - 65s 166ms/step - loss: 0.2159 - binary_accuracy: 0.9113\n",
            "Loss: 0.2158719003200531\n",
            "Accuracy: 0.9112755060195923\n"
          ],
          "name": "stdout"
        }
      ]
    },
    {
      "cell_type": "markdown",
      "metadata": {
        "id": "uttWpgmSfzq9"
      },
      "source": [
        "### Plot the accuracy and loss over time\n",
        "Using training history, plot accuracy and loss"
      ]
    },
    {
      "cell_type": "code",
      "metadata": {
        "colab": {
          "base_uri": "https://localhost:8080/",
          "height": 438
        },
        "id": "fiythcODf0xo",
        "outputId": "4b4bae77-fa7c-4435-abc0-320607dc2c45"
      },
      "source": [
        "history_dict = history.history\n",
        "print(history_dict.keys())\n",
        "\n",
        "acc = history_dict['binary_accuracy']\n",
        "val_acc = history_dict['val_binary_accuracy']\n",
        "loss = history_dict['loss']\n",
        "val_loss = history_dict['val_loss']\n",
        "\n",
        "epochs = range(1, len(acc) + 1)\n",
        "fig = plt.figure(figsize=(10, 6))\n",
        "fig.tight_layout()\n",
        "\n",
        "plt.subplot(2, 1, 1)\n",
        "# \"bo\" is for \"blue dot\"\n",
        "plt.plot(epochs, loss, 'r', label='Training loss')\n",
        "# b is for \"solid blue line\"\n",
        "plt.plot(epochs, val_loss, 'b', label='Validation loss')\n",
        "plt.title('Training and validation loss')\n",
        "# plt.xlabel('Epochs')\n",
        "plt.ylabel('Loss')\n",
        "plt.legend()\n",
        "\n",
        "plt.subplot(2, 1, 2)\n",
        "plt.plot(epochs, acc, 'r', label='Training acc')\n",
        "plt.plot(epochs, val_acc, 'b', label='Validation acc')\n",
        "plt.title('Training and validation accuracy')\n",
        "plt.xlabel('Epochs')\n",
        "plt.ylabel('Accuracy')\n",
        "plt.legend(loc='lower right')"
      ],
      "execution_count": null,
      "outputs": [
        {
          "output_type": "stream",
          "text": [
            "dict_keys(['loss', 'binary_accuracy', 'val_loss', 'val_binary_accuracy'])\n"
          ],
          "name": "stdout"
        },
        {
          "output_type": "execute_result",
          "data": {
            "text/plain": [
              "<matplotlib.legend.Legend at 0x7f8931a3bd68>"
            ]
          },
          "metadata": {
            "tags": []
          },
          "execution_count": 23
        },
        {
          "output_type": "display_data",
          "data": {
            "image/png": "[encoded data removed]",
            "text/plain": [
              "<Figure size 720x432 with 2 Axes>"
            ]
          },
          "metadata": {
            "tags": [],
            "needs_background": "light"
          }
        }
      ]
    },
    {
      "cell_type": "markdown",
      "metadata": {
        "id": "Rtn7jewb6dg4"
      },
      "source": [
        "## Export for inference\n",
        "\n",
        "Save fine-tuned model for later use."
      ]
    },
    {
      "cell_type": "code",
      "metadata": {
        "id": "ShcvqJAgVera"
      },
      "source": [
        "dataset_name = 'imdb'\n",
        "saved_model_path = './{}_bert'.format(dataset_name.replace('/', '_'))\n",
        "\n",
        "classifier_model.save(saved_model_path, include_optimizer=False)"
      ],
      "execution_count": null,
      "outputs": []
    },
    {
      "cell_type": "markdown",
      "metadata": {
        "id": "PbI25bS1vD7s"
      },
      "source": [
        "Let's reload the model so you can try it side by side with the model that is still in memory."
      ]
    },
    {
      "cell_type": "code",
      "metadata": {
        "id": "gUEWVskZjEF0"
      },
      "source": [
        "reloaded_model = tf.saved_model.load(saved_model_path)"
      ],
      "execution_count": null,
      "outputs": []
    },
    {
      "cell_type": "markdown",
      "metadata": {
        "id": "oyTappHTvNCz"
      },
      "source": [
        "Test the model on any sentence.\n",
        "Test values can be added to the examples array"
      ]
    },
    {
      "cell_type": "code",
      "metadata": {
        "colab": {
          "base_uri": "https://localhost:8080/"
        },
        "id": "VBWzH6exlCPS",
        "outputId": "a96a5128-c5fc-4a29-918f-73827c3fef0f"
      },
      "source": [
        "def print_my_examples(inputs, results):\n",
        "    result_for_printing = \\\n",
        "    [f'input: {inputs[i]:<30} : score: {results[i][0]:.6f}'\n",
        "                         for i in range(len(inputs))]\n",
        "    print(*result_for_printing, sep='\\n')\n",
        "    print()\n",
        "\n",
        "\n",
        "examples = [\n",
        "    'this is such an amazing movie!',  # this is the same sentence tried earlier\n",
        "    'The movie was great!',\n",
        "    'The movie was meh.',\n",
        "    'The movie was okish.',\n",
        "    'The movie was terrible...'\n",
        "]\n",
        "\n",
        "reloaded_results = tf.sigmoid(reloaded_model(tf.constant(examples)))\n",
        "original_results = tf.sigmoid(classifier_model(tf.constant(examples)))\n",
        "\n",
        "print('Results from the saved model:')\n",
        "print_my_examples(examples, reloaded_results)\n",
        "print('Results from the model in memory:')\n",
        "print_my_examples(examples, original_results)"
      ],
      "execution_count": null,
      "outputs": [
        {
          "output_type": "stream",
          "text": [
            "Results from the saved model:\n",
            "input: this is such an amazing movie! : score: 0.997063\n",
            "input: The movie was great!           : score: 0.986260\n",
            "input: The movie was meh.             : score: 0.817468\n",
            "input: The movie was okish.           : score: 0.075114\n",
            "input: The movie was terrible...      : score: 0.010001\n",
            "\n",
            "Results from the model in memory:\n",
            "input: this is such an amazing movie! : score: 0.997063\n",
            "input: The movie was great!           : score: 0.986260\n",
            "input: The movie was meh.             : score: 0.817468\n",
            "input: The movie was okish.           : score: 0.075114\n",
            "input: The movie was terrible...      : score: 0.010001\n",
            "\n"
          ],
          "name": "stdout"
        }
      ]
    },
    {
      "cell_type": "code",
      "metadata": {
        "colab": {
          "base_uri": "https://localhost:8080/"
        },
        "id": "0FdVD3973S-O",
        "outputId": "23735ac2-dace-4425-82e3-2d45e85262a6"
      },
      "source": [
        "serving_results = reloaded_model.signatures['serving_default'](tf.constant(examples))\n",
        "\n",
        "serving_results = tf.sigmoid(serving_results['classifier'])\n",
        "\n",
        "print_my_examples(examples, serving_results)"
      ],
      "execution_count": null,
      "outputs": [
        {
          "output_type": "stream",
          "text": [
            "input: this is such an amazing movie! : score: 0.997063\n",
            "input: The movie was great!           : score: 0.986260\n",
            "input: The movie was meh.             : score: 0.817468\n",
            "input: The movie was okish.           : score: 0.075114\n",
            "input: The movie was terrible...      : score: 0.010001\n",
            "\n"
          ],
          "name": "stdout"
        }
      ]
    },
    {
      "cell_type": "code",
      "metadata": {
        "colab": {
          "base_uri": "https://localhost:8080/",
          "height": 571
        },
        "id": "2isJIgaAvDQo",
        "outputId": "78275c82-9d60-49fe-a576-64577f9cb19f"
      },
      "source": [
        "import matplotlib.pyplot as plt \n",
        "\n",
        "classifier_history = history.history\n",
        "\n",
        "plt.figure(figsize=(16,8))\n",
        "plt.plot(classifier_history['loss'])\n",
        "plt.plot(classifier_history['val_loss'])\n",
        "plt.plot(classifier_history['binary_accuracy'])\n",
        "plt.plot(classifier_history['val_binary_accuracy'])\n",
        "plt.suptitle('BERT Sentiment Classifier Training Performance', fontsize=20)\n",
        "plt.xlabel(\"Epochs\")\n",
        "plt.ylabel('Value')\n",
        "plt.legend(['Training loss', 'Validation loss', 'Training accuracy', 'Validation accuracy', ])"
      ],
      "execution_count": null,
      "outputs": [
        {
          "output_type": "execute_result",
          "data": {
            "text/plain": [
              "<matplotlib.legend.Legend at 0x7f892cfec5f8>"
            ]
          },
          "metadata": {
            "tags": []
          },
          "execution_count": 28
        },
        {
          "output_type": "display_data",
          "data": {
            "image/png": "[encoded data removed]",
            "text/plain": [
              "<Figure size 1152x576 with 1 Axes>"
            ]
          },
          "metadata": {
            "tags": [],
            "needs_background": "light"
          }
        }
      ]
    },
    {
      "cell_type": "code",
      "metadata": {
        "colab": {
          "base_uri": "https://localhost:8080/",
          "height": 358
        },
        "id": "0QCJljeN0seb",
        "outputId": "c295d73e-f525-4b45-e86d-f676ce9cbe99"
      },
      "source": [
        "import numpy as np\n",
        "np.random.seed(42)\n",
        "\n",
        "from sklearn.manifold import TSNE\n",
        "\n",
        "X_valid_compressed = classifier_model.predict(val_ds)\n",
        "tsne = TSNE()\n",
        "X_valid_2D = tsne.fit_transform(X_valid_compressed)\n",
        "X_valid_2D = (X_valid_2D - X_valid_2D.min()) / (X_valid_2D.max() - X_valid_2D.min())"
      ],
      "execution_count": null,
      "outputs": [
        {
          "output_type": "error",
          "ename": "KeyboardInterrupt",
          "evalue": "ignored",
          "traceback": [
            "\u001b[0;31m---------------------------------------------------------------------------\u001b[0m",
            "\u001b[0;31mKeyboardInterrupt\u001b[0m                         Traceback (most recent call last)",
            "\u001b[0;32m<ipython-input-29-8d4cceb74754>\u001b[0m in \u001b[0;36m<module>\u001b[0;34m()\u001b[0m\n\u001b[1;32m      6\u001b[0m \u001b[0mX_valid_compressed\u001b[0m \u001b[0;34m=\u001b[0m \u001b[0mclassifier_model\u001b[0m\u001b[0;34m.\u001b[0m\u001b[0mpredict\u001b[0m\u001b[0;34m(\u001b[0m\u001b[0mval_ds\u001b[0m\u001b[0;34m)\u001b[0m\u001b[0;34m\u001b[0m\u001b[0;34m\u001b[0m\u001b[0m\n\u001b[1;32m      7\u001b[0m \u001b[0mtsne\u001b[0m \u001b[0;34m=\u001b[0m \u001b[0mTSNE\u001b[0m\u001b[0;34m(\u001b[0m\u001b[0;34m)\u001b[0m\u001b[0;34m\u001b[0m\u001b[0;34m\u001b[0m\u001b[0m\n\u001b[0;32m----> 8\u001b[0;31m \u001b[0mX_valid_2D\u001b[0m \u001b[0;34m=\u001b[0m \u001b[0mtsne\u001b[0m\u001b[0;34m.\u001b[0m\u001b[0mfit_transform\u001b[0m\u001b[0;34m(\u001b[0m\u001b[0mX_valid_compressed\u001b[0m\u001b[0;34m)\u001b[0m\u001b[0;34m\u001b[0m\u001b[0;34m\u001b[0m\u001b[0m\n\u001b[0m\u001b[1;32m      9\u001b[0m \u001b[0mX_valid_2D\u001b[0m \u001b[0;34m=\u001b[0m \u001b[0;34m(\u001b[0m\u001b[0mX_valid_2D\u001b[0m \u001b[0;34m-\u001b[0m \u001b[0mX_valid_2D\u001b[0m\u001b[0;34m.\u001b[0m\u001b[0mmin\u001b[0m\u001b[0;34m(\u001b[0m\u001b[0;34m)\u001b[0m\u001b[0;34m)\u001b[0m \u001b[0;34m/\u001b[0m \u001b[0;34m(\u001b[0m\u001b[0mX_valid_2D\u001b[0m\u001b[0;34m.\u001b[0m\u001b[0mmax\u001b[0m\u001b[0;34m(\u001b[0m\u001b[0;34m)\u001b[0m \u001b[0;34m-\u001b[0m \u001b[0mX_valid_2D\u001b[0m\u001b[0;34m.\u001b[0m\u001b[0mmin\u001b[0m\u001b[0;34m(\u001b[0m\u001b[0;34m)\u001b[0m\u001b[0;34m)\u001b[0m\u001b[0;34m\u001b[0m\u001b[0;34m\u001b[0m\u001b[0m\n",
            "\u001b[0;32m/usr/local/lib/python3.6/dist-packages/sklearn/manifold/_t_sne.py\u001b[0m in \u001b[0;36mfit_transform\u001b[0;34m(self, X, y)\u001b[0m\n\u001b[1;32m    884\u001b[0m             \u001b[0mEmbedding\u001b[0m \u001b[0mof\u001b[0m \u001b[0mthe\u001b[0m \u001b[0mtraining\u001b[0m \u001b[0mdata\u001b[0m \u001b[0;32min\u001b[0m \u001b[0mlow\u001b[0m\u001b[0;34m-\u001b[0m\u001b[0mdimensional\u001b[0m \u001b[0mspace\u001b[0m\u001b[0;34m.\u001b[0m\u001b[0;34m\u001b[0m\u001b[0;34m\u001b[0m\u001b[0m\n\u001b[1;32m    885\u001b[0m         \"\"\"\n\u001b[0;32m--> 886\u001b[0;31m         \u001b[0membedding\u001b[0m \u001b[0;34m=\u001b[0m \u001b[0mself\u001b[0m\u001b[0;34m.\u001b[0m\u001b[0m_fit\u001b[0m\u001b[0;34m(\u001b[0m\u001b[0mX\u001b[0m\u001b[0;34m)\u001b[0m\u001b[0;34m\u001b[0m\u001b[0;34m\u001b[0m\u001b[0m\n\u001b[0m\u001b[1;32m    887\u001b[0m         \u001b[0mself\u001b[0m\u001b[0;34m.\u001b[0m\u001b[0membedding_\u001b[0m \u001b[0;34m=\u001b[0m \u001b[0membedding\u001b[0m\u001b[0;34m\u001b[0m\u001b[0;34m\u001b[0m\u001b[0m\n\u001b[1;32m    888\u001b[0m         \u001b[0;32mreturn\u001b[0m \u001b[0mself\u001b[0m\u001b[0;34m.\u001b[0m\u001b[0membedding_\u001b[0m\u001b[0;34m\u001b[0m\u001b[0;34m\u001b[0m\u001b[0m\n",
            "\u001b[0;32m/usr/local/lib/python3.6/dist-packages/sklearn/manifold/_t_sne.py\u001b[0m in \u001b[0;36m_fit\u001b[0;34m(self, X, skip_num_points)\u001b[0m\n\u001b[1;32m    796\u001b[0m                           \u001b[0mX_embedded\u001b[0m\u001b[0;34m=\u001b[0m\u001b[0mX_embedded\u001b[0m\u001b[0;34m,\u001b[0m\u001b[0;34m\u001b[0m\u001b[0;34m\u001b[0m\u001b[0m\n\u001b[1;32m    797\u001b[0m                           \u001b[0mneighbors\u001b[0m\u001b[0;34m=\u001b[0m\u001b[0mneighbors_nn\u001b[0m\u001b[0;34m,\u001b[0m\u001b[0;34m\u001b[0m\u001b[0;34m\u001b[0m\u001b[0m\n\u001b[0;32m--> 798\u001b[0;31m                           skip_num_points=skip_num_points)\n\u001b[0m\u001b[1;32m    799\u001b[0m \u001b[0;34m\u001b[0m\u001b[0m\n\u001b[1;32m    800\u001b[0m     def _tsne(self, P, degrees_of_freedom, n_samples, X_embedded,\n",
            "\u001b[0;32m/usr/local/lib/python3.6/dist-packages/sklearn/manifold/_t_sne.py\u001b[0m in \u001b[0;36m_tsne\u001b[0;34m(self, P, degrees_of_freedom, n_samples, X_embedded, neighbors, skip_num_points)\u001b[0m\n\u001b[1;32m    835\u001b[0m         \u001b[0mP\u001b[0m \u001b[0;34m*=\u001b[0m \u001b[0mself\u001b[0m\u001b[0;34m.\u001b[0m\u001b[0mearly_exaggeration\u001b[0m\u001b[0;34m\u001b[0m\u001b[0;34m\u001b[0m\u001b[0m\n\u001b[1;32m    836\u001b[0m         params, kl_divergence, it = _gradient_descent(obj_func, params,\n\u001b[0;32m--> 837\u001b[0;31m                                                       **opt_args)\n\u001b[0m\u001b[1;32m    838\u001b[0m         \u001b[0;32mif\u001b[0m \u001b[0mself\u001b[0m\u001b[0;34m.\u001b[0m\u001b[0mverbose\u001b[0m\u001b[0;34m:\u001b[0m\u001b[0;34m\u001b[0m\u001b[0;34m\u001b[0m\u001b[0m\n\u001b[1;32m    839\u001b[0m             print(\"[t-SNE] KL divergence after %d iterations with early \"\n",
            "\u001b[0;32m/usr/local/lib/python3.6/dist-packages/sklearn/manifold/_t_sne.py\u001b[0m in \u001b[0;36m_gradient_descent\u001b[0;34m(objective, p0, it, n_iter, n_iter_check, n_iter_without_progress, momentum, learning_rate, min_gain, min_grad_norm, verbose, args, kwargs)\u001b[0m\n\u001b[1;32m    356\u001b[0m         \u001b[0mkwargs\u001b[0m\u001b[0;34m[\u001b[0m\u001b[0;34m'compute_error'\u001b[0m\u001b[0;34m]\u001b[0m \u001b[0;34m=\u001b[0m \u001b[0mcheck_convergence\u001b[0m \u001b[0;32mor\u001b[0m \u001b[0mi\u001b[0m \u001b[0;34m==\u001b[0m \u001b[0mn_iter\u001b[0m \u001b[0;34m-\u001b[0m \u001b[0;36m1\u001b[0m\u001b[0;34m\u001b[0m\u001b[0;34m\u001b[0m\u001b[0m\n\u001b[1;32m    357\u001b[0m \u001b[0;34m\u001b[0m\u001b[0m\n\u001b[0;32m--> 358\u001b[0;31m         \u001b[0merror\u001b[0m\u001b[0;34m,\u001b[0m \u001b[0mgrad\u001b[0m \u001b[0;34m=\u001b[0m \u001b[0mobjective\u001b[0m\u001b[0;34m(\u001b[0m\u001b[0mp\u001b[0m\u001b[0;34m,\u001b[0m \u001b[0;34m*\u001b[0m\u001b[0margs\u001b[0m\u001b[0;34m,\u001b[0m \u001b[0;34m**\u001b[0m\u001b[0mkwargs\u001b[0m\u001b[0;34m)\u001b[0m\u001b[0;34m\u001b[0m\u001b[0;34m\u001b[0m\u001b[0m\n\u001b[0m\u001b[1;32m    359\u001b[0m         \u001b[0mgrad_norm\u001b[0m \u001b[0;34m=\u001b[0m \u001b[0mlinalg\u001b[0m\u001b[0;34m.\u001b[0m\u001b[0mnorm\u001b[0m\u001b[0;34m(\u001b[0m\u001b[0mgrad\u001b[0m\u001b[0;34m)\u001b[0m\u001b[0;34m\u001b[0m\u001b[0;34m\u001b[0m\u001b[0m\n\u001b[1;32m    360\u001b[0m \u001b[0;34m\u001b[0m\u001b[0m\n",
            "\u001b[0;32m/usr/local/lib/python3.6/dist-packages/sklearn/manifold/_t_sne.py\u001b[0m in \u001b[0;36m_kl_divergence_bh\u001b[0;34m(params, P, degrees_of_freedom, n_samples, n_components, angle, skip_num_points, verbose, compute_error, num_threads)\u001b[0m\n\u001b[1;32m    260\u001b[0m                                       \u001b[0mdof\u001b[0m\u001b[0;34m=\u001b[0m\u001b[0mdegrees_of_freedom\u001b[0m\u001b[0;34m,\u001b[0m\u001b[0;34m\u001b[0m\u001b[0;34m\u001b[0m\u001b[0m\n\u001b[1;32m    261\u001b[0m                                       \u001b[0mcompute_error\u001b[0m\u001b[0;34m=\u001b[0m\u001b[0mcompute_error\u001b[0m\u001b[0;34m,\u001b[0m\u001b[0;34m\u001b[0m\u001b[0;34m\u001b[0m\u001b[0m\n\u001b[0;32m--> 262\u001b[0;31m                                       num_threads=num_threads)\n\u001b[0m\u001b[1;32m    263\u001b[0m     \u001b[0mc\u001b[0m \u001b[0;34m=\u001b[0m \u001b[0;36m2.0\u001b[0m \u001b[0;34m*\u001b[0m \u001b[0;34m(\u001b[0m\u001b[0mdegrees_of_freedom\u001b[0m \u001b[0;34m+\u001b[0m \u001b[0;36m1.0\u001b[0m\u001b[0;34m)\u001b[0m \u001b[0;34m/\u001b[0m \u001b[0mdegrees_of_freedom\u001b[0m\u001b[0;34m\u001b[0m\u001b[0;34m\u001b[0m\u001b[0m\n\u001b[1;32m    264\u001b[0m     \u001b[0mgrad\u001b[0m \u001b[0;34m=\u001b[0m \u001b[0mgrad\u001b[0m\u001b[0;34m.\u001b[0m\u001b[0mravel\u001b[0m\u001b[0;34m(\u001b[0m\u001b[0;34m)\u001b[0m\u001b[0;34m\u001b[0m\u001b[0;34m\u001b[0m\u001b[0m\n",
            "\u001b[0;31mKeyboardInterrupt\u001b[0m: "
          ]
        }
      ]
    },
    {
      "cell_type": "code",
      "metadata": {
        "id": "mEUtdWpwS85Q"
      },
      "source": [
        "X_valid_2D"
      ],
      "execution_count": null,
      "outputs": []
    },
    {
      "cell_type": "code",
      "metadata": {
        "id": "UXJDr-DycHOR"
      },
      "source": [
        "from sklearn.metrics import classification_report, confusion_matrix, accuracy_score, roc_curve, auc\n",
        "\n",
        "def ConfusionMatrixReport(y_test, y_pred):\n",
        "    #print(classification_report(y_test, y_pred, target_names=['Default Payment No', 'Default Payment Yes']))\n",
        "\n",
        "    conf_matrix = confusion_matrix(y_test,y_pred)\n",
        "\n",
        "    sns.heatmap(conf_matrix,annot=True, cmap=\"Reds\", fmt=\"n\")\n",
        "    plt.ylabel('True')\n",
        "    plt.xlabel('Predicted')\n",
        "    plt.title(\"Confusion Matrix - Decision Tree\");"
      ],
      "execution_count": null,
      "outputs": []
    },
    {
      "cell_type": "code",
      "metadata": {
        "id": "hQE7gzArjE8J"
      },
      "source": [
        ""
      ],
      "execution_count": null,
      "outputs": []
    },
    {
      "cell_type": "code",
      "metadata": {
        "id": "63T1qZm4cJbN"
      },
      "source": [
        "pred = classifier_model.predict(val_ds)"
      ],
      "execution_count": null,
      "outputs": []
    },
    {
      "cell_type": "code",
      "metadata": {
        "id": "DdynVrCTkN_J"
      },
      "source": [
        "pred"
      ],
      "execution_count": null,
      "outputs": []
    },
    {
      "cell_type": "code",
      "metadata": {
        "id": "eS0vK23beJCe"
      },
      "source": [
        "x_val = np.array([list(x[0].numpy()) for x in list(val_ds)])\n",
        "y_val = np.array([x[1].numpy() for x in list(val_ds)])\n",
        "#y_pred = numpy.array(pred)\n"
      ],
      "execution_count": null,
      "outputs": []
    },
    {
      "cell_type": "code",
      "metadata": {
        "id": "T19O7TIzie9t"
      },
      "source": [
        "x_validate = x_val.take(1)\n",
        "y_validate = y_val.take(1)\n",
        "y_pred = tf.sigmoid(reloaded_model(tf.constant(x_validate)))"
      ],
      "execution_count": null,
      "outputs": []
    },
    {
      "cell_type": "code",
      "metadata": {
        "id": "ekKehrXRl91q"
      },
      "source": [
        "import numpy \n",
        "\n",
        "y_pred = np.array([x[1].numpy() for x in list(val_ds)])\n",
        "\n",
        "x = numpy.array(x_validate)\n",
        "y = numpy.array(y_validate)\n",
        "y_pred = numpy.array(y_pred.take(1))\n"
      ],
      "execution_count": null,
      "outputs": []
    },
    {
      "cell_type": "code",
      "metadata": {
        "id": "UKAEGJ7bmyT2"
      },
      "source": [
        "\n"
      ],
      "execution_count": null,
      "outputs": []
    }
  ]
}