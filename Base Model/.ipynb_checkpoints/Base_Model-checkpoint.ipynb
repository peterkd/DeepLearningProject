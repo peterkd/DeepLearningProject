{
 "cells": [
  {
   "cell_type": "markdown",
   "metadata": {},
   "source": [
    "# Import Necessary packages"
   ]
  },
  {
   "cell_type": "code",
   "execution_count": 1,
   "metadata": {},
   "outputs": [],
   "source": [
    "#pip install -q tensorflow_datasets"
   ]
  },
  {
   "cell_type": "code",
   "execution_count": 1,
   "metadata": {},
   "outputs": [
    {
     "name": "stderr",
     "output_type": "stream",
     "text": [
      "Using TensorFlow backend.\n"
     ]
    },
    {
     "name": "stdout",
     "output_type": "stream",
     "text": [
      "2.4.0\n"
     ]
    }
   ],
   "source": [
    "import keras\n",
    "keras.__version__ \n",
    "import tensorflow as tf \n",
    "from keras import models\n",
    "import h5py\n",
    "from keras import layers\n",
    "from keras import optimizers\n",
    "from keras import losses\n",
    "from keras import metrics\n",
    "import matplotlib.pyplot as plt \n",
    "from tensorflow import keras   \n",
    "import numpy as np\n",
    "import tensorflow.keras.backend as K\n",
    "print(tf.keras.__version__)\n",
    "import os, os.path, shutil\n",
    "import time\n",
    "from keras.models import Sequential, Model\n",
    "from keras.layers import Flatten, Dense, Dropout \n",
    "from keras import optimizers\n",
    "from tensorflow.keras.callbacks import EarlyStopping, ModelCheckpoint, CSVLogger\n",
    "from os import path\n",
    "import pandas as pd \n",
    "import tensorflow_datasets as tfds\n",
    "tfds.disable_progress_bar()"
   ]
  },
  {
   "cell_type": "code",
   "execution_count": 2,
   "metadata": {},
   "outputs": [],
   "source": [
    "import matplotlib.pyplot as plt\n",
    "\n",
    "def plot_graphs(history, metric):\n",
    "  plt.plot(history[metric])\n",
    "  plt.plot(history['val_'+metric], '')\n",
    "  plt.xlabel(\"Epochs\")\n",
    "  plt.ylabel(metric)\n",
    "  plt.legend([metric, 'val_'+metric])"
   ]
  },
  {
   "cell_type": "markdown",
   "metadata": {},
   "source": [
    "# Input Pipeline"
   ]
  },
  {
   "cell_type": "code",
   "execution_count": 3,
   "metadata": {},
   "outputs": [
    {
     "name": "stdout",
     "output_type": "stream",
     "text": [
      "\u001b[1mDownloading and preparing dataset imdb_reviews/plain_text/1.0.0 (download: 80.23 MiB, generated: Unknown size, total: 80.23 MiB) to /Users/peter/tensorflow_datasets/imdb_reviews/plain_text/1.0.0...\u001b[0m\n",
      "Shuffling and writing examples to /Users/peter/tensorflow_datasets/imdb_reviews/plain_text/1.0.0.incomplete6R0WTM/imdb_reviews-train.tfrecord\n",
      "Shuffling and writing examples to /Users/peter/tensorflow_datasets/imdb_reviews/plain_text/1.0.0.incomplete6R0WTM/imdb_reviews-test.tfrecord\n",
      "Shuffling and writing examples to /Users/peter/tensorflow_datasets/imdb_reviews/plain_text/1.0.0.incomplete6R0WTM/imdb_reviews-unsupervised.tfrecord\n",
      "\u001b[1mDataset imdb_reviews downloaded and prepared to /Users/peter/tensorflow_datasets/imdb_reviews/plain_text/1.0.0. Subsequent calls will reuse this data.\u001b[0m\n"
     ]
    },
    {
     "data": {
      "text/plain": [
       "(TensorSpec(shape=(), dtype=tf.string, name=None),\n",
       " TensorSpec(shape=(), dtype=tf.int64, name=None))"
      ]
     },
     "execution_count": 3,
     "metadata": {},
     "output_type": "execute_result"
    }
   ],
   "source": [
    "#Download the IMDB dataset using TFDS. \n",
    "dataset, info = tfds.load('imdb_reviews', with_info=True,\n",
    "                          as_supervised=True)\n",
    "train_dataset, test_dataset = dataset['train'], dataset['test']\n",
    "\n",
    "train_dataset.element_spec"
   ]
  },
  {
   "cell_type": "markdown",
   "metadata": {},
   "source": [
    "Next shuffle the data for training and create batches of these (text, label) pairs:"
   ]
  },
  {
   "cell_type": "code",
   "execution_count": 4,
   "metadata": {},
   "outputs": [],
   "source": [
    "BUFFER_SIZE = 10000\n",
    "BATCH_SIZE = 64\n",
    "train_dataset = train_dataset.shuffle(BUFFER_SIZE).batch(BATCH_SIZE).prefetch(tf.data.experimental.AUTOTUNE)\n",
    "test_dataset = test_dataset.batch(BATCH_SIZE).prefetch(tf.data.experimental.AUTOTUNE)\n",
    "# for example, label in train_dataset.take(1):\n",
    "#   print('texts: ', example.numpy()[:3])\n",
    "#   print()\n",
    "#   print('labels: ', label.numpy()[:3])"
   ]
  },
  {
   "cell_type": "markdown",
   "metadata": {},
   "source": [
    "# Create the text encoder"
   ]
  },
  {
   "cell_type": "code",
   "execution_count": 5,
   "metadata": {},
   "outputs": [],
   "source": [
    "#Create the layer, and pass the dataset's text to the layer's .adapt method:\n",
    "VOCAB_SIZE=1000\n",
    "encoder = tf.keras.layers.experimental.preprocessing.TextVectorization(\n",
    "    max_tokens=VOCAB_SIZE)\n",
    "encoder.adapt(train_dataset.map(lambda text, label: text))"
   ]
  },
  {
   "cell_type": "markdown",
   "metadata": {},
   "source": [
    "# Stack two or more LSTM layers"
   ]
  },
  {
   "cell_type": "code",
   "execution_count": 7,
   "metadata": {},
   "outputs": [],
   "source": [
    "# Create the sequential base mdoel.\n",
    "BaseModel = tf.keras.Sequential([\n",
    "    encoder,\n",
    "    tf.keras.layers.Embedding(len(encoder.get_vocabulary()), 64, mask_zero=True),\n",
    "    tf.keras.layers.Bidirectional(tf.keras.layers.LSTM(64,  return_sequences=True)),\n",
    "    tf.keras.layers.Bidirectional(tf.keras.layers.LSTM(32)),\n",
    "    tf.keras.layers.Dense(64, activation='relu'),\n",
    "    tf.keras.layers.Dropout(0.5),\n",
    "    tf.keras.layers.Dense(1)\n",
    "])\n",
    "\n",
    "if os.path.exists(\"best_base_model.tf\"):\n",
    "    BaseModel.load_weights(\"best_base_model.tf\") \n",
    "    \n",
    "# Compile the base model\n",
    "BaseModel.compile(loss=tf.keras.losses.BinaryCrossentropy(from_logits=True),\n",
    "              optimizer=tf.keras.optimizers.Adam(1e-4),\n",
    "              metrics=['accuracy'])\n",
    "\n",
    "# save best parameter estimate using val loss.\n",
    "checkpointer = ModelCheckpoint(\"best_base_model.tf\", monitor=\"val_loss\", mode=\"auto\", save_best_only = True, verbose=1)\n",
    "# early stopping.\n",
    "earlystoper = EarlyStopping(monitor = 'val_loss', patience = 2, verbose = 1) # patience is num. epochs wo improvement.\n",
    "\n",
    "# save the training history.\n",
    "csv_logger = CSVLogger('trainingBaseModel.log', separator=',', append=False) \n",
    "# compile the callbacks together\n",
    "callbackser = [earlystoper, checkpointer, csv_logger]\n",
    "\n",
    "#BaseModel.summary()"
   ]
  },
  {
   "cell_type": "markdown",
   "metadata": {},
   "source": [
    "# Train the model"
   ]
  },
  {
   "cell_type": "code",
   "execution_count": 8,
   "metadata": {},
   "outputs": [
    {
     "name": "stdout",
     "output_type": "stream",
     "text": [
      "Epoch 1/50\n",
      "391/391 [==============================] - ETA: 0s - loss: 0.6415 - accuracy: 0.5619\n",
      "Epoch 00001: val_loss improved from inf to 0.43801, saving model to best_base_model.tf\n",
      "WARNING:tensorflow:From /Users/Liam/opt/anaconda3/lib/python3.8/site-packages/tensorflow/python/training/tracking/tracking.py:111: Model.state_updates (from tensorflow.python.keras.engine.training) is deprecated and will be removed in a future version.\n",
      "Instructions for updating:\n",
      "This property should not be used in TensorFlow 2.0, as updates are applied automatically.\n"
     ]
    },
    {
     "name": "stderr",
     "output_type": "stream",
     "text": [
      "WARNING:tensorflow:From /Users/Liam/opt/anaconda3/lib/python3.8/site-packages/tensorflow/python/training/tracking/tracking.py:111: Model.state_updates (from tensorflow.python.keras.engine.training) is deprecated and will be removed in a future version.\n",
      "Instructions for updating:\n",
      "This property should not be used in TensorFlow 2.0, as updates are applied automatically.\n"
     ]
    },
    {
     "name": "stdout",
     "output_type": "stream",
     "text": [
      "WARNING:tensorflow:From /Users/Liam/opt/anaconda3/lib/python3.8/site-packages/tensorflow/python/training/tracking/tracking.py:111: Layer.updates (from tensorflow.python.keras.engine.base_layer) is deprecated and will be removed in a future version.\n",
      "Instructions for updating:\n",
      "This property should not be used in TensorFlow 2.0, as updates are applied automatically.\n"
     ]
    },
    {
     "name": "stderr",
     "output_type": "stream",
     "text": [
      "WARNING:tensorflow:From /Users/Liam/opt/anaconda3/lib/python3.8/site-packages/tensorflow/python/training/tracking/tracking.py:111: Layer.updates (from tensorflow.python.keras.engine.base_layer) is deprecated and will be removed in a future version.\n",
      "Instructions for updating:\n",
      "This property should not be used in TensorFlow 2.0, as updates are applied automatically.\n"
     ]
    },
    {
     "name": "stdout",
     "output_type": "stream",
     "text": [
      "INFO:tensorflow:Assets written to: best_base_model.tf/assets\n"
     ]
    },
    {
     "name": "stderr",
     "output_type": "stream",
     "text": [
      "INFO:tensorflow:Assets written to: best_base_model.tf/assets\n"
     ]
    },
    {
     "name": "stdout",
     "output_type": "stream",
     "text": [
      "391/391 [==============================] - 1023s 3s/step - loss: 0.6415 - accuracy: 0.5619 - val_loss: 0.4380 - val_accuracy: 0.8115\n",
      "Epoch 2/50\n",
      "391/391 [==============================] - ETA: 0s - loss: 0.3799 - accuracy: 0.8331\n",
      "Epoch 00002: val_loss improved from 0.43801 to 0.35401, saving model to best_base_model.tf\n",
      "INFO:tensorflow:Assets written to: best_base_model.tf/assets\n"
     ]
    },
    {
     "name": "stderr",
     "output_type": "stream",
     "text": [
      "INFO:tensorflow:Assets written to: best_base_model.tf/assets\n"
     ]
    },
    {
     "name": "stdout",
     "output_type": "stream",
     "text": [
      "391/391 [==============================] - 881s 2s/step - loss: 0.3799 - accuracy: 0.8331 - val_loss: 0.3540 - val_accuracy: 0.8495\n",
      "Epoch 3/50\n",
      "391/391 [==============================] - ETA: 0s - loss: 0.3339 - accuracy: 0.8559\n",
      "Epoch 00003: val_loss improved from 0.35401 to 0.34930, saving model to best_base_model.tf\n",
      "INFO:tensorflow:Assets written to: best_base_model.tf/assets\n"
     ]
    },
    {
     "name": "stderr",
     "output_type": "stream",
     "text": [
      "INFO:tensorflow:Assets written to: best_base_model.tf/assets\n"
     ]
    },
    {
     "name": "stdout",
     "output_type": "stream",
     "text": [
      "391/391 [==============================] - 868s 2s/step - loss: 0.3339 - accuracy: 0.8559 - val_loss: 0.3493 - val_accuracy: 0.8370\n",
      "Epoch 4/50\n",
      "391/391 [==============================] - ETA: 0s - loss: 0.3199 - accuracy: 0.8623\n",
      "Epoch 00004: val_loss improved from 0.34930 to 0.33948, saving model to best_base_model.tf\n",
      "INFO:tensorflow:Assets written to: best_base_model.tf/assets\n"
     ]
    },
    {
     "name": "stderr",
     "output_type": "stream",
     "text": [
      "INFO:tensorflow:Assets written to: best_base_model.tf/assets\n"
     ]
    },
    {
     "name": "stdout",
     "output_type": "stream",
     "text": [
      "391/391 [==============================] - 899s 2s/step - loss: 0.3199 - accuracy: 0.8623 - val_loss: 0.3395 - val_accuracy: 0.8255\n",
      "Epoch 5/50\n",
      "391/391 [==============================] - ETA: 0s - loss: 0.3103 - accuracy: 0.8679\n",
      "Epoch 00005: val_loss improved from 0.33948 to 0.31812, saving model to best_base_model.tf\n",
      "INFO:tensorflow:Assets written to: best_base_model.tf/assets\n"
     ]
    },
    {
     "name": "stderr",
     "output_type": "stream",
     "text": [
      "INFO:tensorflow:Assets written to: best_base_model.tf/assets\n"
     ]
    },
    {
     "name": "stdout",
     "output_type": "stream",
     "text": [
      "391/391 [==============================] - 880s 2s/step - loss: 0.3103 - accuracy: 0.8679 - val_loss: 0.3181 - val_accuracy: 0.8583\n",
      "Epoch 6/50\n",
      "391/391 [==============================] - ETA: 0s - loss: 0.3078 - accuracy: 0.8670\n",
      "Epoch 00006: val_loss improved from 0.31812 to 0.31539, saving model to best_base_model.tf\n",
      "INFO:tensorflow:Assets written to: best_base_model.tf/assets\n"
     ]
    },
    {
     "name": "stderr",
     "output_type": "stream",
     "text": [
      "INFO:tensorflow:Assets written to: best_base_model.tf/assets\n"
     ]
    },
    {
     "name": "stdout",
     "output_type": "stream",
     "text": [
      "391/391 [==============================] - 870s 2s/step - loss: 0.3078 - accuracy: 0.8670 - val_loss: 0.3154 - val_accuracy: 0.8589\n",
      "Epoch 7/50\n",
      "391/391 [==============================] - ETA: 0s - loss: 0.3056 - accuracy: 0.8694\n",
      "Epoch 00007: val_loss did not improve from 0.31539\n",
      "391/391 [==============================] - 793s 2s/step - loss: 0.3056 - accuracy: 0.8694 - val_loss: 0.3180 - val_accuracy: 0.8542\n",
      "Epoch 8/50\n",
      "391/391 [==============================] - ETA: 0s - loss: 0.3028 - accuracy: 0.8697\n",
      "Epoch 00008: val_loss did not improve from 0.31539\n",
      "391/391 [==============================] - 813s 2s/step - loss: 0.3028 - accuracy: 0.8697 - val_loss: 0.3264 - val_accuracy: 0.8620\n",
      "Epoch 00008: early stopping\n",
      "---- 7069.402263879776 seconds to evaluate the whole dataset ----\n"
     ]
    }
   ],
   "source": [
    "# train the LSTM sentiment base model.\n",
    "start_time = time.time() \n",
    "history = BaseModel.fit(train_dataset, epochs=50,\n",
    "                    validation_data=test_dataset,\n",
    "                    validation_steps=30,\n",
    "                    callbacks = callbackser)\n",
    "\n",
    "print('---- %s seconds to evaluate the whole dataset ----' % (time.time() - start_time))"
   ]
  },
  {
   "cell_type": "code",
   "execution_count": 9,
   "metadata": {},
   "outputs": [],
   "source": [
    "from tensorflow.keras.models import load_model\n",
    "#BaseModel.save('best_base_model.tf')   \n",
    "del BaseModel  # deletes the existing model variable in memory\n",
    "\n",
    "# returns a compiled model\n",
    "# identical to the previous one\n",
    "BaseModel = load_model('best_base_model.tf')"
   ]
  },
  {
   "cell_type": "code",
   "execution_count": 10,
   "metadata": {},
   "outputs": [],
   "source": [
    "# retrieve the best model history.  \n",
    "history = pd.read_csv('trainingBaseModel.log', sep=',', engine='python')"
   ]
  },
  {
   "cell_type": "code",
   "execution_count": 11,
   "metadata": {},
   "outputs": [
    {
     "name": "stdout",
     "output_type": "stream",
     "text": [
      "391/391 [==============================] - 196s 502ms/step - loss: 0.3114 - accuracy: 0.8586\n",
      "Test Loss: 0.3113817274570465\n",
      "Test Accuracy: 0.8585600256919861\n"
     ]
    }
   ],
   "source": [
    "test_loss, test_acc = BaseModel.evaluate(test_dataset)\n",
    "\n",
    "print('Test Loss: {}'.format(test_loss))\n",
    "print('Test Accuracy: {}'.format(test_acc))"
   ]
  },
  {
   "cell_type": "code",
   "execution_count": 12,
   "metadata": {},
   "outputs": [
    {
     "data": {
      "text/html": [
       "<div>\n",
       "<style scoped>\n",
       "    .dataframe tbody tr th:only-of-type {\n",
       "        vertical-align: middle;\n",
       "    }\n",
       "\n",
       "    .dataframe tbody tr th {\n",
       "        vertical-align: top;\n",
       "    }\n",
       "\n",
       "    .dataframe thead th {\n",
       "        text-align: right;\n",
       "    }\n",
       "</style>\n",
       "<table border=\"1\" class=\"dataframe\">\n",
       "  <thead>\n",
       "    <tr style=\"text-align: right;\">\n",
       "      <th></th>\n",
       "      <th>epoch</th>\n",
       "      <th>accuracy</th>\n",
       "      <th>loss</th>\n",
       "      <th>val_accuracy</th>\n",
       "      <th>val_loss</th>\n",
       "    </tr>\n",
       "  </thead>\n",
       "  <tbody>\n",
       "    <tr>\n",
       "      <th>0</th>\n",
       "      <td>0</td>\n",
       "      <td>0.56188</td>\n",
       "      <td>0.641487</td>\n",
       "      <td>0.811458</td>\n",
       "      <td>0.438006</td>\n",
       "    </tr>\n",
       "    <tr>\n",
       "      <th>1</th>\n",
       "      <td>1</td>\n",
       "      <td>0.83312</td>\n",
       "      <td>0.379944</td>\n",
       "      <td>0.849479</td>\n",
       "      <td>0.354006</td>\n",
       "    </tr>\n",
       "    <tr>\n",
       "      <th>2</th>\n",
       "      <td>2</td>\n",
       "      <td>0.85592</td>\n",
       "      <td>0.333882</td>\n",
       "      <td>0.836979</td>\n",
       "      <td>0.349296</td>\n",
       "    </tr>\n",
       "    <tr>\n",
       "      <th>3</th>\n",
       "      <td>3</td>\n",
       "      <td>0.86232</td>\n",
       "      <td>0.319930</td>\n",
       "      <td>0.825521</td>\n",
       "      <td>0.339477</td>\n",
       "    </tr>\n",
       "    <tr>\n",
       "      <th>4</th>\n",
       "      <td>4</td>\n",
       "      <td>0.86792</td>\n",
       "      <td>0.310296</td>\n",
       "      <td>0.858333</td>\n",
       "      <td>0.318119</td>\n",
       "    </tr>\n",
       "    <tr>\n",
       "      <th>5</th>\n",
       "      <td>5</td>\n",
       "      <td>0.86700</td>\n",
       "      <td>0.307784</td>\n",
       "      <td>0.858854</td>\n",
       "      <td>0.315395</td>\n",
       "    </tr>\n",
       "    <tr>\n",
       "      <th>6</th>\n",
       "      <td>6</td>\n",
       "      <td>0.86936</td>\n",
       "      <td>0.305607</td>\n",
       "      <td>0.854167</td>\n",
       "      <td>0.318037</td>\n",
       "    </tr>\n",
       "    <tr>\n",
       "      <th>7</th>\n",
       "      <td>7</td>\n",
       "      <td>0.86968</td>\n",
       "      <td>0.302812</td>\n",
       "      <td>0.861979</td>\n",
       "      <td>0.326406</td>\n",
       "    </tr>\n",
       "  </tbody>\n",
       "</table>\n",
       "</div>"
      ],
      "text/plain": [
       "   epoch  accuracy      loss  val_accuracy  val_loss\n",
       "0      0   0.56188  0.641487      0.811458  0.438006\n",
       "1      1   0.83312  0.379944      0.849479  0.354006\n",
       "2      2   0.85592  0.333882      0.836979  0.349296\n",
       "3      3   0.86232  0.319930      0.825521  0.339477\n",
       "4      4   0.86792  0.310296      0.858333  0.318119\n",
       "5      5   0.86700  0.307784      0.858854  0.315395\n",
       "6      6   0.86936  0.305607      0.854167  0.318037\n",
       "7      7   0.86968  0.302812      0.861979  0.326406"
      ]
     },
     "execution_count": 12,
     "metadata": {},
     "output_type": "execute_result"
    }
   ],
   "source": [
    "history"
   ]
  },
  {
   "cell_type": "code",
   "execution_count": 13,
   "metadata": {},
   "outputs": [
    {
     "data": {
      "image/png": "[encoded data removed]",
      "text/plain": [
       "<Figure size 1152x432 with 2 Axes>"
      ]
     },
     "metadata": {
      "needs_background": "light"
     },
     "output_type": "display_data"
    }
   ],
   "source": [
    "plt.figure(figsize=(16,6))\n",
    "plt.subplot(1,2,1)\n",
    "plot_graphs(history, 'accuracy')\n",
    "plt.subplot(1,2,2)\n",
    "plot_graphs(history, 'loss')"
   ]
  },
  {
   "cell_type": "code",
   "execution_count": null,
   "metadata": {},
   "outputs": [],
   "source": []
  }
 ],
 "metadata": {
  "kernelspec": {
   "display_name": "Python 3",
   "language": "python",
   "name": "python3"
  },
  "language_info": {
   "codemirror_mode": {
    "name": "ipython",
    "version": 3
   },
   "file_extension": ".py",
   "mimetype": "text/x-python",
   "name": "python",
   "nbconvert_exporter": "python",
   "pygments_lexer": "ipython3",
   "version": "3.7.4"
  }
 },
 "nbformat": 4,
 "nbformat_minor": 4
}
